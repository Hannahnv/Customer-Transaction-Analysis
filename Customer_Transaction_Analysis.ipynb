{
  "cells": [
    {
      "cell_type": "markdown",
      "metadata": {
        "id": "qrR06-TzMpwz"
      },
      "source": [
        "# Customer Transaction Analysis\n",
        "##### Author: Nguyen Vo Thuy Hang\n"
      ]
    },
    {
      "cell_type": "markdown",
      "metadata": {
        "id": "O0ucBtvrMpw1"
      },
      "source": [
        "## 1. Imports\n",
        "### 1.1. Import relevant libraries"
      ]
    },
    {
      "cell_type": "code",
      "execution_count": 1,
      "metadata": {
        "id": "ISNS3VdGMpw2"
      },
      "outputs": [],
      "source": [
        "import pandas as pd\n",
        "import numpy as np\n",
        "import seaborn as sns\n",
        "import matplotlib.pyplot as plt"
      ]
    },
    {
      "cell_type": "markdown",
      "metadata": {
        "id": "rRCiojU5Mpw2"
      },
      "source": [
        "### 1.2 Load the dataset into a dataframe"
      ]
    },
    {
      "cell_type": "code",
      "execution_count": 2,
      "metadata": {
        "colab": {
          "base_uri": "https://localhost:8080/",
          "height": 585
        },
        "id": "FRXaiC4EMpw3",
        "outputId": "c06adcf6-28cc-4775-a4c3-921306e482e9"
      },
      "outputs": [
        {
          "data": {
            "text/html": [
              "<div>\n",
              "<style scoped>\n",
              "    .dataframe tbody tr th:only-of-type {\n",
              "        vertical-align: middle;\n",
              "    }\n",
              "\n",
              "    .dataframe tbody tr th {\n",
              "        vertical-align: top;\n",
              "    }\n",
              "\n",
              "    .dataframe thead th {\n",
              "        text-align: right;\n",
              "    }\n",
              "</style>\n",
              "<table border=\"1\" class=\"dataframe\">\n",
              "  <thead>\n",
              "    <tr style=\"text-align: right;\">\n",
              "      <th></th>\n",
              "      <th>Row ID</th>\n",
              "      <th>Order ID</th>\n",
              "      <th>Order Date</th>\n",
              "      <th>Ship Date</th>\n",
              "      <th>Ship Mode</th>\n",
              "      <th>Customer ID</th>\n",
              "      <th>Customer Name</th>\n",
              "      <th>Segment</th>\n",
              "      <th>Country</th>\n",
              "      <th>City</th>\n",
              "      <th>...</th>\n",
              "      <th>Postal Code</th>\n",
              "      <th>Region</th>\n",
              "      <th>Product ID</th>\n",
              "      <th>Category</th>\n",
              "      <th>Sub-Category</th>\n",
              "      <th>Product Name</th>\n",
              "      <th>Sales</th>\n",
              "      <th>Quantity</th>\n",
              "      <th>Discount</th>\n",
              "      <th>Profit</th>\n",
              "    </tr>\n",
              "  </thead>\n",
              "  <tbody>\n",
              "    <tr>\n",
              "      <th>0</th>\n",
              "      <td>1</td>\n",
              "      <td>CA-2016-152156</td>\n",
              "      <td>11/08/2016</td>\n",
              "      <td>11/11/2016</td>\n",
              "      <td>Second Class</td>\n",
              "      <td>CG-12520</td>\n",
              "      <td>Claire Gute</td>\n",
              "      <td>Consumer</td>\n",
              "      <td>United States</td>\n",
              "      <td>Henderson</td>\n",
              "      <td>...</td>\n",
              "      <td>42420</td>\n",
              "      <td>South</td>\n",
              "      <td>FUR-BO-10001798</td>\n",
              "      <td>Furniture</td>\n",
              "      <td>Bookcases</td>\n",
              "      <td>Bush Somerset Collection Bookcase</td>\n",
              "      <td>261.9600</td>\n",
              "      <td>2</td>\n",
              "      <td>0.00</td>\n",
              "      <td>41.9136</td>\n",
              "    </tr>\n",
              "    <tr>\n",
              "      <th>1</th>\n",
              "      <td>2</td>\n",
              "      <td>CA-2016-152156</td>\n",
              "      <td>11/08/2016</td>\n",
              "      <td>11/11/2016</td>\n",
              "      <td>Second Class</td>\n",
              "      <td>CG-12520</td>\n",
              "      <td>Claire Gute</td>\n",
              "      <td>Consumer</td>\n",
              "      <td>United States</td>\n",
              "      <td>Henderson</td>\n",
              "      <td>...</td>\n",
              "      <td>42420</td>\n",
              "      <td>South</td>\n",
              "      <td>FUR-CH-10000454</td>\n",
              "      <td>Furniture</td>\n",
              "      <td>Chairs</td>\n",
              "      <td>Hon Deluxe Fabric Upholstered Stacking Chairs,...</td>\n",
              "      <td>731.9400</td>\n",
              "      <td>3</td>\n",
              "      <td>0.00</td>\n",
              "      <td>219.5820</td>\n",
              "    </tr>\n",
              "    <tr>\n",
              "      <th>2</th>\n",
              "      <td>3</td>\n",
              "      <td>CA-2016-138688</td>\n",
              "      <td>06/12/2016</td>\n",
              "      <td>6/16/2016</td>\n",
              "      <td>Second Class</td>\n",
              "      <td>DV-13045</td>\n",
              "      <td>Darrin Van Huff</td>\n",
              "      <td>Corporate</td>\n",
              "      <td>United States</td>\n",
              "      <td>Los Angeles</td>\n",
              "      <td>...</td>\n",
              "      <td>90036</td>\n",
              "      <td>West</td>\n",
              "      <td>OFF-LA-10000240</td>\n",
              "      <td>Office Supplies</td>\n",
              "      <td>Labels</td>\n",
              "      <td>Self-Adhesive Address Labels for Typewriters b...</td>\n",
              "      <td>14.6200</td>\n",
              "      <td>2</td>\n",
              "      <td>0.00</td>\n",
              "      <td>6.8714</td>\n",
              "    </tr>\n",
              "    <tr>\n",
              "      <th>3</th>\n",
              "      <td>4</td>\n",
              "      <td>US-2015-108966</td>\n",
              "      <td>10/11/2015</td>\n",
              "      <td>10/18/2015</td>\n",
              "      <td>Standard Class</td>\n",
              "      <td>SO-20335</td>\n",
              "      <td>Sean O'Donnell</td>\n",
              "      <td>Consumer</td>\n",
              "      <td>United States</td>\n",
              "      <td>Fort Lauderdale</td>\n",
              "      <td>...</td>\n",
              "      <td>33311</td>\n",
              "      <td>South</td>\n",
              "      <td>FUR-TA-10000577</td>\n",
              "      <td>Furniture</td>\n",
              "      <td>Tables</td>\n",
              "      <td>Bretford CR4500 Series Slim Rectangular Table</td>\n",
              "      <td>957.5775</td>\n",
              "      <td>5</td>\n",
              "      <td>0.45</td>\n",
              "      <td>-383.0310</td>\n",
              "    </tr>\n",
              "    <tr>\n",
              "      <th>4</th>\n",
              "      <td>5</td>\n",
              "      <td>US-2015-108966</td>\n",
              "      <td>10/11/2015</td>\n",
              "      <td>10/18/2015</td>\n",
              "      <td>Standard Class</td>\n",
              "      <td>SO-20335</td>\n",
              "      <td>Sean O'Donnell</td>\n",
              "      <td>Consumer</td>\n",
              "      <td>United States</td>\n",
              "      <td>Fort Lauderdale</td>\n",
              "      <td>...</td>\n",
              "      <td>33311</td>\n",
              "      <td>South</td>\n",
              "      <td>OFF-ST-10000760</td>\n",
              "      <td>Office Supplies</td>\n",
              "      <td>Storage</td>\n",
              "      <td>Eldon Fold 'N Roll Cart System</td>\n",
              "      <td>22.3680</td>\n",
              "      <td>2</td>\n",
              "      <td>0.20</td>\n",
              "      <td>2.5164</td>\n",
              "    </tr>\n",
              "  </tbody>\n",
              "</table>\n",
              "<p>5 rows × 21 columns</p>\n",
              "</div>"
            ],
            "text/plain": [
              "   Row ID        Order ID  Order Date   Ship Date       Ship Mode Customer ID  \\\n",
              "0       1  CA-2016-152156  11/08/2016  11/11/2016    Second Class    CG-12520   \n",
              "1       2  CA-2016-152156  11/08/2016  11/11/2016    Second Class    CG-12520   \n",
              "2       3  CA-2016-138688  06/12/2016   6/16/2016    Second Class    DV-13045   \n",
              "3       4  US-2015-108966  10/11/2015  10/18/2015  Standard Class    SO-20335   \n",
              "4       5  US-2015-108966  10/11/2015  10/18/2015  Standard Class    SO-20335   \n",
              "\n",
              "     Customer Name    Segment        Country             City  ...  \\\n",
              "0      Claire Gute   Consumer  United States        Henderson  ...   \n",
              "1      Claire Gute   Consumer  United States        Henderson  ...   \n",
              "2  Darrin Van Huff  Corporate  United States      Los Angeles  ...   \n",
              "3   Sean O'Donnell   Consumer  United States  Fort Lauderdale  ...   \n",
              "4   Sean O'Donnell   Consumer  United States  Fort Lauderdale  ...   \n",
              "\n",
              "  Postal Code  Region       Product ID         Category Sub-Category  \\\n",
              "0       42420   South  FUR-BO-10001798        Furniture    Bookcases   \n",
              "1       42420   South  FUR-CH-10000454        Furniture       Chairs   \n",
              "2       90036    West  OFF-LA-10000240  Office Supplies       Labels   \n",
              "3       33311   South  FUR-TA-10000577        Furniture       Tables   \n",
              "4       33311   South  OFF-ST-10000760  Office Supplies      Storage   \n",
              "\n",
              "                                        Product Name     Sales  Quantity  \\\n",
              "0                  Bush Somerset Collection Bookcase  261.9600         2   \n",
              "1  Hon Deluxe Fabric Upholstered Stacking Chairs,...  731.9400         3   \n",
              "2  Self-Adhesive Address Labels for Typewriters b...   14.6200         2   \n",
              "3      Bretford CR4500 Series Slim Rectangular Table  957.5775         5   \n",
              "4                     Eldon Fold 'N Roll Cart System   22.3680         2   \n",
              "\n",
              "   Discount    Profit  \n",
              "0      0.00   41.9136  \n",
              "1      0.00  219.5820  \n",
              "2      0.00    6.8714  \n",
              "3      0.45 -383.0310  \n",
              "4      0.20    2.5164  \n",
              "\n",
              "[5 rows x 21 columns]"
            ]
          },
          "execution_count": 2,
          "metadata": {},
          "output_type": "execute_result"
        }
      ],
      "source": [
        "df = pd.read_csv('C:/Users/Welcome/Downloads/US_Retail_Data.csv', encoding='ISO-8859-1')\n",
        "df.head()\n"
      ]
    },
    {
      "cell_type": "markdown",
      "metadata": {
        "id": "VP-fPadpMpw3"
      },
      "source": [
        "## 2. Data preprocessing"
      ]
    },
    {
      "cell_type": "code",
      "execution_count": 4,
      "metadata": {
        "colab": {
          "base_uri": "https://localhost:8080/"
        },
        "id": "uVaJSTomMpw4",
        "outputId": "2de94426-5e98-473b-99dd-a2e89fe5c3bc"
      },
      "outputs": [
        {
          "name": "stdout",
          "output_type": "stream",
          "text": [
            "<class 'pandas.core.frame.DataFrame'>\n",
            "RangeIndex: 9994 entries, 0 to 9993\n",
            "Data columns (total 21 columns):\n",
            " #   Column         Non-Null Count  Dtype  \n",
            "---  ------         --------------  -----  \n",
            " 0   Row ID         9994 non-null   int64  \n",
            " 1   Order ID       9994 non-null   object \n",
            " 2   Order Date     9994 non-null   object \n",
            " 3   Ship Date      9994 non-null   object \n",
            " 4   Ship Mode      9994 non-null   object \n",
            " 5   Customer ID    9994 non-null   object \n",
            " 6   Customer Name  9994 non-null   object \n",
            " 7   Segment        9994 non-null   object \n",
            " 8   Country        9994 non-null   object \n",
            " 9   City           9994 non-null   object \n",
            " 10  State          9994 non-null   object \n",
            " 11  Postal Code    9994 non-null   int64  \n",
            " 12  Region         9994 non-null   object \n",
            " 13  Product ID     9994 non-null   object \n",
            " 14  Category       9994 non-null   object \n",
            " 15  Sub-Category   9994 non-null   object \n",
            " 16  Product Name   9994 non-null   object \n",
            " 17  Sales          9994 non-null   float64\n",
            " 18  Quantity       9994 non-null   int64  \n",
            " 19  Discount       9994 non-null   float64\n",
            " 20  Profit         9994 non-null   float64\n",
            "dtypes: float64(3), int64(3), object(15)\n",
            "memory usage: 1.6+ MB\n"
          ]
        }
      ],
      "source": [
        "df.info()"
      ]
    },
    {
      "cell_type": "code",
      "execution_count": 5,
      "metadata": {
        "colab": {
          "base_uri": "https://localhost:8080/"
        },
        "id": "pAsGc7FdMpw4",
        "outputId": "ee241d32-73fd-40ae-d203-6f818c597e7f"
      },
      "outputs": [
        {
          "data": {
            "text/plain": [
              "(9994, 21)"
            ]
          },
          "execution_count": 5,
          "metadata": {},
          "output_type": "execute_result"
        }
      ],
      "source": [
        "df.shape"
      ]
    },
    {
      "cell_type": "code",
      "execution_count": 6,
      "metadata": {
        "colab": {
          "base_uri": "https://localhost:8080/"
        },
        "id": "G7loBCWBMpw4",
        "outputId": "cc134b78-92ab-4018-9904-e12a16eaabd5"
      },
      "outputs": [
        {
          "data": {
            "text/plain": [
              "Row ID             int64\n",
              "Order ID          object\n",
              "Order Date        object\n",
              "Ship Date         object\n",
              "Ship Mode         object\n",
              "Customer ID       object\n",
              "Customer Name     object\n",
              "Segment           object\n",
              "Country           object\n",
              "City              object\n",
              "State             object\n",
              "Postal Code        int64\n",
              "Region            object\n",
              "Product ID        object\n",
              "Category          object\n",
              "Sub-Category      object\n",
              "Product Name      object\n",
              "Sales            float64\n",
              "Quantity           int64\n",
              "Discount         float64\n",
              "Profit           float64\n",
              "dtype: object"
            ]
          },
          "execution_count": 6,
          "metadata": {},
          "output_type": "execute_result"
        }
      ],
      "source": [
        "df.dtypes"
      ]
    },
    {
      "cell_type": "code",
      "execution_count": 7,
      "metadata": {
        "colab": {
          "base_uri": "https://localhost:8080/"
        },
        "id": "kAlBwrfBMpw4",
        "outputId": "d47aa73f-c6ae-4200-e7d8-8ad42f9dae7e"
      },
      "outputs": [
        {
          "data": {
            "text/plain": [
              "(9994, 21)"
            ]
          },
          "execution_count": 7,
          "metadata": {},
          "output_type": "execute_result"
        }
      ],
      "source": [
        "df.drop_duplicates().shape"
      ]
    },
    {
      "cell_type": "code",
      "execution_count": 8,
      "metadata": {
        "colab": {
          "base_uri": "https://localhost:8080/"
        },
        "id": "5TkU7Oq0Mpw5",
        "outputId": "b1d55c47-9b90-41cc-f861-6a911b94226c"
      },
      "outputs": [
        {
          "data": {
            "text/plain": [
              "0"
            ]
          },
          "execution_count": 8,
          "metadata": {},
          "output_type": "execute_result"
        }
      ],
      "source": [
        "df.duplicated().sum()"
      ]
    },
    {
      "cell_type": "code",
      "execution_count": 9,
      "metadata": {
        "colab": {
          "base_uri": "https://localhost:8080/"
        },
        "id": "ne3xFEhAMpw5",
        "outputId": "a5a84bfc-926a-46a2-93c9-b4c369e25a83"
      },
      "outputs": [
        {
          "data": {
            "text/plain": [
              "Row ID           0\n",
              "Order ID         0\n",
              "Order Date       0\n",
              "Ship Date        0\n",
              "Ship Mode        0\n",
              "Customer ID      0\n",
              "Customer Name    0\n",
              "Segment          0\n",
              "Country          0\n",
              "City             0\n",
              "State            0\n",
              "Postal Code      0\n",
              "Region           0\n",
              "Product ID       0\n",
              "Category         0\n",
              "Sub-Category     0\n",
              "Product Name     0\n",
              "Sales            0\n",
              "Quantity         0\n",
              "Discount         0\n",
              "Profit           0\n",
              "dtype: int64"
            ]
          },
          "execution_count": 9,
          "metadata": {},
          "output_type": "execute_result"
        }
      ],
      "source": [
        "df.isnull().sum()"
      ]
    },
    {
      "cell_type": "code",
      "execution_count": 10,
      "metadata": {
        "colab": {
          "base_uri": "https://localhost:8080/"
        },
        "id": "3dfjxvW7Mpw5",
        "outputId": "68795a82-231c-4263-d536-3e89dfa7c57e"
      },
      "outputs": [
        {
          "name": "stderr",
          "output_type": "stream",
          "text": [
            "/usr/local/lib/python3.10/dist-packages/sklearn/base.py:439: UserWarning: X does not have valid feature names, but IsolationForest was fitted with feature names\n",
            "  warnings.warn(\n"
          ]
        },
        {
          "name": "stdout",
          "output_type": "stream",
          "text": [
            "Number of outliers: 50\n"
          ]
        }
      ],
      "source": [
        "from sklearn.ensemble import IsolationForest\n",
        "\n",
        "def detect_outliers(dataframe,contamination):\n",
        "\n",
        "    a=list(dataframe.select_dtypes(['int64']).columns)+list(dataframe.select_dtypes(['float64']).columns)\n",
        "    model=IsolationForest(contamination=contamination)\n",
        "    model.fit(dataframe[a])\n",
        "    outliers = model.predict(dataframe[a]) ==-1\n",
        "    return outliers\n",
        "\n",
        "contamination=0.005\n",
        "index=detect_outliers(df[['Sales','Quantity','Discount','Profit']],contamination)\n",
        "lign,col=df[index].shape\n",
        "print(\"Number of outliers: {}\".format(lign))"
      ]
    },
    {
      "cell_type": "code",
      "execution_count": 11,
      "metadata": {
        "colab": {
          "base_uri": "https://localhost:8080/",
          "height": 300
        },
        "id": "r5SzNZS7Mpw5",
        "outputId": "0e4a1aa7-de69-422d-deca-586776f07412"
      },
      "outputs": [
        {
          "data": {
            "text/html": [
              "\n",
              "  <div id=\"df-ce969e52-1b6a-460c-b3ee-f00c3d5f4eb4\" class=\"colab-df-container\">\n",
              "    <div>\n",
              "<style scoped>\n",
              "    .dataframe tbody tr th:only-of-type {\n",
              "        vertical-align: middle;\n",
              "    }\n",
              "\n",
              "    .dataframe tbody tr th {\n",
              "        vertical-align: top;\n",
              "    }\n",
              "\n",
              "    .dataframe thead th {\n",
              "        text-align: right;\n",
              "    }\n",
              "</style>\n",
              "<table border=\"1\" class=\"dataframe\">\n",
              "  <thead>\n",
              "    <tr style=\"text-align: right;\">\n",
              "      <th></th>\n",
              "      <th>Row ID</th>\n",
              "      <th>Postal Code</th>\n",
              "      <th>Sales</th>\n",
              "      <th>Quantity</th>\n",
              "      <th>Discount</th>\n",
              "      <th>Profit</th>\n",
              "    </tr>\n",
              "  </thead>\n",
              "  <tbody>\n",
              "    <tr>\n",
              "      <th>count</th>\n",
              "      <td>9994.000000</td>\n",
              "      <td>9994.000000</td>\n",
              "      <td>9994.000000</td>\n",
              "      <td>9994.000000</td>\n",
              "      <td>9994.000000</td>\n",
              "      <td>9994.000000</td>\n",
              "    </tr>\n",
              "    <tr>\n",
              "      <th>mean</th>\n",
              "      <td>4997.500000</td>\n",
              "      <td>55190.379428</td>\n",
              "      <td>229.858001</td>\n",
              "      <td>3.789574</td>\n",
              "      <td>0.156203</td>\n",
              "      <td>28.656896</td>\n",
              "    </tr>\n",
              "    <tr>\n",
              "      <th>std</th>\n",
              "      <td>2885.163629</td>\n",
              "      <td>32063.693350</td>\n",
              "      <td>623.245101</td>\n",
              "      <td>2.225110</td>\n",
              "      <td>0.206452</td>\n",
              "      <td>234.260108</td>\n",
              "    </tr>\n",
              "    <tr>\n",
              "      <th>min</th>\n",
              "      <td>1.000000</td>\n",
              "      <td>1040.000000</td>\n",
              "      <td>0.444000</td>\n",
              "      <td>1.000000</td>\n",
              "      <td>0.000000</td>\n",
              "      <td>-6599.978000</td>\n",
              "    </tr>\n",
              "    <tr>\n",
              "      <th>25%</th>\n",
              "      <td>2499.250000</td>\n",
              "      <td>23223.000000</td>\n",
              "      <td>17.280000</td>\n",
              "      <td>2.000000</td>\n",
              "      <td>0.000000</td>\n",
              "      <td>1.728750</td>\n",
              "    </tr>\n",
              "    <tr>\n",
              "      <th>50%</th>\n",
              "      <td>4997.500000</td>\n",
              "      <td>56430.500000</td>\n",
              "      <td>54.490000</td>\n",
              "      <td>3.000000</td>\n",
              "      <td>0.200000</td>\n",
              "      <td>8.666500</td>\n",
              "    </tr>\n",
              "    <tr>\n",
              "      <th>75%</th>\n",
              "      <td>7495.750000</td>\n",
              "      <td>90008.000000</td>\n",
              "      <td>209.940000</td>\n",
              "      <td>5.000000</td>\n",
              "      <td>0.200000</td>\n",
              "      <td>29.364000</td>\n",
              "    </tr>\n",
              "    <tr>\n",
              "      <th>max</th>\n",
              "      <td>9994.000000</td>\n",
              "      <td>99301.000000</td>\n",
              "      <td>22638.480000</td>\n",
              "      <td>14.000000</td>\n",
              "      <td>0.800000</td>\n",
              "      <td>8399.976000</td>\n",
              "    </tr>\n",
              "  </tbody>\n",
              "</table>\n",
              "</div>\n",
              "    <div class=\"colab-df-buttons\">\n",
              "\n",
              "  <div class=\"colab-df-container\">\n",
              "    <button class=\"colab-df-convert\" onclick=\"convertToInteractive('df-ce969e52-1b6a-460c-b3ee-f00c3d5f4eb4')\"\n",
              "            title=\"Convert this dataframe to an interactive table.\"\n",
              "            style=\"display:none;\">\n",
              "\n",
              "  <svg xmlns=\"http://www.w3.org/2000/svg\" height=\"24px\" viewBox=\"0 -960 960 960\">\n",
              "    <path d=\"M120-120v-720h720v720H120Zm60-500h600v-160H180v160Zm220 220h160v-160H400v160Zm0 220h160v-160H400v160ZM180-400h160v-160H180v160Zm440 0h160v-160H620v160ZM180-180h160v-160H180v160Zm440 0h160v-160H620v160Z\"/>\n",
              "  </svg>\n",
              "    </button>\n",
              "\n",
              "  <style>\n",
              "    .colab-df-container {\n",
              "      display:flex;\n",
              "      gap: 12px;\n",
              "    }\n",
              "\n",
              "    .colab-df-convert {\n",
              "      background-color: #E8F0FE;\n",
              "      border: none;\n",
              "      border-radius: 50%;\n",
              "      cursor: pointer;\n",
              "      display: none;\n",
              "      fill: #1967D2;\n",
              "      height: 32px;\n",
              "      padding: 0 0 0 0;\n",
              "      width: 32px;\n",
              "    }\n",
              "\n",
              "    .colab-df-convert:hover {\n",
              "      background-color: #E2EBFA;\n",
              "      box-shadow: 0px 1px 2px rgba(60, 64, 67, 0.3), 0px 1px 3px 1px rgba(60, 64, 67, 0.15);\n",
              "      fill: #174EA6;\n",
              "    }\n",
              "\n",
              "    .colab-df-buttons div {\n",
              "      margin-bottom: 4px;\n",
              "    }\n",
              "\n",
              "    [theme=dark] .colab-df-convert {\n",
              "      background-color: #3B4455;\n",
              "      fill: #D2E3FC;\n",
              "    }\n",
              "\n",
              "    [theme=dark] .colab-df-convert:hover {\n",
              "      background-color: #434B5C;\n",
              "      box-shadow: 0px 1px 3px 1px rgba(0, 0, 0, 0.15);\n",
              "      filter: drop-shadow(0px 1px 2px rgba(0, 0, 0, 0.3));\n",
              "      fill: #FFFFFF;\n",
              "    }\n",
              "  </style>\n",
              "\n",
              "    <script>\n",
              "      const buttonEl =\n",
              "        document.querySelector('#df-ce969e52-1b6a-460c-b3ee-f00c3d5f4eb4 button.colab-df-convert');\n",
              "      buttonEl.style.display =\n",
              "        google.colab.kernel.accessAllowed ? 'block' : 'none';\n",
              "\n",
              "      async function convertToInteractive(key) {\n",
              "        const element = document.querySelector('#df-ce969e52-1b6a-460c-b3ee-f00c3d5f4eb4');\n",
              "        const dataTable =\n",
              "          await google.colab.kernel.invokeFunction('convertToInteractive',\n",
              "                                                    [key], {});\n",
              "        if (!dataTable) return;\n",
              "\n",
              "        const docLinkHtml = 'Like what you see? Visit the ' +\n",
              "          '<a target=\"_blank\" href=https://colab.research.google.com/notebooks/data_table.ipynb>data table notebook</a>'\n",
              "          + ' to learn more about interactive tables.';\n",
              "        element.innerHTML = '';\n",
              "        dataTable['output_type'] = 'display_data';\n",
              "        await google.colab.output.renderOutput(dataTable, element);\n",
              "        const docLink = document.createElement('div');\n",
              "        docLink.innerHTML = docLinkHtml;\n",
              "        element.appendChild(docLink);\n",
              "      }\n",
              "    </script>\n",
              "  </div>\n",
              "\n",
              "\n",
              "<div id=\"df-bf677687-9392-4032-a1e9-4b0d336bc260\">\n",
              "  <button class=\"colab-df-quickchart\" onclick=\"quickchart('df-bf677687-9392-4032-a1e9-4b0d336bc260')\"\n",
              "            title=\"Suggest charts.\"\n",
              "            style=\"display:none;\">\n",
              "\n",
              "<svg xmlns=\"http://www.w3.org/2000/svg\" height=\"24px\"viewBox=\"0 0 24 24\"\n",
              "     width=\"24px\">\n",
              "    <g>\n",
              "        <path d=\"M19 3H5c-1.1 0-2 .9-2 2v14c0 1.1.9 2 2 2h14c1.1 0 2-.9 2-2V5c0-1.1-.9-2-2-2zM9 17H7v-7h2v7zm4 0h-2V7h2v10zm4 0h-2v-4h2v4z\"/>\n",
              "    </g>\n",
              "</svg>\n",
              "  </button>\n",
              "\n",
              "<style>\n",
              "  .colab-df-quickchart {\n",
              "      --bg-color: #E8F0FE;\n",
              "      --fill-color: #1967D2;\n",
              "      --hover-bg-color: #E2EBFA;\n",
              "      --hover-fill-color: #174EA6;\n",
              "      --disabled-fill-color: #AAA;\n",
              "      --disabled-bg-color: #DDD;\n",
              "  }\n",
              "\n",
              "  [theme=dark] .colab-df-quickchart {\n",
              "      --bg-color: #3B4455;\n",
              "      --fill-color: #D2E3FC;\n",
              "      --hover-bg-color: #434B5C;\n",
              "      --hover-fill-color: #FFFFFF;\n",
              "      --disabled-bg-color: #3B4455;\n",
              "      --disabled-fill-color: #666;\n",
              "  }\n",
              "\n",
              "  .colab-df-quickchart {\n",
              "    background-color: var(--bg-color);\n",
              "    border: none;\n",
              "    border-radius: 50%;\n",
              "    cursor: pointer;\n",
              "    display: none;\n",
              "    fill: var(--fill-color);\n",
              "    height: 32px;\n",
              "    padding: 0;\n",
              "    width: 32px;\n",
              "  }\n",
              "\n",
              "  .colab-df-quickchart:hover {\n",
              "    background-color: var(--hover-bg-color);\n",
              "    box-shadow: 0 1px 2px rgba(60, 64, 67, 0.3), 0 1px 3px 1px rgba(60, 64, 67, 0.15);\n",
              "    fill: var(--button-hover-fill-color);\n",
              "  }\n",
              "\n",
              "  .colab-df-quickchart-complete:disabled,\n",
              "  .colab-df-quickchart-complete:disabled:hover {\n",
              "    background-color: var(--disabled-bg-color);\n",
              "    fill: var(--disabled-fill-color);\n",
              "    box-shadow: none;\n",
              "  }\n",
              "\n",
              "  .colab-df-spinner {\n",
              "    border: 2px solid var(--fill-color);\n",
              "    border-color: transparent;\n",
              "    border-bottom-color: var(--fill-color);\n",
              "    animation:\n",
              "      spin 1s steps(1) infinite;\n",
              "  }\n",
              "\n",
              "  @keyframes spin {\n",
              "    0% {\n",
              "      border-color: transparent;\n",
              "      border-bottom-color: var(--fill-color);\n",
              "      border-left-color: var(--fill-color);\n",
              "    }\n",
              "    20% {\n",
              "      border-color: transparent;\n",
              "      border-left-color: var(--fill-color);\n",
              "      border-top-color: var(--fill-color);\n",
              "    }\n",
              "    30% {\n",
              "      border-color: transparent;\n",
              "      border-left-color: var(--fill-color);\n",
              "      border-top-color: var(--fill-color);\n",
              "      border-right-color: var(--fill-color);\n",
              "    }\n",
              "    40% {\n",
              "      border-color: transparent;\n",
              "      border-right-color: var(--fill-color);\n",
              "      border-top-color: var(--fill-color);\n",
              "    }\n",
              "    60% {\n",
              "      border-color: transparent;\n",
              "      border-right-color: var(--fill-color);\n",
              "    }\n",
              "    80% {\n",
              "      border-color: transparent;\n",
              "      border-right-color: var(--fill-color);\n",
              "      border-bottom-color: var(--fill-color);\n",
              "    }\n",
              "    90% {\n",
              "      border-color: transparent;\n",
              "      border-bottom-color: var(--fill-color);\n",
              "    }\n",
              "  }\n",
              "</style>\n",
              "\n",
              "  <script>\n",
              "    async function quickchart(key) {\n",
              "      const quickchartButtonEl =\n",
              "        document.querySelector('#' + key + ' button');\n",
              "      quickchartButtonEl.disabled = true;  // To prevent multiple clicks.\n",
              "      quickchartButtonEl.classList.add('colab-df-spinner');\n",
              "      try {\n",
              "        const charts = await google.colab.kernel.invokeFunction(\n",
              "            'suggestCharts', [key], {});\n",
              "      } catch (error) {\n",
              "        console.error('Error during call to suggestCharts:', error);\n",
              "      }\n",
              "      quickchartButtonEl.classList.remove('colab-df-spinner');\n",
              "      quickchartButtonEl.classList.add('colab-df-quickchart-complete');\n",
              "    }\n",
              "    (() => {\n",
              "      let quickchartButtonEl =\n",
              "        document.querySelector('#df-bf677687-9392-4032-a1e9-4b0d336bc260 button');\n",
              "      quickchartButtonEl.style.display =\n",
              "        google.colab.kernel.accessAllowed ? 'block' : 'none';\n",
              "    })();\n",
              "  </script>\n",
              "</div>\n",
              "    </div>\n",
              "  </div>\n"
            ],
            "text/plain": [
              "            Row ID   Postal Code         Sales     Quantity     Discount  \\\n",
              "count  9994.000000   9994.000000   9994.000000  9994.000000  9994.000000   \n",
              "mean   4997.500000  55190.379428    229.858001     3.789574     0.156203   \n",
              "std    2885.163629  32063.693350    623.245101     2.225110     0.206452   \n",
              "min       1.000000   1040.000000      0.444000     1.000000     0.000000   \n",
              "25%    2499.250000  23223.000000     17.280000     2.000000     0.000000   \n",
              "50%    4997.500000  56430.500000     54.490000     3.000000     0.200000   \n",
              "75%    7495.750000  90008.000000    209.940000     5.000000     0.200000   \n",
              "max    9994.000000  99301.000000  22638.480000    14.000000     0.800000   \n",
              "\n",
              "            Profit  \n",
              "count  9994.000000  \n",
              "mean     28.656896  \n",
              "std     234.260108  \n",
              "min   -6599.978000  \n",
              "25%       1.728750  \n",
              "50%       8.666500  \n",
              "75%      29.364000  \n",
              "max    8399.976000  "
            ]
          },
          "execution_count": 11,
          "metadata": {},
          "output_type": "execute_result"
        }
      ],
      "source": [
        "df.describe()"
      ]
    },
    {
      "cell_type": "markdown",
      "metadata": {
        "id": "8rJB2dhuMpw6"
      },
      "source": [
        "## 3. Exploratory data analysis"
      ]
    },
    {
      "cell_type": "markdown",
      "metadata": {
        "id": "eHJK65m4Mpw6"
      },
      "source": [
        "### 3.1 Orders, Products, and Customers"
      ]
    },
    {
      "cell_type": "code",
      "execution_count": 12,
      "metadata": {
        "colab": {
          "base_uri": "https://localhost:8080/"
        },
        "id": "QA9wMhe2Mpw6",
        "outputId": "29f6dc6f-dcae-4c26-aed1-0b8cfaaa244f"
      },
      "outputs": [
        {
          "name": "stdout",
          "output_type": "stream",
          "text": [
            "Total number of orders:  5009\n",
            "Total number of products:  1862\n",
            "Total number of customers:  793\n"
          ]
        }
      ],
      "source": [
        "print('Total number of orders: ',df['Order ID'].nunique())\n",
        "print('Total number of products: ', df['Product ID'].nunique())\n",
        "print('Total number of customers: ', df['Customer ID'].nunique())"
      ]
    },
    {
      "cell_type": "markdown",
      "metadata": {
        "id": "Vop9YrLhMpw6"
      },
      "source": [
        "### 3.2 Category"
      ]
    },
    {
      "cell_type": "code",
      "execution_count": 13,
      "metadata": {
        "colab": {
          "base_uri": "https://localhost:8080/"
        },
        "id": "Jp1a9NYNMpw6",
        "outputId": "9c21c247-9f40-4572-9440-cd32fc017693"
      },
      "outputs": [
        {
          "data": {
            "text/plain": [
              "Office Supplies    6026\n",
              "Furniture          2121\n",
              "Technology         1847\n",
              "Name: Category, dtype: int64"
            ]
          },
          "execution_count": 13,
          "metadata": {},
          "output_type": "execute_result"
        }
      ],
      "source": [
        "df['Category'].value_counts()"
      ]
    },
    {
      "cell_type": "code",
      "execution_count": 14,
      "metadata": {
        "colab": {
          "base_uri": "https://localhost:8080/",
          "height": 410
        },
        "id": "8Sz3p48bMpw6",
        "outputId": "ffe2a9d3-9a9e-4116-cfb2-d56186092716"
      },
      "outputs": [
        {
          "data": {
            "image/png": "[encoded data removed]",
            "text/plain": [
              "<Figure size 600x400 with 1 Axes>"
            ]
          },
          "metadata": {},
          "output_type": "display_data"
        }
      ],
      "source": [
        "plt.figure(figsize=(6,4))\n",
        "df_sorted=df['Category'].value_counts().sort_values(ascending=False).index\n",
        "sns.countplot(x='Category', data=df,order=df_sorted)\n",
        "plt.title('Number of products by Category')\n",
        "plt.show()"
      ]
    },
    {
      "cell_type": "markdown",
      "metadata": {
        "id": "YxGmMR6-Mpw7"
      },
      "source": [
        "### 3.3 Sales"
      ]
    },
    {
      "cell_type": "code",
      "execution_count": 15,
      "metadata": {
        "colab": {
          "base_uri": "https://localhost:8080/"
        },
        "id": "m_NkLJQjMpw7",
        "outputId": "b9ddec72-7717-4d0d-8e8a-60fa1cd43f20"
      },
      "outputs": [
        {
          "data": {
            "text/plain": [
              "count     9994.000000\n",
              "mean       229.858001\n",
              "std        623.245101\n",
              "min          0.444000\n",
              "25%         17.280000\n",
              "50%         54.490000\n",
              "75%        209.940000\n",
              "max      22638.480000\n",
              "Name: Sales, dtype: float64"
            ]
          },
          "execution_count": 15,
          "metadata": {},
          "output_type": "execute_result"
        }
      ],
      "source": [
        "df['Sales'].describe()"
      ]
    },
    {
      "cell_type": "markdown",
      "metadata": {
        "id": "b9sK74kIMpw7"
      },
      "source": [
        "In general, these statistics indicate that there is a large variability in the sales values between transactions, with some transactions having very high values compared to the majority of the other transactions"
      ]
    },
    {
      "cell_type": "code",
      "execution_count": 6,
      "metadata": {
        "colab": {
          "base_uri": "https://localhost:8080/",
          "height": 601
        },
        "id": "ee39qeYvMpw7",
        "outputId": "7f6e273b-30fe-430d-f5f2-cc6e46a1c544"
      },
      "outputs": [
        {
          "data": {
            "text/plain": [
              "(array([9.618e+03, 2.580e+02, 6.800e+01, 2.300e+01, 1.200e+01, 1.000e+00,\n",
              "        1.000e+00, 5.000e+00, 3.000e+00, 2.000e+00, 0.000e+00, 0.000e+00,\n",
              "        1.000e+00, 0.000e+00, 0.000e+00, 1.000e+00, 0.000e+00, 0.000e+00,\n",
              "        0.000e+00, 1.000e+00]),\n",
              " array([4.44000000e-01, 1.13234580e+03, 2.26424760e+03, 3.39614940e+03,\n",
              "        4.52805120e+03, 5.65995300e+03, 6.79185480e+03, 7.92375660e+03,\n",
              "        9.05565840e+03, 1.01875602e+04, 1.13194620e+04, 1.24513638e+04,\n",
              "        1.35832656e+04, 1.47151674e+04, 1.58470692e+04, 1.69789710e+04,\n",
              "        1.81108728e+04, 1.92427746e+04, 2.03746764e+04, 2.15065782e+04,\n",
              "        2.26384800e+04]),\n",
              " <BarContainer object of 20 artists>)"
            ]
          },
          "execution_count": 6,
          "metadata": {},
          "output_type": "execute_result"
        },
        {
          "data": {
            "image/png": "[encoded data removed]",
            "text/plain": [
              "<Figure size 640x480 with 1 Axes>"
            ]
          },
          "metadata": {},
          "output_type": "display_data"
        }
      ],
      "source": [
        "plt.hist(df.Sales, bins=20)"
      ]
    },
    {
      "cell_type": "markdown",
      "metadata": {
        "id": "BeYHBLfUMpw7"
      },
      "source": [
        "### 3.4 Quantity"
      ]
    },
    {
      "cell_type": "code",
      "execution_count": 17,
      "metadata": {
        "colab": {
          "base_uri": "https://localhost:8080/",
          "height": 410
        },
        "id": "t4GxXK7KMpw7",
        "outputId": "8fa54c76-6973-4071-9cad-ba48a13b7c2f"
      },
      "outputs": [
        {
          "data": {
            "image/png": "[encoded data removed]",
            "text/plain": [
              "<Figure size 600x400 with 1 Axes>"
            ]
          },
          "metadata": {},
          "output_type": "display_data"
        }
      ],
      "source": [
        "plt.figure(figsize=(6,4))\n",
        "sns.countplot(x='Quantity',data=df)\n",
        "plt.title('Number of transactions by Quantity')\n",
        "plt.show()"
      ]
    },
    {
      "cell_type": "markdown",
      "metadata": {
        "id": "9dj6ufo2Mpw8"
      },
      "source": [
        "The most common quantities were 2 and 3, accounting for approximately 50%. Transactions involving 4 and 5 quantities were less popular, but their observations were in mid-level, at around 1250 observations. Higher than 10 quantities were less common, just occuring in a small number of transactions."
      ]
    },
    {
      "cell_type": "markdown",
      "metadata": {
        "id": "6BcU1pVEMpw8"
      },
      "source": [
        "### 3.5 Ship Mode"
      ]
    },
    {
      "cell_type": "code",
      "execution_count": 18,
      "metadata": {
        "colab": {
          "base_uri": "https://localhost:8080/"
        },
        "id": "hV7LHzJpMpw8",
        "outputId": "4d33d426-04a4-42f9-939d-093ac629e039"
      },
      "outputs": [
        {
          "data": {
            "text/plain": [
              "Standard Class    5968\n",
              "Second Class      1945\n",
              "First Class       1538\n",
              "Same Day           543\n",
              "Name: Ship Mode, dtype: int64"
            ]
          },
          "execution_count": 18,
          "metadata": {},
          "output_type": "execute_result"
        }
      ],
      "source": [
        "df['Ship Mode'].value_counts()"
      ]
    },
    {
      "cell_type": "code",
      "execution_count": 19,
      "metadata": {
        "colab": {
          "base_uri": "https://localhost:8080/",
          "height": 410
        },
        "id": "RyQ9zkn_Mpw8",
        "outputId": "b23234cc-fd3f-4814-f6aa-a90632a0e2b4"
      },
      "outputs": [
        {
          "data": {
            "image/png": "[encoded data removed]",
            "text/plain": [
              "<Figure size 600x400 with 1 Axes>"
            ]
          },
          "metadata": {},
          "output_type": "display_data"
        }
      ],
      "source": [
        "plt.figure(figsize=(6,4))\n",
        "sorted_data=df['Ship Mode'].value_counts().sort_values(ascending=False).index\n",
        "sns.countplot(x='Ship Mode',data=df,order=sorted_data)\n",
        "plt.title('Number of transactions by Ship Mode')\n",
        "plt.show()"
      ]
    },
    {
      "cell_type": "markdown",
      "metadata": {
        "id": "KDj_76I1Mpw8"
      },
      "source": [
        "Standard Class is the most popular ship mode, with 5968 observations, followed by Second Class and First Class at 1945 observations and 1538 observations respectively. The least popular ship mode is Same Day option, which the values at 543. This would suggest that most customer selected Standard Class as their primary shipping mode when shipping online."
      ]
    },
    {
      "cell_type": "markdown",
      "metadata": {
        "id": "TxsLZ05kMpw8"
      },
      "source": [
        "## 4. Descriptive Analysis"
      ]
    },
    {
      "cell_type": "markdown",
      "metadata": {
        "id": "6VxoPCvPMpw8"
      },
      "source": [
        "###  4.1 Total orders by States"
      ]
    },
    {
      "cell_type": "code",
      "execution_count": 20,
      "metadata": {
        "colab": {
          "base_uri": "https://localhost:8080/",
          "height": 666
        },
        "id": "gFtaMubnMpw8",
        "outputId": "b3308f81-bd30-4a24-f2c5-b8fb49e12a02"
      },
      "outputs": [
        {
          "data": {
            "image/png": "[encoded data removed]",
            "text/plain": [
              "<Figure size 800x600 with 1 Axes>"
            ]
          },
          "metadata": {},
          "output_type": "display_data"
        }
      ],
      "source": [
        "plt.figure(figsize=(8,6))\n",
        "dd=df.groupby('State')['Order ID'].nunique().sort_values(ascending=False).reset_index()\n",
        "sns.barplot(data=dd,x='State',y='Order ID')\n",
        "plt.xticks(rotation=90)\n",
        "plt.show()"
      ]
    },
    {
      "cell_type": "code",
      "execution_count": 21,
      "metadata": {
        "colab": {
          "base_uri": "https://localhost:8080/",
          "height": 1000
        },
        "id": "xtNGPqxQMpw9",
        "outputId": "7596f35e-2a6a-4044-e0ce-a889d9bb94bb"
      },
      "outputs": [
        {
          "data": {
            "text/html": [
              "\n",
              "  <div id=\"df-f84babfb-09f9-4246-9957-74d8aa2b76df\" class=\"colab-df-container\">\n",
              "    <div>\n",
              "<style scoped>\n",
              "    .dataframe tbody tr th:only-of-type {\n",
              "        vertical-align: middle;\n",
              "    }\n",
              "\n",
              "    .dataframe tbody tr th {\n",
              "        vertical-align: top;\n",
              "    }\n",
              "\n",
              "    .dataframe thead th {\n",
              "        text-align: right;\n",
              "    }\n",
              "</style>\n",
              "<table border=\"1\" class=\"dataframe\">\n",
              "  <thead>\n",
              "    <tr style=\"text-align: right;\">\n",
              "      <th></th>\n",
              "      <th>State</th>\n",
              "      <th>Order ID</th>\n",
              "    </tr>\n",
              "  </thead>\n",
              "  <tbody>\n",
              "    <tr>\n",
              "      <th>0</th>\n",
              "      <td>California</td>\n",
              "      <td>1021</td>\n",
              "    </tr>\n",
              "    <tr>\n",
              "      <th>1</th>\n",
              "      <td>New York</td>\n",
              "      <td>562</td>\n",
              "    </tr>\n",
              "    <tr>\n",
              "      <th>2</th>\n",
              "      <td>Texas</td>\n",
              "      <td>487</td>\n",
              "    </tr>\n",
              "    <tr>\n",
              "      <th>3</th>\n",
              "      <td>Pennsylvania</td>\n",
              "      <td>288</td>\n",
              "    </tr>\n",
              "    <tr>\n",
              "      <th>4</th>\n",
              "      <td>Illinois</td>\n",
              "      <td>276</td>\n",
              "    </tr>\n",
              "    <tr>\n",
              "      <th>5</th>\n",
              "      <td>Washington</td>\n",
              "      <td>256</td>\n",
              "    </tr>\n",
              "    <tr>\n",
              "      <th>6</th>\n",
              "      <td>Ohio</td>\n",
              "      <td>236</td>\n",
              "    </tr>\n",
              "    <tr>\n",
              "      <th>7</th>\n",
              "      <td>Florida</td>\n",
              "      <td>200</td>\n",
              "    </tr>\n",
              "    <tr>\n",
              "      <th>8</th>\n",
              "      <td>North Carolina</td>\n",
              "      <td>136</td>\n",
              "    </tr>\n",
              "    <tr>\n",
              "      <th>9</th>\n",
              "      <td>Michigan</td>\n",
              "      <td>117</td>\n",
              "    </tr>\n",
              "    <tr>\n",
              "      <th>10</th>\n",
              "      <td>Virginia</td>\n",
              "      <td>115</td>\n",
              "    </tr>\n",
              "    <tr>\n",
              "      <th>11</th>\n",
              "      <td>Arizona</td>\n",
              "      <td>108</td>\n",
              "    </tr>\n",
              "    <tr>\n",
              "      <th>12</th>\n",
              "      <td>Tennessee</td>\n",
              "      <td>91</td>\n",
              "    </tr>\n",
              "    <tr>\n",
              "      <th>13</th>\n",
              "      <td>Georgia</td>\n",
              "      <td>91</td>\n",
              "    </tr>\n",
              "    <tr>\n",
              "      <th>14</th>\n",
              "      <td>Colorado</td>\n",
              "      <td>79</td>\n",
              "    </tr>\n",
              "    <tr>\n",
              "      <th>15</th>\n",
              "      <td>Indiana</td>\n",
              "      <td>73</td>\n",
              "    </tr>\n",
              "    <tr>\n",
              "      <th>16</th>\n",
              "      <td>Massachusetts</td>\n",
              "      <td>62</td>\n",
              "    </tr>\n",
              "    <tr>\n",
              "      <th>17</th>\n",
              "      <td>New Jersey</td>\n",
              "      <td>61</td>\n",
              "    </tr>\n",
              "    <tr>\n",
              "      <th>18</th>\n",
              "      <td>Kentucky</td>\n",
              "      <td>61</td>\n",
              "    </tr>\n",
              "    <tr>\n",
              "      <th>19</th>\n",
              "      <td>Oregon</td>\n",
              "      <td>56</td>\n",
              "    </tr>\n",
              "    <tr>\n",
              "      <th>20</th>\n",
              "      <td>Wisconsin</td>\n",
              "      <td>53</td>\n",
              "    </tr>\n",
              "    <tr>\n",
              "      <th>21</th>\n",
              "      <td>Maryland</td>\n",
              "      <td>46</td>\n",
              "    </tr>\n",
              "    <tr>\n",
              "      <th>22</th>\n",
              "      <td>Connecticut</td>\n",
              "      <td>45</td>\n",
              "    </tr>\n",
              "    <tr>\n",
              "      <th>23</th>\n",
              "      <td>Minnesota</td>\n",
              "      <td>44</td>\n",
              "    </tr>\n",
              "    <tr>\n",
              "      <th>24</th>\n",
              "      <td>Delaware</td>\n",
              "      <td>44</td>\n",
              "    </tr>\n",
              "    <tr>\n",
              "      <th>25</th>\n",
              "      <td>Alabama</td>\n",
              "      <td>34</td>\n",
              "    </tr>\n",
              "    <tr>\n",
              "      <th>26</th>\n",
              "      <td>Oklahoma</td>\n",
              "      <td>34</td>\n",
              "    </tr>\n",
              "    <tr>\n",
              "      <th>27</th>\n",
              "      <td>Missouri</td>\n",
              "      <td>30</td>\n",
              "    </tr>\n",
              "    <tr>\n",
              "      <th>28</th>\n",
              "      <td>Arkansas</td>\n",
              "      <td>27</td>\n",
              "    </tr>\n",
              "    <tr>\n",
              "      <th>29</th>\n",
              "      <td>Mississippi</td>\n",
              "      <td>26</td>\n",
              "    </tr>\n",
              "    <tr>\n",
              "      <th>30</th>\n",
              "      <td>Utah</td>\n",
              "      <td>26</td>\n",
              "    </tr>\n",
              "    <tr>\n",
              "      <th>31</th>\n",
              "      <td>Rhode Island</td>\n",
              "      <td>25</td>\n",
              "    </tr>\n",
              "    <tr>\n",
              "      <th>32</th>\n",
              "      <td>Nevada</td>\n",
              "      <td>23</td>\n",
              "    </tr>\n",
              "    <tr>\n",
              "      <th>33</th>\n",
              "      <td>Nebraska</td>\n",
              "      <td>23</td>\n",
              "    </tr>\n",
              "    <tr>\n",
              "      <th>34</th>\n",
              "      <td>New Mexico</td>\n",
              "      <td>22</td>\n",
              "    </tr>\n",
              "    <tr>\n",
              "      <th>35</th>\n",
              "      <td>Louisiana</td>\n",
              "      <td>21</td>\n",
              "    </tr>\n",
              "    <tr>\n",
              "      <th>36</th>\n",
              "      <td>South Carolina</td>\n",
              "      <td>20</td>\n",
              "    </tr>\n",
              "    <tr>\n",
              "      <th>37</th>\n",
              "      <td>Iowa</td>\n",
              "      <td>17</td>\n",
              "    </tr>\n",
              "    <tr>\n",
              "      <th>38</th>\n",
              "      <td>New Hampshire</td>\n",
              "      <td>17</td>\n",
              "    </tr>\n",
              "    <tr>\n",
              "      <th>39</th>\n",
              "      <td>Kansas</td>\n",
              "      <td>14</td>\n",
              "    </tr>\n",
              "    <tr>\n",
              "      <th>40</th>\n",
              "      <td>Idaho</td>\n",
              "      <td>11</td>\n",
              "    </tr>\n",
              "    <tr>\n",
              "      <th>41</th>\n",
              "      <td>Montana</td>\n",
              "      <td>8</td>\n",
              "    </tr>\n",
              "    <tr>\n",
              "      <th>42</th>\n",
              "      <td>Vermont</td>\n",
              "      <td>6</td>\n",
              "    </tr>\n",
              "    <tr>\n",
              "      <th>43</th>\n",
              "      <td>South Dakota</td>\n",
              "      <td>5</td>\n",
              "    </tr>\n",
              "    <tr>\n",
              "      <th>44</th>\n",
              "      <td>District of Columbia</td>\n",
              "      <td>4</td>\n",
              "    </tr>\n",
              "    <tr>\n",
              "      <th>45</th>\n",
              "      <td>Maine</td>\n",
              "      <td>3</td>\n",
              "    </tr>\n",
              "    <tr>\n",
              "      <th>46</th>\n",
              "      <td>North Dakota</td>\n",
              "      <td>2</td>\n",
              "    </tr>\n",
              "    <tr>\n",
              "      <th>47</th>\n",
              "      <td>West Virginia</td>\n",
              "      <td>2</td>\n",
              "    </tr>\n",
              "    <tr>\n",
              "      <th>48</th>\n",
              "      <td>Wyoming</td>\n",
              "      <td>1</td>\n",
              "    </tr>\n",
              "  </tbody>\n",
              "</table>\n",
              "</div>\n",
              "    <div class=\"colab-df-buttons\">\n",
              "\n",
              "  <div class=\"colab-df-container\">\n",
              "    <button class=\"colab-df-convert\" onclick=\"convertToInteractive('df-f84babfb-09f9-4246-9957-74d8aa2b76df')\"\n",
              "            title=\"Convert this dataframe to an interactive table.\"\n",
              "            style=\"display:none;\">\n",
              "\n",
              "  <svg xmlns=\"http://www.w3.org/2000/svg\" height=\"24px\" viewBox=\"0 -960 960 960\">\n",
              "    <path d=\"M120-120v-720h720v720H120Zm60-500h600v-160H180v160Zm220 220h160v-160H400v160Zm0 220h160v-160H400v160ZM180-400h160v-160H180v160Zm440 0h160v-160H620v160ZM180-180h160v-160H180v160Zm440 0h160v-160H620v160Z\"/>\n",
              "  </svg>\n",
              "    </button>\n",
              "\n",
              "  <style>\n",
              "    .colab-df-container {\n",
              "      display:flex;\n",
              "      gap: 12px;\n",
              "    }\n",
              "\n",
              "    .colab-df-convert {\n",
              "      background-color: #E8F0FE;\n",
              "      border: none;\n",
              "      border-radius: 50%;\n",
              "      cursor: pointer;\n",
              "      display: none;\n",
              "      fill: #1967D2;\n",
              "      height: 32px;\n",
              "      padding: 0 0 0 0;\n",
              "      width: 32px;\n",
              "    }\n",
              "\n",
              "    .colab-df-convert:hover {\n",
              "      background-color: #E2EBFA;\n",
              "      box-shadow: 0px 1px 2px rgba(60, 64, 67, 0.3), 0px 1px 3px 1px rgba(60, 64, 67, 0.15);\n",
              "      fill: #174EA6;\n",
              "    }\n",
              "\n",
              "    .colab-df-buttons div {\n",
              "      margin-bottom: 4px;\n",
              "    }\n",
              "\n",
              "    [theme=dark] .colab-df-convert {\n",
              "      background-color: #3B4455;\n",
              "      fill: #D2E3FC;\n",
              "    }\n",
              "\n",
              "    [theme=dark] .colab-df-convert:hover {\n",
              "      background-color: #434B5C;\n",
              "      box-shadow: 0px 1px 3px 1px rgba(0, 0, 0, 0.15);\n",
              "      filter: drop-shadow(0px 1px 2px rgba(0, 0, 0, 0.3));\n",
              "      fill: #FFFFFF;\n",
              "    }\n",
              "  </style>\n",
              "\n",
              "    <script>\n",
              "      const buttonEl =\n",
              "        document.querySelector('#df-f84babfb-09f9-4246-9957-74d8aa2b76df button.colab-df-convert');\n",
              "      buttonEl.style.display =\n",
              "        google.colab.kernel.accessAllowed ? 'block' : 'none';\n",
              "\n",
              "      async function convertToInteractive(key) {\n",
              "        const element = document.querySelector('#df-f84babfb-09f9-4246-9957-74d8aa2b76df');\n",
              "        const dataTable =\n",
              "          await google.colab.kernel.invokeFunction('convertToInteractive',\n",
              "                                                    [key], {});\n",
              "        if (!dataTable) return;\n",
              "\n",
              "        const docLinkHtml = 'Like what you see? Visit the ' +\n",
              "          '<a target=\"_blank\" href=https://colab.research.google.com/notebooks/data_table.ipynb>data table notebook</a>'\n",
              "          + ' to learn more about interactive tables.';\n",
              "        element.innerHTML = '';\n",
              "        dataTable['output_type'] = 'display_data';\n",
              "        await google.colab.output.renderOutput(dataTable, element);\n",
              "        const docLink = document.createElement('div');\n",
              "        docLink.innerHTML = docLinkHtml;\n",
              "        element.appendChild(docLink);\n",
              "      }\n",
              "    </script>\n",
              "  </div>\n",
              "\n",
              "\n",
              "<div id=\"df-323a514f-2e61-4fa7-8fdd-70697c1fd93c\">\n",
              "  <button class=\"colab-df-quickchart\" onclick=\"quickchart('df-323a514f-2e61-4fa7-8fdd-70697c1fd93c')\"\n",
              "            title=\"Suggest charts.\"\n",
              "            style=\"display:none;\">\n",
              "\n",
              "<svg xmlns=\"http://www.w3.org/2000/svg\" height=\"24px\"viewBox=\"0 0 24 24\"\n",
              "     width=\"24px\">\n",
              "    <g>\n",
              "        <path d=\"M19 3H5c-1.1 0-2 .9-2 2v14c0 1.1.9 2 2 2h14c1.1 0 2-.9 2-2V5c0-1.1-.9-2-2-2zM9 17H7v-7h2v7zm4 0h-2V7h2v10zm4 0h-2v-4h2v4z\"/>\n",
              "    </g>\n",
              "</svg>\n",
              "  </button>\n",
              "\n",
              "<style>\n",
              "  .colab-df-quickchart {\n",
              "      --bg-color: #E8F0FE;\n",
              "      --fill-color: #1967D2;\n",
              "      --hover-bg-color: #E2EBFA;\n",
              "      --hover-fill-color: #174EA6;\n",
              "      --disabled-fill-color: #AAA;\n",
              "      --disabled-bg-color: #DDD;\n",
              "  }\n",
              "\n",
              "  [theme=dark] .colab-df-quickchart {\n",
              "      --bg-color: #3B4455;\n",
              "      --fill-color: #D2E3FC;\n",
              "      --hover-bg-color: #434B5C;\n",
              "      --hover-fill-color: #FFFFFF;\n",
              "      --disabled-bg-color: #3B4455;\n",
              "      --disabled-fill-color: #666;\n",
              "  }\n",
              "\n",
              "  .colab-df-quickchart {\n",
              "    background-color: var(--bg-color);\n",
              "    border: none;\n",
              "    border-radius: 50%;\n",
              "    cursor: pointer;\n",
              "    display: none;\n",
              "    fill: var(--fill-color);\n",
              "    height: 32px;\n",
              "    padding: 0;\n",
              "    width: 32px;\n",
              "  }\n",
              "\n",
              "  .colab-df-quickchart:hover {\n",
              "    background-color: var(--hover-bg-color);\n",
              "    box-shadow: 0 1px 2px rgba(60, 64, 67, 0.3), 0 1px 3px 1px rgba(60, 64, 67, 0.15);\n",
              "    fill: var(--button-hover-fill-color);\n",
              "  }\n",
              "\n",
              "  .colab-df-quickchart-complete:disabled,\n",
              "  .colab-df-quickchart-complete:disabled:hover {\n",
              "    background-color: var(--disabled-bg-color);\n",
              "    fill: var(--disabled-fill-color);\n",
              "    box-shadow: none;\n",
              "  }\n",
              "\n",
              "  .colab-df-spinner {\n",
              "    border: 2px solid var(--fill-color);\n",
              "    border-color: transparent;\n",
              "    border-bottom-color: var(--fill-color);\n",
              "    animation:\n",
              "      spin 1s steps(1) infinite;\n",
              "  }\n",
              "\n",
              "  @keyframes spin {\n",
              "    0% {\n",
              "      border-color: transparent;\n",
              "      border-bottom-color: var(--fill-color);\n",
              "      border-left-color: var(--fill-color);\n",
              "    }\n",
              "    20% {\n",
              "      border-color: transparent;\n",
              "      border-left-color: var(--fill-color);\n",
              "      border-top-color: var(--fill-color);\n",
              "    }\n",
              "    30% {\n",
              "      border-color: transparent;\n",
              "      border-left-color: var(--fill-color);\n",
              "      border-top-color: var(--fill-color);\n",
              "      border-right-color: var(--fill-color);\n",
              "    }\n",
              "    40% {\n",
              "      border-color: transparent;\n",
              "      border-right-color: var(--fill-color);\n",
              "      border-top-color: var(--fill-color);\n",
              "    }\n",
              "    60% {\n",
              "      border-color: transparent;\n",
              "      border-right-color: var(--fill-color);\n",
              "    }\n",
              "    80% {\n",
              "      border-color: transparent;\n",
              "      border-right-color: var(--fill-color);\n",
              "      border-bottom-color: var(--fill-color);\n",
              "    }\n",
              "    90% {\n",
              "      border-color: transparent;\n",
              "      border-bottom-color: var(--fill-color);\n",
              "    }\n",
              "  }\n",
              "</style>\n",
              "\n",
              "  <script>\n",
              "    async function quickchart(key) {\n",
              "      const quickchartButtonEl =\n",
              "        document.querySelector('#' + key + ' button');\n",
              "      quickchartButtonEl.disabled = true;  // To prevent multiple clicks.\n",
              "      quickchartButtonEl.classList.add('colab-df-spinner');\n",
              "      try {\n",
              "        const charts = await google.colab.kernel.invokeFunction(\n",
              "            'suggestCharts', [key], {});\n",
              "      } catch (error) {\n",
              "        console.error('Error during call to suggestCharts:', error);\n",
              "      }\n",
              "      quickchartButtonEl.classList.remove('colab-df-spinner');\n",
              "      quickchartButtonEl.classList.add('colab-df-quickchart-complete');\n",
              "    }\n",
              "    (() => {\n",
              "      let quickchartButtonEl =\n",
              "        document.querySelector('#df-323a514f-2e61-4fa7-8fdd-70697c1fd93c button');\n",
              "      quickchartButtonEl.style.display =\n",
              "        google.colab.kernel.accessAllowed ? 'block' : 'none';\n",
              "    })();\n",
              "  </script>\n",
              "</div>\n",
              "    </div>\n",
              "  </div>\n"
            ],
            "text/plain": [
              "                   State  Order ID\n",
              "0             California      1021\n",
              "1               New York       562\n",
              "2                  Texas       487\n",
              "3           Pennsylvania       288\n",
              "4               Illinois       276\n",
              "5             Washington       256\n",
              "6                   Ohio       236\n",
              "7                Florida       200\n",
              "8         North Carolina       136\n",
              "9               Michigan       117\n",
              "10              Virginia       115\n",
              "11               Arizona       108\n",
              "12             Tennessee        91\n",
              "13               Georgia        91\n",
              "14              Colorado        79\n",
              "15               Indiana        73\n",
              "16         Massachusetts        62\n",
              "17            New Jersey        61\n",
              "18              Kentucky        61\n",
              "19                Oregon        56\n",
              "20             Wisconsin        53\n",
              "21              Maryland        46\n",
              "22           Connecticut        45\n",
              "23             Minnesota        44\n",
              "24              Delaware        44\n",
              "25               Alabama        34\n",
              "26              Oklahoma        34\n",
              "27              Missouri        30\n",
              "28              Arkansas        27\n",
              "29           Mississippi        26\n",
              "30                  Utah        26\n",
              "31          Rhode Island        25\n",
              "32                Nevada        23\n",
              "33              Nebraska        23\n",
              "34            New Mexico        22\n",
              "35             Louisiana        21\n",
              "36        South Carolina        20\n",
              "37                  Iowa        17\n",
              "38         New Hampshire        17\n",
              "39                Kansas        14\n",
              "40                 Idaho        11\n",
              "41               Montana         8\n",
              "42               Vermont         6\n",
              "43          South Dakota         5\n",
              "44  District of Columbia         4\n",
              "45                 Maine         3\n",
              "46          North Dakota         2\n",
              "47         West Virginia         2\n",
              "48               Wyoming         1"
            ]
          },
          "execution_count": 21,
          "metadata": {},
          "output_type": "execute_result"
        }
      ],
      "source": [
        "a=df.groupby('State')['Order ID'].nunique().sort_values(ascending=False).reset_index()\n",
        "a"
      ]
    },
    {
      "cell_type": "markdown",
      "metadata": {
        "id": "7iTrAE4TMpw9"
      },
      "source": [
        "The chart shows that California had the highest orders, which values more than 1021. New York and Texas were in second and third place, with 562 orders and 487 orders, respectively. The remaining states had a small number of orders.\n",
        "\n",
        "This indicates that shopping activities were highly frequent in large states, particularly California, New York, and Texas."
      ]
    },
    {
      "cell_type": "markdown",
      "metadata": {
        "id": "9dDtc1CIMpw9"
      },
      "source": [
        "### 4.2 Total Orders by quarters and years"
      ]
    },
    {
      "cell_type": "code",
      "execution_count": 22,
      "metadata": {
        "colab": {
          "base_uri": "https://localhost:8080/",
          "height": 583
        },
        "id": "raZdbMh2Mpw9",
        "outputId": "33f4071c-1c68-487f-f9ec-e1244b1ffc01"
      },
      "outputs": [
        {
          "data": {
            "image/png": "[encoded data removed]",
            "text/plain": [
              "<Figure size 800x600 with 1 Axes>"
            ]
          },
          "metadata": {},
          "output_type": "display_data"
        }
      ],
      "source": [
        "plt.figure(figsize=(8,6))\n",
        "df['Order Date']=pd.to_datetime(df['Order Date'])\n",
        "\n",
        "\n",
        "df['Year_Quarter']=df['Order Date'].dt.to_period('Q')\n",
        "df['Year_Quarter']=df['Year_Quarter'].astype(str)\n",
        "\n",
        "orders_by_quarter_year=df.groupby(['Year_Quarter'])['Order ID'].nunique().reset_index()\n",
        "sns.lineplot(data=orders_by_quarter_year, x='Year_Quarter', y='Order ID')\n",
        "plt.xticks(rotation=90)\n",
        "plt.show()"
      ]
    },
    {
      "cell_type": "markdown",
      "metadata": {
        "id": "tkPCloZYMpw9"
      },
      "source": [
        "Overall, the line chart shows an upward trend in total orders. To be more detailed, the figure was always low in the first quarter, then increased gradually and peaked in the fourth quarter.\n",
        "\n",
        "It means that customers' shopping habits increased at the end of the year. Therefore, we should launch appropriate plans to boost this metric"
      ]
    },
    {
      "cell_type": "markdown",
      "metadata": {
        "id": "jjDbC7d2MpxC"
      },
      "source": [
        "### 4.3 Sales over months and years"
      ]
    },
    {
      "cell_type": "code",
      "execution_count": 23,
      "metadata": {
        "colab": {
          "base_uri": "https://localhost:8080/",
          "height": 558
        },
        "id": "1rNj9ZphMpxC",
        "outputId": "4f09735b-0fcb-458a-a49e-64a2769ac485"
      },
      "outputs": [
        {
          "data": {
            "image/png": "[encoded data removed]",
            "text/plain": [
              "<Figure size 800x600 with 1 Axes>"
            ]
          },
          "metadata": {},
          "output_type": "display_data"
        }
      ],
      "source": [
        "plt.figure(figsize=(8,6))\n",
        "\n",
        "df['Order Date']=pd.to_datetime(df['Order Date'])\n",
        "\n",
        "df['Year_Month']=df['Order Date'].dt.strftime('%b %Y')\n",
        "df['Year_Month']=pd.to_datetime(df['Year_Month'])\n",
        "df_sorted=df.sort_values('Year_Month')\n",
        "\n",
        "df.groupby(['Year_Month'])['Sales'].sum().plot(kind='line')\n",
        "plt.show()"
      ]
    },
    {
      "cell_type": "markdown",
      "metadata": {
        "id": "2xSGPCiIMpxC"
      },
      "source": [
        "It can be seen from the chart that the sales had an upward trend over years. In a particular year, the sales of first six months tend to be less than that of last six months. During the end of year in 2017, the line chart increased dramatically in October, then significantly declined in November.\n",
        "\n",
        "This would suggest that customers had a tendency to spend more at the end of year, while shopping activities in the first half of year were less frequent."
      ]
    },
    {
      "cell_type": "markdown",
      "metadata": {
        "id": "1IBOkE0dMpxC"
      },
      "source": [
        "### 4.4 Category sales over quarters and years"
      ]
    },
    {
      "cell_type": "code",
      "execution_count": 24,
      "metadata": {
        "colab": {
          "base_uri": "https://localhost:8080/",
          "height": 499
        },
        "id": "SLHyrG5CMpxD",
        "outputId": "ae77481c-00d9-4f34-eca8-494c330e6091"
      },
      "outputs": [
        {
          "data": {
            "image/png": "[encoded data removed]",
            "text/plain": [
              "<Figure size 640x480 with 1 Axes>"
            ]
          },
          "metadata": {},
          "output_type": "display_data"
        }
      ],
      "source": [
        "df['Order Date']=pd.to_datetime(df['Order Date'])\n",
        "df['Years'], df['Quarters']=df['Order Date'].dt.year, df['Order Date'].dt.quarter\n",
        "df.groupby(['Years','Quarters','Category'])['Sales'].sum().unstack().plot(kind='bar')\n",
        "plt.show()"
      ]
    },
    {
      "cell_type": "markdown",
      "metadata": {
        "id": "7WmgRW-FMpxD"
      },
      "source": [
        "The diagram illustrates that all categories had an uptrend from the first to the fourth quarter. In the last quarter of each year, Technology consistently ranked in the first position, meaning that customers purchased more technology products at the end of the year."
      ]
    },
    {
      "cell_type": "markdown",
      "metadata": {
        "id": "fQYFJFKiMpxD"
      },
      "source": [
        "### 4.5 Profit by Quarter and Category"
      ]
    },
    {
      "cell_type": "code",
      "execution_count": 25,
      "metadata": {
        "colab": {
          "base_uri": "https://localhost:8080/",
          "height": 583
        },
        "id": "l-R4SOttMpxD",
        "outputId": "31dfa979-a3da-4a3a-ddeb-152adc947966"
      },
      "outputs": [
        {
          "data": {
            "image/png": "[encoded data removed]",
            "text/plain": [
              "<Figure size 1000x600 with 1 Axes>"
            ]
          },
          "metadata": {},
          "output_type": "display_data"
        }
      ],
      "source": [
        "plt.figure(figsize=(10,6))\n",
        "df['Order Date'] = pd.to_datetime(df['Order Date'])\n",
        "\n",
        "df['Year_Quarter'] = df['Order Date'].dt.to_period('Q')\n",
        "df['Year_Quarter'] = df['Year_Quarter'].astype(str)\n",
        "profit_by_quarter_category = df.groupby(['Year_Quarter', 'Category'])['Profit'].sum().reset_index()\n",
        "\n",
        "sns.lineplot(data=profit_by_quarter_category, x='Year_Quarter', y='Profit', hue='Category')\n",
        "plt.xticks(rotation=90)\n",
        "plt.show()\n"
      ]
    },
    {
      "cell_type": "markdown",
      "metadata": {
        "id": "kX3aNTMhMpxD"
      },
      "source": [
        "While total sales was always a positive number, profit can be a negative value. The line chart describes the profit of 3 categories from Q1/2014 to Q4/2018. Overall, the profits grew over the given period in all categories.\n",
        "\n",
        "Office Supplies reached a peak at 20000 USD in Q4/2016, then significantly declined more than 5000 USD in Q1/2017. The profit increased lightly in Q3/2017 after dropped under 10000 USD in Q4/2017. In constrast, Furniture achieved the lowest profit in almost the given time. Its profits fluctuated through the period and the profit under 0 USD in Q4/2017.\n",
        "\n",
        "Regarding Technology, the figure had an upward trend from more than 1000 USD in Q1/2014 to nearly 20000 USD in Q4/2017\n"
      ]
    },
    {
      "cell_type": "markdown",
      "metadata": {
        "id": "gQM7ZC9zMpxD"
      },
      "source": [
        "### 4.6 Time Delivery"
      ]
    },
    {
      "cell_type": "code",
      "execution_count": 26,
      "metadata": {
        "colab": {
          "base_uri": "https://localhost:8080/",
          "height": 472
        },
        "id": "T7MkeKJMMpxD",
        "outputId": "bf42010f-3b83-4b3f-e232-9c68c5fa4162"
      },
      "outputs": [
        {
          "data": {
            "image/png": "[encoded data removed]",
            "text/plain": [
              "<Figure size 640x480 with 1 Axes>"
            ]
          },
          "metadata": {},
          "output_type": "display_data"
        }
      ],
      "source": [
        "df['Ship Date'] = pd.to_datetime(df['Ship Date'])\n",
        "df['Delivery Time'] = (df['Ship Date'] - df['Order Date']).dt.days\n",
        "df['Delivery Time'].hist(bins=30)\n",
        "plt.title('Time Delivery Distribution')\n",
        "plt.xlabel('Count of Time Delivery')\n",
        "plt.ylabel('Time Delivery')\n",
        "plt.show()\n"
      ]
    },
    {
      "cell_type": "markdown",
      "metadata": {
        "id": "wAns5Z3fMpxE"
      },
      "source": [
        "Time Delivery by calculating the days difference between ship date and order date. The delivery time distribution shows that more than 2500 transactions have been shipped in 4 days after ordering, which is the most common delivery duration. The following are 5 days and 2 days, with the transactions being around more than 2000 and nearly 1500 respectively."
      ]
    },
    {
      "cell_type": "markdown",
      "metadata": {
        "id": "6gbRndsnMpxE"
      },
      "source": [
        "### 4.7 Time delivery by Ship Mode"
      ]
    },
    {
      "cell_type": "code",
      "execution_count": 27,
      "metadata": {
        "colab": {
          "base_uri": "https://localhost:8080/",
          "height": 562
        },
        "id": "AyUtLkB6MpxE",
        "outputId": "fdf9dd64-4ab8-4b90-db98-c1b3e8274011"
      },
      "outputs": [
        {
          "data": {
            "image/png": "[encoded data removed]",
            "text/plain": [
              "<Figure size 640x480 with 1 Axes>"
            ]
          },
          "metadata": {},
          "output_type": "display_data"
        }
      ],
      "source": [
        "ship_mode_delivery_time = df.groupby(['Ship Mode', 'Delivery Time'])['Order ID'].count().unstack()\n",
        "\n",
        "ship_mode_delivery_time.plot(kind='bar', stacked=False)\n",
        "\n",
        "plt.title('Count of Ship Mode by Delivery Time')\n",
        "plt.xlabel('Delivery Time (Days)')\n",
        "plt.ylabel('Count of Ship Mode')\n",
        "plt.show()\n"
      ]
    },
    {
      "cell_type": "markdown",
      "metadata": {
        "id": "1VcOmm4WMpxE"
      },
      "source": [
        "There are 500 transactions shipped by the same date as order date and a few transactions in 1 days, labeled by Same Day. The First Class transactions could be shipped from 1 to 3 days, which was faster than the Second Class. The Standard Class transactions were delivered slowest, from 4 to 7 days. This means customers should allow more waiting time to receive products when selecting Standard Class as Ship Mode."
      ]
    },
    {
      "cell_type": "markdown",
      "metadata": {
        "id": "ss2v71AaMpxE"
      },
      "source": [
        "### 4.8 Sales vs Profit per Category"
      ]
    },
    {
      "cell_type": "code",
      "execution_count": 28,
      "metadata": {
        "colab": {
          "base_uri": "https://localhost:8080/",
          "height": 564
        },
        "id": "Ez5-vCi0MpxE",
        "outputId": "3c953665-78e8-4e56-c9de-7efa3eedf51d"
      },
      "outputs": [
        {
          "data": {
            "image/png": "[encoded data removed]",
            "text/plain": [
              "<Figure size 1000x600 with 1 Axes>"
            ]
          },
          "metadata": {},
          "output_type": "display_data"
        }
      ],
      "source": [
        "plt.figure(figsize=(10,6))\n",
        "sns.scatterplot(data=df, x='Sales', y='Profit', hue='Category')\n",
        "plt.title('Sales vs Profit per Category')\n",
        "plt.show()"
      ]
    },
    {
      "cell_type": "markdown",
      "metadata": {
        "id": "9NIQh5hHMpxE"
      },
      "source": [
        "As we can see that there are many transactions on Furniture at the bottom of the plot, indicating low sales and low profit or even loss. However, there are also some transactions with high sales and profit. Most transactions in Office Supplies Category have low sales and low profit, but there is a few transactions with high sales and profit. Turning to the remaining category, Technology seems to be the highest sales and profit compared to the other two categories. Many transations with high sales and profit."
      ]
    },
    {
      "cell_type": "markdown",
      "metadata": {
        "id": "tKZfmh5yMpxF"
      },
      "source": [
        "## 5. Sales prediction"
      ]
    },
    {
      "cell_type": "markdown",
      "metadata": {
        "id": "imJXD6XhMpxF"
      },
      "source": [
        "#### Using Pycaret library to compare models"
      ]
    },
    {
      "cell_type": "code",
      "execution_count": 13,
      "metadata": {
        "id": "NkZlpxe5MpxF"
      },
      "outputs": [],
      "source": [
        "import pandas as pd\n",
        "data=pd.read_csv('Sample - Superstore.csv', encoding='ISO-8859-1')\n",
        "data['Order Date']=pd.to_datetime(data['Order Date'])\n",
        "data.set_index('Order Date', inplace=True)"
      ]
    },
    {
      "cell_type": "code",
      "execution_count": 14,
      "metadata": {
        "id": "46u82qKrMpxF"
      },
      "outputs": [],
      "source": [
        "# keep outliers out\n",
        "data = data[data.Sales<10000]\n",
        "\n",
        "data = data.loc[~data.index.duplicated(keep='first')]\n",
        "data = data.groupby(data.index).mean(numeric_only=True)\n",
        "data=data.asfreq('W')"
      ]
    },
    {
      "cell_type": "code",
      "execution_count": 70,
      "metadata": {
        "colab": {
          "base_uri": "https://localhost:8080/",
          "height": 640
        },
        "id": "4b6ir_4CW_9J",
        "outputId": "b6ad8344-74f4-44c1-836d-5ed834f0429d"
      },
      "outputs": [
        {
          "data": {
            "text/plain": [
              "(array([137.,  20.,  15.,   6.,   4.,   3.,   3.,   1.,   2.,   2.,   0.,\n",
              "          0.,   0.,   1.,   0.,   1.,   0.,   1.,   0.,   1.]),\n",
              " array([1.0800000e+00, 1.5102350e+02, 3.0096700e+02, 4.5091050e+02,\n",
              "        6.0085400e+02, 7.5079750e+02, 9.0074100e+02, 1.0506845e+03,\n",
              "        1.2006280e+03, 1.3505715e+03, 1.5005150e+03, 1.6504585e+03,\n",
              "        1.8004020e+03, 1.9503455e+03, 2.1002890e+03, 2.2502325e+03,\n",
              "        2.4001760e+03, 2.5501195e+03, 2.7000630e+03, 2.8500065e+03,\n",
              "        2.9999500e+03]),\n",
              " <BarContainer object of 20 artists>)"
            ]
          },
          "execution_count": 70,
          "metadata": {},
          "output_type": "execute_result"
        },
        {
          "data": {
            "image/png": "[encoded data removed]",
            "text/plain": [
              "<Figure size 800x550 with 1 Axes>"
            ]
          },
          "metadata": {},
          "output_type": "display_data"
        }
      ],
      "source": [
        "plt.hist(data.Sales, bins=20)"
      ]
    },
    {
      "cell_type": "code",
      "execution_count": 15,
      "metadata": {
        "colab": {
          "base_uri": "https://localhost:8080/",
          "height": 1000
        },
        "id": "V2aQturpMpxF",
        "outputId": "7bf6c8d0-ed7e-4a22-c8d1-a7a57283bcbc"
      },
      "outputs": [
        {
          "data": {
            "text/html": [
              "<style type=\"text/css\">\n",
              "#T_d1679_row28_col1, #T_d1679_row31_col1 {\n",
              "  background-color: lightgreen;\n",
              "}\n",
              "</style>\n",
              "<table id=\"T_d1679\">\n",
              "  <thead>\n",
              "    <tr>\n",
              "      <th class=\"blank level0\" >&nbsp;</th>\n",
              "      <th id=\"T_d1679_level0_col0\" class=\"col_heading level0 col0\" >Description</th>\n",
              "      <th id=\"T_d1679_level0_col1\" class=\"col_heading level0 col1\" >Value</th>\n",
              "    </tr>\n",
              "  </thead>\n",
              "  <tbody>\n",
              "    <tr>\n",
              "      <th id=\"T_d1679_level0_row0\" class=\"row_heading level0 row0\" >0</th>\n",
              "      <td id=\"T_d1679_row0_col0\" class=\"data row0 col0\" >session_id</td>\n",
              "      <td id=\"T_d1679_row0_col1\" class=\"data row0 col1\" >7886</td>\n",
              "    </tr>\n",
              "    <tr>\n",
              "      <th id=\"T_d1679_level0_row1\" class=\"row_heading level0 row1\" >1</th>\n",
              "      <td id=\"T_d1679_row1_col0\" class=\"data row1 col0\" >Target</td>\n",
              "      <td id=\"T_d1679_row1_col1\" class=\"data row1 col1\" >Sales</td>\n",
              "    </tr>\n",
              "    <tr>\n",
              "      <th id=\"T_d1679_level0_row2\" class=\"row_heading level0 row2\" >2</th>\n",
              "      <td id=\"T_d1679_row2_col0\" class=\"data row2 col0\" >Approach</td>\n",
              "      <td id=\"T_d1679_row2_col1\" class=\"data row2 col1\" >Univariate</td>\n",
              "    </tr>\n",
              "    <tr>\n",
              "      <th id=\"T_d1679_level0_row3\" class=\"row_heading level0 row3\" >3</th>\n",
              "      <td id=\"T_d1679_row3_col0\" class=\"data row3 col0\" >Exogenous Variables</td>\n",
              "      <td id=\"T_d1679_row3_col1\" class=\"data row3 col1\" >Present</td>\n",
              "    </tr>\n",
              "    <tr>\n",
              "      <th id=\"T_d1679_level0_row4\" class=\"row_heading level0 row4\" >4</th>\n",
              "      <td id=\"T_d1679_row4_col0\" class=\"data row4 col0\" >Original data shape</td>\n",
              "      <td id=\"T_d1679_row4_col1\" class=\"data row4 col1\" >(208, 6)</td>\n",
              "    </tr>\n",
              "    <tr>\n",
              "      <th id=\"T_d1679_level0_row5\" class=\"row_heading level0 row5\" >5</th>\n",
              "      <td id=\"T_d1679_row5_col0\" class=\"data row5 col0\" >Transformed data shape</td>\n",
              "      <td id=\"T_d1679_row5_col1\" class=\"data row5 col1\" >(208, 6)</td>\n",
              "    </tr>\n",
              "    <tr>\n",
              "      <th id=\"T_d1679_level0_row6\" class=\"row_heading level0 row6\" >6</th>\n",
              "      <td id=\"T_d1679_row6_col0\" class=\"data row6 col0\" >Transformed train set shape</td>\n",
              "      <td id=\"T_d1679_row6_col1\" class=\"data row6 col1\" >(198, 6)</td>\n",
              "    </tr>\n",
              "    <tr>\n",
              "      <th id=\"T_d1679_level0_row7\" class=\"row_heading level0 row7\" >7</th>\n",
              "      <td id=\"T_d1679_row7_col0\" class=\"data row7 col0\" >Transformed test set shape</td>\n",
              "      <td id=\"T_d1679_row7_col1\" class=\"data row7 col1\" >(10, 6)</td>\n",
              "    </tr>\n",
              "    <tr>\n",
              "      <th id=\"T_d1679_level0_row8\" class=\"row_heading level0 row8\" >8</th>\n",
              "      <td id=\"T_d1679_row8_col0\" class=\"data row8 col0\" >Rows with missing values</td>\n",
              "      <td id=\"T_d1679_row8_col1\" class=\"data row8 col1\" >5.3%</td>\n",
              "    </tr>\n",
              "    <tr>\n",
              "      <th id=\"T_d1679_level0_row9\" class=\"row_heading level0 row9\" >9</th>\n",
              "      <td id=\"T_d1679_row9_col0\" class=\"data row9 col0\" >Fold Generator</td>\n",
              "      <td id=\"T_d1679_row9_col1\" class=\"data row9 col1\" >ExpandingWindowSplitter</td>\n",
              "    </tr>\n",
              "    <tr>\n",
              "      <th id=\"T_d1679_level0_row10\" class=\"row_heading level0 row10\" >10</th>\n",
              "      <td id=\"T_d1679_row10_col0\" class=\"data row10 col0\" >Fold Number</td>\n",
              "      <td id=\"T_d1679_row10_col1\" class=\"data row10 col1\" >3</td>\n",
              "    </tr>\n",
              "    <tr>\n",
              "      <th id=\"T_d1679_level0_row11\" class=\"row_heading level0 row11\" >11</th>\n",
              "      <td id=\"T_d1679_row11_col0\" class=\"data row11 col0\" >Enforce Prediction Interval</td>\n",
              "      <td id=\"T_d1679_row11_col1\" class=\"data row11 col1\" >False</td>\n",
              "    </tr>\n",
              "    <tr>\n",
              "      <th id=\"T_d1679_level0_row12\" class=\"row_heading level0 row12\" >12</th>\n",
              "      <td id=\"T_d1679_row12_col0\" class=\"data row12 col0\" >Splits used for hyperparameters</td>\n",
              "      <td id=\"T_d1679_row12_col1\" class=\"data row12 col1\" >all</td>\n",
              "    </tr>\n",
              "    <tr>\n",
              "      <th id=\"T_d1679_level0_row13\" class=\"row_heading level0 row13\" >13</th>\n",
              "      <td id=\"T_d1679_row13_col0\" class=\"data row13 col0\" >User Defined Seasonal Period(s)</td>\n",
              "      <td id=\"T_d1679_row13_col1\" class=\"data row13 col1\" >52</td>\n",
              "    </tr>\n",
              "    <tr>\n",
              "      <th id=\"T_d1679_level0_row14\" class=\"row_heading level0 row14\" >14</th>\n",
              "      <td id=\"T_d1679_row14_col0\" class=\"data row14 col0\" >Ignore Seasonality Test</td>\n",
              "      <td id=\"T_d1679_row14_col1\" class=\"data row14 col1\" >False</td>\n",
              "    </tr>\n",
              "    <tr>\n",
              "      <th id=\"T_d1679_level0_row15\" class=\"row_heading level0 row15\" >15</th>\n",
              "      <td id=\"T_d1679_row15_col0\" class=\"data row15 col0\" >Seasonality Detection Algo</td>\n",
              "      <td id=\"T_d1679_row15_col1\" class=\"data row15 col1\" >user_defined</td>\n",
              "    </tr>\n",
              "    <tr>\n",
              "      <th id=\"T_d1679_level0_row16\" class=\"row_heading level0 row16\" >16</th>\n",
              "      <td id=\"T_d1679_row16_col0\" class=\"data row16 col0\" >Max Period to Consider</td>\n",
              "      <td id=\"T_d1679_row16_col1\" class=\"data row16 col1\" >60</td>\n",
              "    </tr>\n",
              "    <tr>\n",
              "      <th id=\"T_d1679_level0_row17\" class=\"row_heading level0 row17\" >17</th>\n",
              "      <td id=\"T_d1679_row17_col0\" class=\"data row17 col0\" >Seasonal Period(s) Tested</td>\n",
              "      <td id=\"T_d1679_row17_col1\" class=\"data row17 col1\" >[52]</td>\n",
              "    </tr>\n",
              "    <tr>\n",
              "      <th id=\"T_d1679_level0_row18\" class=\"row_heading level0 row18\" >18</th>\n",
              "      <td id=\"T_d1679_row18_col0\" class=\"data row18 col0\" >Significant Seasonal Period(s)</td>\n",
              "      <td id=\"T_d1679_row18_col1\" class=\"data row18 col1\" >[1]</td>\n",
              "    </tr>\n",
              "    <tr>\n",
              "      <th id=\"T_d1679_level0_row19\" class=\"row_heading level0 row19\" >19</th>\n",
              "      <td id=\"T_d1679_row19_col0\" class=\"data row19 col0\" >Significant Seasonal Period(s) without Harmonics</td>\n",
              "      <td id=\"T_d1679_row19_col1\" class=\"data row19 col1\" >[1]</td>\n",
              "    </tr>\n",
              "    <tr>\n",
              "      <th id=\"T_d1679_level0_row20\" class=\"row_heading level0 row20\" >20</th>\n",
              "      <td id=\"T_d1679_row20_col0\" class=\"data row20 col0\" >Remove Harmonics</td>\n",
              "      <td id=\"T_d1679_row20_col1\" class=\"data row20 col1\" >False</td>\n",
              "    </tr>\n",
              "    <tr>\n",
              "      <th id=\"T_d1679_level0_row21\" class=\"row_heading level0 row21\" >21</th>\n",
              "      <td id=\"T_d1679_row21_col0\" class=\"data row21 col0\" >Harmonics Order Method</td>\n",
              "      <td id=\"T_d1679_row21_col1\" class=\"data row21 col1\" >harmonic_max</td>\n",
              "    </tr>\n",
              "    <tr>\n",
              "      <th id=\"T_d1679_level0_row22\" class=\"row_heading level0 row22\" >22</th>\n",
              "      <td id=\"T_d1679_row22_col0\" class=\"data row22 col0\" >Num Seasonalities to Use</td>\n",
              "      <td id=\"T_d1679_row22_col1\" class=\"data row22 col1\" >1</td>\n",
              "    </tr>\n",
              "    <tr>\n",
              "      <th id=\"T_d1679_level0_row23\" class=\"row_heading level0 row23\" >23</th>\n",
              "      <td id=\"T_d1679_row23_col0\" class=\"data row23 col0\" >All Seasonalities to Use</td>\n",
              "      <td id=\"T_d1679_row23_col1\" class=\"data row23 col1\" >[1]</td>\n",
              "    </tr>\n",
              "    <tr>\n",
              "      <th id=\"T_d1679_level0_row24\" class=\"row_heading level0 row24\" >24</th>\n",
              "      <td id=\"T_d1679_row24_col0\" class=\"data row24 col0\" >Primary Seasonality</td>\n",
              "      <td id=\"T_d1679_row24_col1\" class=\"data row24 col1\" >1</td>\n",
              "    </tr>\n",
              "    <tr>\n",
              "      <th id=\"T_d1679_level0_row25\" class=\"row_heading level0 row25\" >25</th>\n",
              "      <td id=\"T_d1679_row25_col0\" class=\"data row25 col0\" >Seasonality Present</td>\n",
              "      <td id=\"T_d1679_row25_col1\" class=\"data row25 col1\" >False</td>\n",
              "    </tr>\n",
              "    <tr>\n",
              "      <th id=\"T_d1679_level0_row26\" class=\"row_heading level0 row26\" >26</th>\n",
              "      <td id=\"T_d1679_row26_col0\" class=\"data row26 col0\" >Seasonality Type</td>\n",
              "      <td id=\"T_d1679_row26_col1\" class=\"data row26 col1\" >None</td>\n",
              "    </tr>\n",
              "    <tr>\n",
              "      <th id=\"T_d1679_level0_row27\" class=\"row_heading level0 row27\" >27</th>\n",
              "      <td id=\"T_d1679_row27_col0\" class=\"data row27 col0\" >Target Strictly Positive</td>\n",
              "      <td id=\"T_d1679_row27_col1\" class=\"data row27 col1\" >True</td>\n",
              "    </tr>\n",
              "    <tr>\n",
              "      <th id=\"T_d1679_level0_row28\" class=\"row_heading level0 row28\" >28</th>\n",
              "      <td id=\"T_d1679_row28_col0\" class=\"data row28 col0\" >Target White Noise</td>\n",
              "      <td id=\"T_d1679_row28_col1\" class=\"data row28 col1\" >Yes</td>\n",
              "    </tr>\n",
              "    <tr>\n",
              "      <th id=\"T_d1679_level0_row29\" class=\"row_heading level0 row29\" >29</th>\n",
              "      <td id=\"T_d1679_row29_col0\" class=\"data row29 col0\" >Recommended d</td>\n",
              "      <td id=\"T_d1679_row29_col1\" class=\"data row29 col1\" >0</td>\n",
              "    </tr>\n",
              "    <tr>\n",
              "      <th id=\"T_d1679_level0_row30\" class=\"row_heading level0 row30\" >30</th>\n",
              "      <td id=\"T_d1679_row30_col0\" class=\"data row30 col0\" >Recommended Seasonal D</td>\n",
              "      <td id=\"T_d1679_row30_col1\" class=\"data row30 col1\" >0</td>\n",
              "    </tr>\n",
              "    <tr>\n",
              "      <th id=\"T_d1679_level0_row31\" class=\"row_heading level0 row31\" >31</th>\n",
              "      <td id=\"T_d1679_row31_col0\" class=\"data row31 col0\" >Preprocess</td>\n",
              "      <td id=\"T_d1679_row31_col1\" class=\"data row31 col1\" >True</td>\n",
              "    </tr>\n",
              "    <tr>\n",
              "      <th id=\"T_d1679_level0_row32\" class=\"row_heading level0 row32\" >32</th>\n",
              "      <td id=\"T_d1679_row32_col0\" class=\"data row32 col0\" >Numerical Imputation (Target)</td>\n",
              "      <td id=\"T_d1679_row32_col1\" class=\"data row32 col1\" >mean</td>\n",
              "    </tr>\n",
              "    <tr>\n",
              "      <th id=\"T_d1679_level0_row33\" class=\"row_heading level0 row33\" >33</th>\n",
              "      <td id=\"T_d1679_row33_col0\" class=\"data row33 col0\" >Transformation (Target)</td>\n",
              "      <td id=\"T_d1679_row33_col1\" class=\"data row33 col1\" >None</td>\n",
              "    </tr>\n",
              "    <tr>\n",
              "      <th id=\"T_d1679_level0_row34\" class=\"row_heading level0 row34\" >34</th>\n",
              "      <td id=\"T_d1679_row34_col0\" class=\"data row34 col0\" >Scaling (Target)</td>\n",
              "      <td id=\"T_d1679_row34_col1\" class=\"data row34 col1\" >None</td>\n",
              "    </tr>\n",
              "    <tr>\n",
              "      <th id=\"T_d1679_level0_row35\" class=\"row_heading level0 row35\" >35</th>\n",
              "      <td id=\"T_d1679_row35_col0\" class=\"data row35 col0\" >Feature Engineering (Target) - Reduced Regression</td>\n",
              "      <td id=\"T_d1679_row35_col1\" class=\"data row35 col1\" >False</td>\n",
              "    </tr>\n",
              "    <tr>\n",
              "      <th id=\"T_d1679_level0_row36\" class=\"row_heading level0 row36\" >36</th>\n",
              "      <td id=\"T_d1679_row36_col0\" class=\"data row36 col0\" >Numerical Imputation (Exogenous)</td>\n",
              "      <td id=\"T_d1679_row36_col1\" class=\"data row36 col1\" >mean</td>\n",
              "    </tr>\n",
              "    <tr>\n",
              "      <th id=\"T_d1679_level0_row37\" class=\"row_heading level0 row37\" >37</th>\n",
              "      <td id=\"T_d1679_row37_col0\" class=\"data row37 col0\" >Transformation (Exogenous)</td>\n",
              "      <td id=\"T_d1679_row37_col1\" class=\"data row37 col1\" >None</td>\n",
              "    </tr>\n",
              "    <tr>\n",
              "      <th id=\"T_d1679_level0_row38\" class=\"row_heading level0 row38\" >38</th>\n",
              "      <td id=\"T_d1679_row38_col0\" class=\"data row38 col0\" >Scaling (Exogenous)</td>\n",
              "      <td id=\"T_d1679_row38_col1\" class=\"data row38 col1\" >None</td>\n",
              "    </tr>\n",
              "    <tr>\n",
              "      <th id=\"T_d1679_level0_row39\" class=\"row_heading level0 row39\" >39</th>\n",
              "      <td id=\"T_d1679_row39_col0\" class=\"data row39 col0\" >CPU Jobs</td>\n",
              "      <td id=\"T_d1679_row39_col1\" class=\"data row39 col1\" >-1</td>\n",
              "    </tr>\n",
              "    <tr>\n",
              "      <th id=\"T_d1679_level0_row40\" class=\"row_heading level0 row40\" >40</th>\n",
              "      <td id=\"T_d1679_row40_col0\" class=\"data row40 col0\" >Use GPU</td>\n",
              "      <td id=\"T_d1679_row40_col1\" class=\"data row40 col1\" >False</td>\n",
              "    </tr>\n",
              "    <tr>\n",
              "      <th id=\"T_d1679_level0_row41\" class=\"row_heading level0 row41\" >41</th>\n",
              "      <td id=\"T_d1679_row41_col0\" class=\"data row41 col0\" >Log Experiment</td>\n",
              "      <td id=\"T_d1679_row41_col1\" class=\"data row41 col1\" >False</td>\n",
              "    </tr>\n",
              "    <tr>\n",
              "      <th id=\"T_d1679_level0_row42\" class=\"row_heading level0 row42\" >42</th>\n",
              "      <td id=\"T_d1679_row42_col0\" class=\"data row42 col0\" >Experiment Name</td>\n",
              "      <td id=\"T_d1679_row42_col1\" class=\"data row42 col1\" >ts-default-name</td>\n",
              "    </tr>\n",
              "    <tr>\n",
              "      <th id=\"T_d1679_level0_row43\" class=\"row_heading level0 row43\" >43</th>\n",
              "      <td id=\"T_d1679_row43_col0\" class=\"data row43 col0\" >USI</td>\n",
              "      <td id=\"T_d1679_row43_col1\" class=\"data row43 col1\" >37d1</td>\n",
              "    </tr>\n",
              "  </tbody>\n",
              "</table>\n"
            ],
            "text/plain": [
              "<pandas.io.formats.style.Styler at 0x27223a5a940>"
            ]
          },
          "metadata": {},
          "output_type": "display_data"
        }
      ],
      "source": [
        "from pycaret.time_series import setup\n",
        "s=setup(data=data, target='Sales', fh=10, fold_strategy='expanding', seasonal_period=52, fold=3,\n",
        "        numeric_imputation_target='mean', numeric_imputation_exogenous='mean' )\n"
      ]
    },
    {
      "cell_type": "code",
      "execution_count": 16,
      "metadata": {
        "colab": {
          "base_uri": "https://localhost:8080/",
          "height": 783,
          "referenced_widgets": [
            "b421add5066e416bae76b08b4a60214b",
            "35c27eb165e0417fb4c2c4b11140639f",
            "065a48ce0b7f43c88d7d5ab509a0b613",
            "91a0e1a6376a4964b54116437ad708a6",
            "57d03811b1aa48faa68e3c905609a5dd",
            "d3cc077537684d5c9c34b8ee4420acce",
            "96c582ac440d4d7ab757f398e5f62d05",
            "7411cf32da264c30ac2d9419216a93ea",
            "27ac3c0faa3841ec8538b87db482a331",
            "8b7439f31dd44dd788be282ab53d2b75",
            "1e2cab51bbc740f6bf45cb41abf1ee6c"
          ]
        },
        "id": "kU04Q9PLMpxF",
        "outputId": "2553ac07-1174-4554-9b05-16c426697bdf"
      },
      "outputs": [
        {
          "data": {
            "text/html": [
              "<div>\n",
              "<style scoped>\n",
              "    .dataframe tbody tr th:only-of-type {\n",
              "        vertical-align: middle;\n",
              "    }\n",
              "\n",
              "    .dataframe tbody tr th {\n",
              "        vertical-align: top;\n",
              "    }\n",
              "\n",
              "    .dataframe thead th {\n",
              "        text-align: right;\n",
              "    }\n",
              "</style>\n",
              "<table border=\"1\" class=\"dataframe\">\n",
              "  <thead>\n",
              "    <tr style=\"text-align: right;\">\n",
              "      <th></th>\n",
              "      <th></th>\n",
              "      <th></th>\n",
              "    </tr>\n",
              "    <tr>\n",
              "      <th></th>\n",
              "      <th></th>\n",
              "      <th></th>\n",
              "    </tr>\n",
              "  </thead>\n",
              "  <tbody>\n",
              "    <tr>\n",
              "      <th>Initiated</th>\n",
              "      <td>. . . . . . . . . . . . . . . . . .</td>\n",
              "      <td>17:46:01</td>\n",
              "    </tr>\n",
              "    <tr>\n",
              "      <th>Status</th>\n",
              "      <td>. . . . . . . . . . . . . . . . . .</td>\n",
              "      <td>Fitting 3 Folds</td>\n",
              "    </tr>\n",
              "    <tr>\n",
              "      <th>Estimator</th>\n",
              "      <td>. . . . . . . . . . . . . . . . . .</td>\n",
              "      <td>Naive Forecaster</td>\n",
              "    </tr>\n",
              "  </tbody>\n",
              "</table>\n",
              "</div>"
            ],
            "text/plain": [
              "                                                                \n",
              "                                                                \n",
              "Initiated  . . . . . . . . . . . . . . . . . .          17:46:01\n",
              "Status     . . . . . . . . . . . . . . . . . .   Fitting 3 Folds\n",
              "Estimator  . . . . . . . . . . . . . . . . . .  Naive Forecaster"
            ]
          },
          "metadata": {},
          "output_type": "display_data"
        },
        {
          "data": {
            "text/html": [
              "<style type=\"text/css\">\n",
              "#T_d7c2a th {\n",
              "  text-align: left;\n",
              "}\n",
              "#T_d7c2a_row0_col0, #T_d7c2a_row0_col5, #T_d7c2a_row1_col0, #T_d7c2a_row1_col1, #T_d7c2a_row1_col2, #T_d7c2a_row1_col3, #T_d7c2a_row1_col4, #T_d7c2a_row1_col5, #T_d7c2a_row1_col6, #T_d7c2a_row1_col7, #T_d7c2a_row2_col0, #T_d7c2a_row2_col1, #T_d7c2a_row2_col2, #T_d7c2a_row2_col3, #T_d7c2a_row2_col4, #T_d7c2a_row2_col6, #T_d7c2a_row2_col7, #T_d7c2a_row3_col0, #T_d7c2a_row3_col1, #T_d7c2a_row3_col2, #T_d7c2a_row3_col3, #T_d7c2a_row3_col4, #T_d7c2a_row3_col5, #T_d7c2a_row3_col6, #T_d7c2a_row3_col7, #T_d7c2a_row4_col0, #T_d7c2a_row4_col1, #T_d7c2a_row4_col2, #T_d7c2a_row4_col3, #T_d7c2a_row4_col4, #T_d7c2a_row4_col5, #T_d7c2a_row4_col6, #T_d7c2a_row4_col7, #T_d7c2a_row5_col0, #T_d7c2a_row5_col1, #T_d7c2a_row5_col2, #T_d7c2a_row5_col3, #T_d7c2a_row5_col4, #T_d7c2a_row5_col5, #T_d7c2a_row5_col6, #T_d7c2a_row5_col7, #T_d7c2a_row6_col0, #T_d7c2a_row6_col1, #T_d7c2a_row6_col2, #T_d7c2a_row6_col3, #T_d7c2a_row6_col4, #T_d7c2a_row6_col5, #T_d7c2a_row6_col6, #T_d7c2a_row6_col7, #T_d7c2a_row7_col0, #T_d7c2a_row7_col1, #T_d7c2a_row7_col2, #T_d7c2a_row7_col3, #T_d7c2a_row7_col4, #T_d7c2a_row7_col5, #T_d7c2a_row7_col6, #T_d7c2a_row7_col7, #T_d7c2a_row8_col0, #T_d7c2a_row8_col1, #T_d7c2a_row8_col2, #T_d7c2a_row8_col3, #T_d7c2a_row8_col4, #T_d7c2a_row8_col5, #T_d7c2a_row8_col6, #T_d7c2a_row8_col7, #T_d7c2a_row9_col0, #T_d7c2a_row9_col1, #T_d7c2a_row9_col2, #T_d7c2a_row9_col3, #T_d7c2a_row9_col4, #T_d7c2a_row9_col5, #T_d7c2a_row9_col6, #T_d7c2a_row9_col7, #T_d7c2a_row10_col0, #T_d7c2a_row10_col1, #T_d7c2a_row10_col2, #T_d7c2a_row10_col3, #T_d7c2a_row10_col4, #T_d7c2a_row10_col5, #T_d7c2a_row10_col6, #T_d7c2a_row10_col7, #T_d7c2a_row11_col0, #T_d7c2a_row11_col1, #T_d7c2a_row11_col2, #T_d7c2a_row11_col3, #T_d7c2a_row11_col4, #T_d7c2a_row11_col5, #T_d7c2a_row11_col6, #T_d7c2a_row11_col7, #T_d7c2a_row12_col0, #T_d7c2a_row12_col1, #T_d7c2a_row12_col2, #T_d7c2a_row12_col3, #T_d7c2a_row12_col4, #T_d7c2a_row12_col5, #T_d7c2a_row12_col6, #T_d7c2a_row12_col7, #T_d7c2a_row13_col0, #T_d7c2a_row13_col1, #T_d7c2a_row13_col2, #T_d7c2a_row13_col3, #T_d7c2a_row13_col4, #T_d7c2a_row13_col5, #T_d7c2a_row13_col6, #T_d7c2a_row13_col7, #T_d7c2a_row14_col0, #T_d7c2a_row14_col1, #T_d7c2a_row14_col2, #T_d7c2a_row14_col3, #T_d7c2a_row14_col4, #T_d7c2a_row14_col5, #T_d7c2a_row14_col6, #T_d7c2a_row14_col7, #T_d7c2a_row15_col0, #T_d7c2a_row15_col1, #T_d7c2a_row15_col2, #T_d7c2a_row15_col3, #T_d7c2a_row15_col4, #T_d7c2a_row15_col5, #T_d7c2a_row15_col6, #T_d7c2a_row15_col7, #T_d7c2a_row16_col0, #T_d7c2a_row16_col1, #T_d7c2a_row16_col2, #T_d7c2a_row16_col3, #T_d7c2a_row16_col4, #T_d7c2a_row16_col5, #T_d7c2a_row16_col6, #T_d7c2a_row16_col7, #T_d7c2a_row17_col0, #T_d7c2a_row17_col1, #T_d7c2a_row17_col2, #T_d7c2a_row17_col3, #T_d7c2a_row17_col4, #T_d7c2a_row17_col5, #T_d7c2a_row17_col6, #T_d7c2a_row17_col7, #T_d7c2a_row18_col0, #T_d7c2a_row18_col1, #T_d7c2a_row18_col2, #T_d7c2a_row18_col3, #T_d7c2a_row18_col4, #T_d7c2a_row18_col5, #T_d7c2a_row18_col6, #T_d7c2a_row18_col7, #T_d7c2a_row19_col0, #T_d7c2a_row19_col1, #T_d7c2a_row19_col2, #T_d7c2a_row19_col3, #T_d7c2a_row19_col4, #T_d7c2a_row19_col5, #T_d7c2a_row19_col6, #T_d7c2a_row19_col7 {\n",
              "  text-align: left;\n",
              "}\n",
              "#T_d7c2a_row0_col1, #T_d7c2a_row0_col2, #T_d7c2a_row0_col3, #T_d7c2a_row0_col4, #T_d7c2a_row0_col6, #T_d7c2a_row0_col7, #T_d7c2a_row2_col5 {\n",
              "  text-align: left;\n",
              "  background-color: yellow;\n",
              "}\n",
              "#T_d7c2a_row0_col8, #T_d7c2a_row1_col8, #T_d7c2a_row2_col8, #T_d7c2a_row3_col8, #T_d7c2a_row4_col8, #T_d7c2a_row5_col8, #T_d7c2a_row6_col8, #T_d7c2a_row7_col8, #T_d7c2a_row8_col8, #T_d7c2a_row9_col8, #T_d7c2a_row10_col8, #T_d7c2a_row11_col8, #T_d7c2a_row12_col8, #T_d7c2a_row13_col8, #T_d7c2a_row14_col8, #T_d7c2a_row15_col8, #T_d7c2a_row16_col8, #T_d7c2a_row17_col8, #T_d7c2a_row19_col8 {\n",
              "  text-align: left;\n",
              "  background-color: lightgrey;\n",
              "}\n",
              "#T_d7c2a_row18_col8 {\n",
              "  text-align: left;\n",
              "  background-color: yellow;\n",
              "  background-color: lightgrey;\n",
              "}\n",
              "</style>\n",
              "<table id=\"T_d7c2a\">\n",
              "  <thead>\n",
              "    <tr>\n",
              "      <th class=\"blank level0\" >&nbsp;</th>\n",
              "      <th id=\"T_d7c2a_level0_col0\" class=\"col_heading level0 col0\" >Model</th>\n",
              "      <th id=\"T_d7c2a_level0_col1\" class=\"col_heading level0 col1\" >MASE</th>\n",
              "      <th id=\"T_d7c2a_level0_col2\" class=\"col_heading level0 col2\" >RMSSE</th>\n",
              "      <th id=\"T_d7c2a_level0_col3\" class=\"col_heading level0 col3\" >MAE</th>\n",
              "      <th id=\"T_d7c2a_level0_col4\" class=\"col_heading level0 col4\" >RMSE</th>\n",
              "      <th id=\"T_d7c2a_level0_col5\" class=\"col_heading level0 col5\" >MAPE</th>\n",
              "      <th id=\"T_d7c2a_level0_col6\" class=\"col_heading level0 col6\" >SMAPE</th>\n",
              "      <th id=\"T_d7c2a_level0_col7\" class=\"col_heading level0 col7\" >R2</th>\n",
              "      <th id=\"T_d7c2a_level0_col8\" class=\"col_heading level0 col8\" >TT (Sec)</th>\n",
              "    </tr>\n",
              "  </thead>\n",
              "  <tbody>\n",
              "    <tr>\n",
              "      <th id=\"T_d7c2a_level0_row0\" class=\"row_heading level0 row0\" >rf_cds_dt</th>\n",
              "      <td id=\"T_d7c2a_row0_col0\" class=\"data row0 col0\" >Random Forest w/ Cond. Deseasonalize & Detrending</td>\n",
              "      <td id=\"T_d7c2a_row0_col1\" class=\"data row0 col1\" >0.4108</td>\n",
              "      <td id=\"T_d7c2a_row0_col2\" class=\"data row0 col2\" >0.3065</td>\n",
              "      <td id=\"T_d7c2a_row0_col3\" class=\"data row0 col3\" >122.1357</td>\n",
              "      <td id=\"T_d7c2a_row0_col4\" class=\"data row0 col4\" >176.2149</td>\n",
              "      <td id=\"T_d7c2a_row0_col5\" class=\"data row0 col5\" >4.1357</td>\n",
              "      <td id=\"T_d7c2a_row0_col6\" class=\"data row0 col6\" >0.7786</td>\n",
              "      <td id=\"T_d7c2a_row0_col7\" class=\"data row0 col7\" >0.7431</td>\n",
              "      <td id=\"T_d7c2a_row0_col8\" class=\"data row0 col8\" >0.6800</td>\n",
              "    </tr>\n",
              "    <tr>\n",
              "      <th id=\"T_d7c2a_level0_row1\" class=\"row_heading level0 row1\" >et_cds_dt</th>\n",
              "      <td id=\"T_d7c2a_row1_col0\" class=\"data row1 col0\" >Extra Trees w/ Cond. Deseasonalize & Detrending</td>\n",
              "      <td id=\"T_d7c2a_row1_col1\" class=\"data row1 col1\" >0.4619</td>\n",
              "      <td id=\"T_d7c2a_row1_col2\" class=\"data row1 col2\" >0.3356</td>\n",
              "      <td id=\"T_d7c2a_row1_col3\" class=\"data row1 col3\" >137.4712</td>\n",
              "      <td id=\"T_d7c2a_row1_col4\" class=\"data row1 col4\" >192.9768</td>\n",
              "      <td id=\"T_d7c2a_row1_col5\" class=\"data row1 col5\" >4.4931</td>\n",
              "      <td id=\"T_d7c2a_row1_col6\" class=\"data row1 col6\" >0.8685</td>\n",
              "      <td id=\"T_d7c2a_row1_col7\" class=\"data row1 col7\" >0.6686</td>\n",
              "      <td id=\"T_d7c2a_row1_col8\" class=\"data row1 col8\" >0.5933</td>\n",
              "    </tr>\n",
              "    <tr>\n",
              "      <th id=\"T_d7c2a_level0_row2\" class=\"row_heading level0 row2\" >gbr_cds_dt</th>\n",
              "      <td id=\"T_d7c2a_row2_col0\" class=\"data row2 col0\" >Gradient Boosting w/ Cond. Deseasonalize & Detrending</td>\n",
              "      <td id=\"T_d7c2a_row2_col1\" class=\"data row2 col1\" >0.4683</td>\n",
              "      <td id=\"T_d7c2a_row2_col2\" class=\"data row2 col2\" >0.3642</td>\n",
              "      <td id=\"T_d7c2a_row2_col3\" class=\"data row2 col3\" >139.0119</td>\n",
              "      <td id=\"T_d7c2a_row2_col4\" class=\"data row2 col4\" >209.3683</td>\n",
              "      <td id=\"T_d7c2a_row2_col5\" class=\"data row2 col5\" >3.1891</td>\n",
              "      <td id=\"T_d7c2a_row2_col6\" class=\"data row2 col6\" >0.8431</td>\n",
              "      <td id=\"T_d7c2a_row2_col7\" class=\"data row2 col7\" >0.6677</td>\n",
              "      <td id=\"T_d7c2a_row2_col8\" class=\"data row2 col8\" >0.4200</td>\n",
              "    </tr>\n",
              "    <tr>\n",
              "      <th id=\"T_d7c2a_level0_row3\" class=\"row_heading level0 row3\" >dt_cds_dt</th>\n",
              "      <td id=\"T_d7c2a_row3_col0\" class=\"data row3 col0\" >Decision Tree w/ Cond. Deseasonalize & Detrending</td>\n",
              "      <td id=\"T_d7c2a_row3_col1\" class=\"data row3 col1\" >0.6078</td>\n",
              "      <td id=\"T_d7c2a_row3_col2\" class=\"data row3 col2\" >0.5624</td>\n",
              "      <td id=\"T_d7c2a_row3_col3\" class=\"data row3 col3\" >179.8406</td>\n",
              "      <td id=\"T_d7c2a_row3_col4\" class=\"data row3 col4\" >323.6541</td>\n",
              "      <td id=\"T_d7c2a_row3_col5\" class=\"data row3 col5\" >3.2893</td>\n",
              "      <td id=\"T_d7c2a_row3_col6\" class=\"data row3 col6\" >0.8002</td>\n",
              "      <td id=\"T_d7c2a_row3_col7\" class=\"data row3 col7\" >0.1239</td>\n",
              "      <td id=\"T_d7c2a_row3_col8\" class=\"data row3 col8\" >0.3400</td>\n",
              "    </tr>\n",
              "    <tr>\n",
              "      <th id=\"T_d7c2a_level0_row4\" class=\"row_heading level0 row4\" >huber_cds_dt</th>\n",
              "      <td id=\"T_d7c2a_row4_col0\" class=\"data row4 col0\" >Huber w/ Cond. Deseasonalize & Detrending</td>\n",
              "      <td id=\"T_d7c2a_row4_col1\" class=\"data row4 col1\" >0.6575</td>\n",
              "      <td id=\"T_d7c2a_row4_col2\" class=\"data row4 col2\" >0.6119</td>\n",
              "      <td id=\"T_d7c2a_row4_col3\" class=\"data row4 col3\" >195.3429</td>\n",
              "      <td id=\"T_d7c2a_row4_col4\" class=\"data row4 col4\" >351.4730</td>\n",
              "      <td id=\"T_d7c2a_row4_col5\" class=\"data row4 col5\" >6.7387</td>\n",
              "      <td id=\"T_d7c2a_row4_col6\" class=\"data row4 col6\" >0.9661</td>\n",
              "      <td id=\"T_d7c2a_row4_col7\" class=\"data row4 col7\" >-0.0270</td>\n",
              "      <td id=\"T_d7c2a_row4_col8\" class=\"data row4 col8\" >0.3467</td>\n",
              "    </tr>\n",
              "    <tr>\n",
              "      <th id=\"T_d7c2a_level0_row5\" class=\"row_heading level0 row5\" >ada_cds_dt</th>\n",
              "      <td id=\"T_d7c2a_row5_col0\" class=\"data row5 col0\" >AdaBoost w/ Cond. Deseasonalize & Detrending</td>\n",
              "      <td id=\"T_d7c2a_row5_col1\" class=\"data row5 col1\" >0.6808</td>\n",
              "      <td id=\"T_d7c2a_row5_col2\" class=\"data row5 col2\" >0.4566</td>\n",
              "      <td id=\"T_d7c2a_row5_col3\" class=\"data row5 col3\" >202.2588</td>\n",
              "      <td id=\"T_d7c2a_row5_col4\" class=\"data row5 col4\" >262.5323</td>\n",
              "      <td id=\"T_d7c2a_row5_col5\" class=\"data row5 col5\" >10.4186</td>\n",
              "      <td id=\"T_d7c2a_row5_col6\" class=\"data row5 col6\" >1.0301</td>\n",
              "      <td id=\"T_d7c2a_row5_col7\" class=\"data row5 col7\" >0.4695</td>\n",
              "      <td id=\"T_d7c2a_row5_col8\" class=\"data row5 col8\" >0.4567</td>\n",
              "    </tr>\n",
              "    <tr>\n",
              "      <th id=\"T_d7c2a_level0_row6\" class=\"row_heading level0 row6\" >auto_arima</th>\n",
              "      <td id=\"T_d7c2a_row6_col0\" class=\"data row6 col0\" >Auto ARIMA</td>\n",
              "      <td id=\"T_d7c2a_row6_col1\" class=\"data row6 col1\" >0.7430</td>\n",
              "      <td id=\"T_d7c2a_row6_col2\" class=\"data row6 col2\" >0.5837</td>\n",
              "      <td id=\"T_d7c2a_row6_col3\" class=\"data row6 col3\" >220.9147</td>\n",
              "      <td id=\"T_d7c2a_row6_col4\" class=\"data row6 col4\" >335.1915</td>\n",
              "      <td id=\"T_d7c2a_row6_col5\" class=\"data row6 col5\" >14.7460</td>\n",
              "      <td id=\"T_d7c2a_row6_col6\" class=\"data row6 col6\" >1.0500</td>\n",
              "      <td id=\"T_d7c2a_row6_col7\" class=\"data row6 col7\" >0.0871</td>\n",
              "      <td id=\"T_d7c2a_row6_col8\" class=\"data row6 col8\" >1.8267</td>\n",
              "    </tr>\n",
              "    <tr>\n",
              "      <th id=\"T_d7c2a_level0_row7\" class=\"row_heading level0 row7\" >arima</th>\n",
              "      <td id=\"T_d7c2a_row7_col0\" class=\"data row7 col0\" >ARIMA</td>\n",
              "      <td id=\"T_d7c2a_row7_col1\" class=\"data row7 col1\" >0.7436</td>\n",
              "      <td id=\"T_d7c2a_row7_col2\" class=\"data row7 col2\" >0.5853</td>\n",
              "      <td id=\"T_d7c2a_row7_col3\" class=\"data row7 col3\" >221.0970</td>\n",
              "      <td id=\"T_d7c2a_row7_col4\" class=\"data row7 col4\" >336.1134</td>\n",
              "      <td id=\"T_d7c2a_row7_col5\" class=\"data row7 col5\" >14.8302</td>\n",
              "      <td id=\"T_d7c2a_row7_col6\" class=\"data row7 col6\" >1.0487</td>\n",
              "      <td id=\"T_d7c2a_row7_col7\" class=\"data row7 col7\" >0.0823</td>\n",
              "      <td id=\"T_d7c2a_row7_col8\" class=\"data row7 col8\" >3.5367</td>\n",
              "    </tr>\n",
              "    <tr>\n",
              "      <th id=\"T_d7c2a_level0_row8\" class=\"row_heading level0 row8\" >lightgbm_cds_dt</th>\n",
              "      <td id=\"T_d7c2a_row8_col0\" class=\"data row8 col0\" >Light Gradient Boosting w/ Cond. Deseasonalize & Detrending</td>\n",
              "      <td id=\"T_d7c2a_row8_col1\" class=\"data row8 col1\" >0.7736</td>\n",
              "      <td id=\"T_d7c2a_row8_col2\" class=\"data row8 col2\" >0.5811</td>\n",
              "      <td id=\"T_d7c2a_row8_col3\" class=\"data row8 col3\" >229.7981</td>\n",
              "      <td id=\"T_d7c2a_row8_col4\" class=\"data row8 col4\" >334.0139</td>\n",
              "      <td id=\"T_d7c2a_row8_col5\" class=\"data row8 col5\" >4.9794</td>\n",
              "      <td id=\"T_d7c2a_row8_col6\" class=\"data row8 col6\" >1.0427</td>\n",
              "      <td id=\"T_d7c2a_row8_col7\" class=\"data row8 col7\" >0.1347</td>\n",
              "      <td id=\"T_d7c2a_row8_col8\" class=\"data row8 col8\" >0.5167</td>\n",
              "    </tr>\n",
              "    <tr>\n",
              "      <th id=\"T_d7c2a_level0_row9\" class=\"row_heading level0 row9\" >lr_cds_dt</th>\n",
              "      <td id=\"T_d7c2a_row9_col0\" class=\"data row9 col0\" >Linear w/ Cond. Deseasonalize & Detrending</td>\n",
              "      <td id=\"T_d7c2a_row9_col1\" class=\"data row9 col1\" >0.8069</td>\n",
              "      <td id=\"T_d7c2a_row9_col2\" class=\"data row9 col2\" >0.5970</td>\n",
              "      <td id=\"T_d7c2a_row9_col3\" class=\"data row9 col3\" >240.0371</td>\n",
              "      <td id=\"T_d7c2a_row9_col4\" class=\"data row9 col4\" >342.8434</td>\n",
              "      <td id=\"T_d7c2a_row9_col5\" class=\"data row9 col5\" >17.3883</td>\n",
              "      <td id=\"T_d7c2a_row9_col6\" class=\"data row9 col6\" >1.0919</td>\n",
              "      <td id=\"T_d7c2a_row9_col7\" class=\"data row9 col7\" >0.0322</td>\n",
              "      <td id=\"T_d7c2a_row9_col8\" class=\"data row9 col8\" >0.7067</td>\n",
              "    </tr>\n",
              "    <tr>\n",
              "      <th id=\"T_d7c2a_level0_row10\" class=\"row_heading level0 row10\" >llar_cds_dt</th>\n",
              "      <td id=\"T_d7c2a_row10_col0\" class=\"data row10 col0\" >Lasso Least Angular Regressor w/ Cond. Deseasonalize & Detrending</td>\n",
              "      <td id=\"T_d7c2a_row10_col1\" class=\"data row10 col1\" >0.8075</td>\n",
              "      <td id=\"T_d7c2a_row10_col2\" class=\"data row10 col2\" >0.5959</td>\n",
              "      <td id=\"T_d7c2a_row10_col3\" class=\"data row10 col3\" >240.1900</td>\n",
              "      <td id=\"T_d7c2a_row10_col4\" class=\"data row10 col4\" >342.2314</td>\n",
              "      <td id=\"T_d7c2a_row10_col5\" class=\"data row10 col5\" >17.0916</td>\n",
              "      <td id=\"T_d7c2a_row10_col6\" class=\"data row10 col6\" >1.0952</td>\n",
              "      <td id=\"T_d7c2a_row10_col7\" class=\"data row10 col7\" >0.0375</td>\n",
              "      <td id=\"T_d7c2a_row10_col8\" class=\"data row10 col8\" >0.3900</td>\n",
              "    </tr>\n",
              "    <tr>\n",
              "      <th id=\"T_d7c2a_level0_row11\" class=\"row_heading level0 row11\" >lasso_cds_dt</th>\n",
              "      <td id=\"T_d7c2a_row11_col0\" class=\"data row11 col0\" >Lasso w/ Cond. Deseasonalize & Detrending</td>\n",
              "      <td id=\"T_d7c2a_row11_col1\" class=\"data row11 col1\" >0.8075</td>\n",
              "      <td id=\"T_d7c2a_row11_col2\" class=\"data row11 col2\" >0.5959</td>\n",
              "      <td id=\"T_d7c2a_row11_col3\" class=\"data row11 col3\" >240.1900</td>\n",
              "      <td id=\"T_d7c2a_row11_col4\" class=\"data row11 col4\" >342.2314</td>\n",
              "      <td id=\"T_d7c2a_row11_col5\" class=\"data row11 col5\" >17.0916</td>\n",
              "      <td id=\"T_d7c2a_row11_col6\" class=\"data row11 col6\" >1.0952</td>\n",
              "      <td id=\"T_d7c2a_row11_col7\" class=\"data row11 col7\" >0.0375</td>\n",
              "      <td id=\"T_d7c2a_row11_col8\" class=\"data row11 col8\" >0.3400</td>\n",
              "    </tr>\n",
              "    <tr>\n",
              "      <th id=\"T_d7c2a_level0_row12\" class=\"row_heading level0 row12\" >ridge_cds_dt</th>\n",
              "      <td id=\"T_d7c2a_row12_col0\" class=\"data row12 col0\" >Ridge w/ Cond. Deseasonalize & Detrending</td>\n",
              "      <td id=\"T_d7c2a_row12_col1\" class=\"data row12 col1\" >0.8076</td>\n",
              "      <td id=\"T_d7c2a_row12_col2\" class=\"data row12 col2\" >0.5949</td>\n",
              "      <td id=\"T_d7c2a_row12_col3\" class=\"data row12 col3\" >240.2293</td>\n",
              "      <td id=\"T_d7c2a_row12_col4\" class=\"data row12 col4\" >341.6788</td>\n",
              "      <td id=\"T_d7c2a_row12_col5\" class=\"data row12 col5\" >16.8334</td>\n",
              "      <td id=\"T_d7c2a_row12_col6\" class=\"data row12 col6\" >1.0972</td>\n",
              "      <td id=\"T_d7c2a_row12_col7\" class=\"data row12 col7\" >0.0424</td>\n",
              "      <td id=\"T_d7c2a_row12_col8\" class=\"data row12 col8\" >0.6400</td>\n",
              "    </tr>\n",
              "    <tr>\n",
              "      <th id=\"T_d7c2a_level0_row13\" class=\"row_heading level0 row13\" >naive</th>\n",
              "      <td id=\"T_d7c2a_row13_col0\" class=\"data row13 col0\" >Naive Forecaster</td>\n",
              "      <td id=\"T_d7c2a_row13_col1\" class=\"data row13 col1\" >0.8077</td>\n",
              "      <td id=\"T_d7c2a_row13_col2\" class=\"data row13 col2\" >0.7026</td>\n",
              "      <td id=\"T_d7c2a_row13_col3\" class=\"data row13 col3\" >239.6460</td>\n",
              "      <td id=\"T_d7c2a_row13_col4\" class=\"data row13 col4\" >403.9363</td>\n",
              "      <td id=\"T_d7c2a_row13_col5\" class=\"data row13 col5\" >12.4919</td>\n",
              "      <td id=\"T_d7c2a_row13_col6\" class=\"data row13 col6\" >1.0873</td>\n",
              "      <td id=\"T_d7c2a_row13_col7\" class=\"data row13 col7\" >-0.1909</td>\n",
              "      <td id=\"T_d7c2a_row13_col8\" class=\"data row13 col8\" >4.2333</td>\n",
              "    </tr>\n",
              "    <tr>\n",
              "      <th id=\"T_d7c2a_level0_row14\" class=\"row_heading level0 row14\" >grand_means</th>\n",
              "      <td id=\"T_d7c2a_row14_col0\" class=\"data row14 col0\" >Grand Means Forecaster</td>\n",
              "      <td id=\"T_d7c2a_row14_col1\" class=\"data row14 col1\" >0.8169</td>\n",
              "      <td id=\"T_d7c2a_row14_col2\" class=\"data row14 col2\" >0.6493</td>\n",
              "      <td id=\"T_d7c2a_row14_col3\" class=\"data row14 col3\" >242.2749</td>\n",
              "      <td id=\"T_d7c2a_row14_col4\" class=\"data row14 col4\" >373.2708</td>\n",
              "      <td id=\"T_d7c2a_row14_col5\" class=\"data row14 col5\" >12.1000</td>\n",
              "      <td id=\"T_d7c2a_row14_col6\" class=\"data row14 col6\" >1.1078</td>\n",
              "      <td id=\"T_d7c2a_row14_col7\" class=\"data row14 col7\" >-0.0129</td>\n",
              "      <td id=\"T_d7c2a_row14_col8\" class=\"data row14 col8\" >3.3100</td>\n",
              "    </tr>\n",
              "    <tr>\n",
              "      <th id=\"T_d7c2a_level0_row15\" class=\"row_heading level0 row15\" >en_cds_dt</th>\n",
              "      <td id=\"T_d7c2a_row15_col0\" class=\"data row15 col0\" >Elastic Net w/ Cond. Deseasonalize & Detrending</td>\n",
              "      <td id=\"T_d7c2a_row15_col1\" class=\"data row15 col1\" >0.8249</td>\n",
              "      <td id=\"T_d7c2a_row15_col2\" class=\"data row15 col2\" >0.5920</td>\n",
              "      <td id=\"T_d7c2a_row15_col3\" class=\"data row15 col3\" >245.2366</td>\n",
              "      <td id=\"T_d7c2a_row15_col4\" class=\"data row15 col4\" >339.9657</td>\n",
              "      <td id=\"T_d7c2a_row15_col5\" class=\"data row15 col5\" >13.1294</td>\n",
              "      <td id=\"T_d7c2a_row15_col6\" class=\"data row15 col6\" >1.1277</td>\n",
              "      <td id=\"T_d7c2a_row15_col7\" class=\"data row15 col7\" >0.0749</td>\n",
              "      <td id=\"T_d7c2a_row15_col8\" class=\"data row15 col8\" >0.6433</td>\n",
              "    </tr>\n",
              "    <tr>\n",
              "      <th id=\"T_d7c2a_level0_row16\" class=\"row_heading level0 row16\" >br_cds_dt</th>\n",
              "      <td id=\"T_d7c2a_row16_col0\" class=\"data row16 col0\" >Bayesian Ridge w/ Cond. Deseasonalize & Detrending</td>\n",
              "      <td id=\"T_d7c2a_row16_col1\" class=\"data row16 col1\" >0.8755</td>\n",
              "      <td id=\"T_d7c2a_row16_col2\" class=\"data row16 col2\" >0.6414</td>\n",
              "      <td id=\"T_d7c2a_row16_col3\" class=\"data row16 col3\" >260.2714</td>\n",
              "      <td id=\"T_d7c2a_row16_col4\" class=\"data row16 col4\" >368.4471</td>\n",
              "      <td id=\"T_d7c2a_row16_col5\" class=\"data row16 col5\" >14.3082</td>\n",
              "      <td id=\"T_d7c2a_row16_col6\" class=\"data row16 col6\" >1.1405</td>\n",
              "      <td id=\"T_d7c2a_row16_col7\" class=\"data row16 col7\" >-0.0919</td>\n",
              "      <td id=\"T_d7c2a_row16_col8\" class=\"data row16 col8\" >0.4733</td>\n",
              "    </tr>\n",
              "    <tr>\n",
              "      <th id=\"T_d7c2a_level0_row17\" class=\"row_heading level0 row17\" >omp_cds_dt</th>\n",
              "      <td id=\"T_d7c2a_row17_col0\" class=\"data row17 col0\" >Orthogonal Matching Pursuit w/ Cond. Deseasonalize & Detrending</td>\n",
              "      <td id=\"T_d7c2a_row17_col1\" class=\"data row17 col1\" >0.8976</td>\n",
              "      <td id=\"T_d7c2a_row17_col2\" class=\"data row17 col2\" >0.6595</td>\n",
              "      <td id=\"T_d7c2a_row17_col3\" class=\"data row17 col3\" >266.3438</td>\n",
              "      <td id=\"T_d7c2a_row17_col4\" class=\"data row17 col4\" >379.1297</td>\n",
              "      <td id=\"T_d7c2a_row17_col5\" class=\"data row17 col5\" >15.0366</td>\n",
              "      <td id=\"T_d7c2a_row17_col6\" class=\"data row17 col6\" >1.1518</td>\n",
              "      <td id=\"T_d7c2a_row17_col7\" class=\"data row17 col7\" >-0.0479</td>\n",
              "      <td id=\"T_d7c2a_row17_col8\" class=\"data row17 col8\" >0.3800</td>\n",
              "    </tr>\n",
              "    <tr>\n",
              "      <th id=\"T_d7c2a_level0_row18\" class=\"row_heading level0 row18\" >croston</th>\n",
              "      <td id=\"T_d7c2a_row18_col0\" class=\"data row18 col0\" >Croston</td>\n",
              "      <td id=\"T_d7c2a_row18_col1\" class=\"data row18 col1\" >1.0015</td>\n",
              "      <td id=\"T_d7c2a_row18_col2\" class=\"data row18 col2\" >0.6790</td>\n",
              "      <td id=\"T_d7c2a_row18_col3\" class=\"data row18 col3\" >296.9367</td>\n",
              "      <td id=\"T_d7c2a_row18_col4\" class=\"data row18 col4\" >390.4800</td>\n",
              "      <td id=\"T_d7c2a_row18_col5\" class=\"data row18 col5\" >18.3159</td>\n",
              "      <td id=\"T_d7c2a_row18_col6\" class=\"data row18 col6\" >1.1797</td>\n",
              "      <td id=\"T_d7c2a_row18_col7\" class=\"data row18 col7\" >-0.1451</td>\n",
              "      <td id=\"T_d7c2a_row18_col8\" class=\"data row18 col8\" >0.1667</td>\n",
              "    </tr>\n",
              "    <tr>\n",
              "      <th id=\"T_d7c2a_level0_row19\" class=\"row_heading level0 row19\" >knn_cds_dt</th>\n",
              "      <td id=\"T_d7c2a_row19_col0\" class=\"data row19 col0\" >K Neighbors w/ Cond. Deseasonalize & Detrending</td>\n",
              "      <td id=\"T_d7c2a_row19_col1\" class=\"data row19 col1\" >1.1134</td>\n",
              "      <td id=\"T_d7c2a_row19_col2\" class=\"data row19 col2\" >0.8021</td>\n",
              "      <td id=\"T_d7c2a_row19_col3\" class=\"data row19 col3\" >330.5479</td>\n",
              "      <td id=\"T_d7c2a_row19_col4\" class=\"data row19 col4\" >461.1456</td>\n",
              "      <td id=\"T_d7c2a_row19_col5\" class=\"data row19 col5\" >15.7211</td>\n",
              "      <td id=\"T_d7c2a_row19_col6\" class=\"data row19 col6\" >1.2117</td>\n",
              "      <td id=\"T_d7c2a_row19_col7\" class=\"data row19 col7\" >-0.5810</td>\n",
              "      <td id=\"T_d7c2a_row19_col8\" class=\"data row19 col8\" >0.4400</td>\n",
              "    </tr>\n",
              "  </tbody>\n",
              "</table>\n"
            ],
            "text/plain": [
              "<pandas.io.formats.style.Styler at 0x27223e823a0>"
            ]
          },
          "metadata": {},
          "output_type": "display_data"
        },
        {
          "data": {
            "text/html": [],
            "text/plain": [
              "<IPython.core.display.HTML object>"
            ]
          },
          "metadata": {},
          "output_type": "display_data"
        },
        {
          "data": {
            "text/html": [
              "<style>#sk-6c84df25-8980-45e5-b222-0b3a2c367390 {color: black;background-color: white;}#sk-6c84df25-8980-45e5-b222-0b3a2c367390 pre{padding: 0;}#sk-6c84df25-8980-45e5-b222-0b3a2c367390 div.sk-toggleable {background-color: white;}#sk-6c84df25-8980-45e5-b222-0b3a2c367390 label.sk-toggleable__label {cursor: pointer;display: block;width: 100%;margin-bottom: 0;padding: 0.3em;box-sizing: border-box;text-align: center;}#sk-6c84df25-8980-45e5-b222-0b3a2c367390 label.sk-toggleable__label-arrow:before {content: \"▸\";float: left;margin-right: 0.25em;color: #696969;}#sk-6c84df25-8980-45e5-b222-0b3a2c367390 label.sk-toggleable__label-arrow:hover:before {color: black;}#sk-6c84df25-8980-45e5-b222-0b3a2c367390 div.sk-estimator:hover label.sk-toggleable__label-arrow:before {color: black;}#sk-6c84df25-8980-45e5-b222-0b3a2c367390 div.sk-toggleable__content {max-height: 0;max-width: 0;overflow: hidden;text-align: left;background-color: #f0f8ff;}#sk-6c84df25-8980-45e5-b222-0b3a2c367390 div.sk-toggleable__content pre {margin: 0.2em;color: black;border-radius: 0.25em;background-color: #f0f8ff;}#sk-6c84df25-8980-45e5-b222-0b3a2c367390 input.sk-toggleable__control:checked~div.sk-toggleable__content {max-height: 200px;max-width: 100%;overflow: auto;}#sk-6c84df25-8980-45e5-b222-0b3a2c367390 input.sk-toggleable__control:checked~label.sk-toggleable__label-arrow:before {content: \"▾\";}#sk-6c84df25-8980-45e5-b222-0b3a2c367390 div.sk-estimator input.sk-toggleable__control:checked~label.sk-toggleable__label {background-color: #d4ebff;}#sk-6c84df25-8980-45e5-b222-0b3a2c367390 div.sk-label input.sk-toggleable__control:checked~label.sk-toggleable__label {background-color: #d4ebff;}#sk-6c84df25-8980-45e5-b222-0b3a2c367390 input.sk-hidden--visually {border: 0;clip: rect(1px 1px 1px 1px);clip: rect(1px, 1px, 1px, 1px);height: 1px;margin: -1px;overflow: hidden;padding: 0;position: absolute;width: 1px;}#sk-6c84df25-8980-45e5-b222-0b3a2c367390 div.sk-estimator {font-family: monospace;background-color: #f0f8ff;border: 1px dotted black;border-radius: 0.25em;box-sizing: border-box;margin-bottom: 0.5em;}#sk-6c84df25-8980-45e5-b222-0b3a2c367390 div.sk-estimator:hover {background-color: #d4ebff;}#sk-6c84df25-8980-45e5-b222-0b3a2c367390 div.sk-parallel-item::after {content: \"\";width: 100%;border-bottom: 1px solid gray;flex-grow: 1;}#sk-6c84df25-8980-45e5-b222-0b3a2c367390 div.sk-label:hover label.sk-toggleable__label {background-color: #d4ebff;}#sk-6c84df25-8980-45e5-b222-0b3a2c367390 div.sk-serial::before {content: \"\";position: absolute;border-left: 1px solid gray;box-sizing: border-box;top: 2em;bottom: 0;left: 50%;}#sk-6c84df25-8980-45e5-b222-0b3a2c367390 div.sk-serial {display: flex;flex-direction: column;align-items: center;background-color: white;padding-right: 0.2em;padding-left: 0.2em;}#sk-6c84df25-8980-45e5-b222-0b3a2c367390 div.sk-item {z-index: 1;}#sk-6c84df25-8980-45e5-b222-0b3a2c367390 div.sk-parallel {display: flex;align-items: stretch;justify-content: center;background-color: white;}#sk-6c84df25-8980-45e5-b222-0b3a2c367390 div.sk-parallel::before {content: \"\";position: absolute;border-left: 1px solid gray;box-sizing: border-box;top: 2em;bottom: 0;left: 50%;}#sk-6c84df25-8980-45e5-b222-0b3a2c367390 div.sk-parallel-item {display: flex;flex-direction: column;position: relative;background-color: white;}#sk-6c84df25-8980-45e5-b222-0b3a2c367390 div.sk-parallel-item:first-child::after {align-self: flex-end;width: 50%;}#sk-6c84df25-8980-45e5-b222-0b3a2c367390 div.sk-parallel-item:last-child::after {align-self: flex-start;width: 50%;}#sk-6c84df25-8980-45e5-b222-0b3a2c367390 div.sk-parallel-item:only-child::after {width: 0;}#sk-6c84df25-8980-45e5-b222-0b3a2c367390 div.sk-dashed-wrapped {border: 1px dashed gray;margin: 0 0.4em 0.5em 0.4em;box-sizing: border-box;padding-bottom: 0.4em;background-color: white;position: relative;}#sk-6c84df25-8980-45e5-b222-0b3a2c367390 div.sk-label label {font-family: monospace;font-weight: bold;background-color: white;display: inline-block;line-height: 1.2em;}#sk-6c84df25-8980-45e5-b222-0b3a2c367390 div.sk-label-container {position: relative;z-index: 2;text-align: center;}#sk-6c84df25-8980-45e5-b222-0b3a2c367390 div.sk-container {/* jupyter's `normalize.less` sets `[hidden] { display: none; }` but bootstrap.min.css set `[hidden] { display: none !important; }` so we also need the `!important` here to be able to override the default hidden behavior on the sphinx rendered scikit-learn.org. See: https://github.com/scikit-learn/scikit-learn/issues/21755 */display: inline-block !important;position: relative;}#sk-6c84df25-8980-45e5-b222-0b3a2c367390 div.sk-text-repr-fallback {display: none;}</style><div id='sk-6c84df25-8980-45e5-b222-0b3a2c367390' class=\"sk-top-container\"><div class=\"sk-text-repr-fallback\"><pre>BaseCdsDtForecaster(fe_target_rr=[WindowSummarizer(lag_feature={&#x27;lag&#x27;: [1]},\n",
              "                                                   n_jobs=1)],\n",
              "                    regressor=RandomForestRegressor(n_jobs=-1, random_state=7886),\n",
              "                    window_length=1)</pre><b>Please rerun this cell to show the HTML repr or trust the notebook.</b></div><div class=\"sk-container\" hidden><div class=\"sk-item sk-dashed-wrapped\"><div class='sk-label-container'><div class=\"sk-label sk-toggleable\"><input class=\"sk-toggleable__control sk-hidden--visually\" id=UUID('0e0e0553-9a29-47e6-a6c9-4de054f8f5e8') type=\"checkbox\" ><label for=UUID('0e0e0553-9a29-47e6-a6c9-4de054f8f5e8') class='sk-toggleable__label sk-toggleable__label-arrow'>BaseCdsDtForecaster</label><div class=\"sk-toggleable__content\"><pre>BaseCdsDtForecaster(fe_target_rr=[WindowSummarizer(lag_feature={&#x27;lag&#x27;: [1]},\n",
              "                                                   n_jobs=1)],\n",
              "                    regressor=RandomForestRegressor(n_jobs=-1, random_state=7886),\n",
              "                    window_length=1)</pre></div></div></div><div class=\"sk-parallel\"><div class=\"sk-parallel-item\"><div class=\"sk-item\"><div class=\"sk-serial\"><div class='sk-item'><div class=\"sk-estimator sk-toggleable\"><input class=\"sk-toggleable__control sk-hidden--visually\" id=UUID('0784a23c-b66f-4483-bb2e-415b0f13f297') type=\"checkbox\" ><label for=UUID('0784a23c-b66f-4483-bb2e-415b0f13f297') class='sk-toggleable__label sk-toggleable__label-arrow'>RandomForestRegressor</label><div class=\"sk-toggleable__content\"><pre>RandomForestRegressor(n_jobs=-1, random_state=7886)</pre></div></div></div></div></div></div></div></div></div></div>"
            ],
            "text/plain": [
              "BaseCdsDtForecaster(fe_target_rr=[WindowSummarizer(lag_feature={'lag': [1]},\n",
              "                                                   n_jobs=1)],\n",
              "                    regressor=RandomForestRegressor(n_jobs=-1, random_state=7886),\n",
              "                    window_length=1)"
            ]
          },
          "execution_count": 16,
          "metadata": {},
          "output_type": "execute_result"
        }
      ],
      "source": [
        "from pycaret.time_series import compare_models\n",
        "best_model = compare_models()\n",
        "best_model"
      ]
    },
    {
      "cell_type": "markdown",
      "metadata": {},
      "source": [
        "After evaluating various models, it turns out that Random Forest gets the lowest MASE, MAE, and highest R2 score. Though ARIMA and Seasonal Naive Forecaster are two popular models in terms of time-series forecasting, we can neither choose one of them because of their poor performances"
      ]
    },
    {
      "cell_type": "code",
      "execution_count": 17,
      "metadata": {
        "colab": {
          "base_uri": "https://localhost:8080/",
          "height": 447,
          "referenced_widgets": [
            "fed76f0c868346e3bfe6a50c15da7a1e",
            "8f122c563740422e94ddd1efa28163b9",
            "8e0394f5e75e4548972ad7db2b019121",
            "bd38abb19bcd415183c5dd2741339b8c",
            "f77dabc04eab4560ae522f2dcb113a44",
            "f0509efedbbb4f57ae2dbeb90d89424a",
            "dfd7267bdc8f4539bea78fdebfde22ef",
            "fdf7136a9c2241eca2040bc4bfe47a29",
            "e6f0e390411447b0911e5ad2f49d97d7",
            "442d21fddd3243e5b179f39081e3221e",
            "5f5dfa28c2fe45bfb94b8d2c270b5620",
            "6cc6ceebfe214dce8e084ee21d62fe9e",
            "9c2e48fc37094c859b89f9d827d9ac18",
            "1f09dd4850c741ef94a9bad12d98c07e",
            "a28c6b740f364aa9aece72051e4bef46",
            "eb3f312546e148a5af99b81fe87552af",
            "60520cf58a964359af1cff4f2febea08",
            "2df80cbfbb0b492b993167a34875884e",
            "73270c7456464d11869c6767021bde17",
            "8f688a317f124a50ace0183b9e567c61",
            "c0c303a2f32d4360a2a49be4142bae9b",
            "399b1abca260408bacad9151cb04bff2"
          ]
        },
        "id": "W4Q-S5fdT-UE",
        "outputId": "5facb213-815a-4619-8c3b-1c616b8d64ab"
      },
      "outputs": [
        {
          "data": {
            "text/html": [
              "<div>\n",
              "<style scoped>\n",
              "    .dataframe tbody tr th:only-of-type {\n",
              "        vertical-align: middle;\n",
              "    }\n",
              "\n",
              "    .dataframe tbody tr th {\n",
              "        vertical-align: top;\n",
              "    }\n",
              "\n",
              "    .dataframe thead th {\n",
              "        text-align: right;\n",
              "    }\n",
              "</style>\n",
              "<table border=\"1\" class=\"dataframe\">\n",
              "  <thead>\n",
              "    <tr style=\"text-align: right;\">\n",
              "      <th></th>\n",
              "      <th></th>\n",
              "      <th></th>\n",
              "    </tr>\n",
              "    <tr>\n",
              "      <th></th>\n",
              "      <th></th>\n",
              "      <th></th>\n",
              "    </tr>\n",
              "  </thead>\n",
              "  <tbody>\n",
              "    <tr>\n",
              "      <th>Initiated</th>\n",
              "      <td>. . . . . . . . . . . . . . . . . .</td>\n",
              "      <td>17:47:26</td>\n",
              "    </tr>\n",
              "    <tr>\n",
              "      <th>Status</th>\n",
              "      <td>. . . . . . . . . . . . . . . . . .</td>\n",
              "      <td>Fitting 3 Folds</td>\n",
              "    </tr>\n",
              "    <tr>\n",
              "      <th>Estimator</th>\n",
              "      <td>. . . . . . . . . . . . . . . . . .</td>\n",
              "      <td>RandomForestRegressor</td>\n",
              "    </tr>\n",
              "  </tbody>\n",
              "</table>\n",
              "</div>"
            ],
            "text/plain": [
              "                                                                     \n",
              "                                                                     \n",
              "Initiated  . . . . . . . . . . . . . . . . . .               17:47:26\n",
              "Status     . . . . . . . . . . . . . . . . . .        Fitting 3 Folds\n",
              "Estimator  . . . . . . . . . . . . . . . . . .  RandomForestRegressor"
            ]
          },
          "metadata": {},
          "output_type": "display_data"
        },
        {
          "data": {
            "text/html": [
              "<style type=\"text/css\">\n",
              "#T_7b9f5_row3_col0, #T_7b9f5_row3_col1, #T_7b9f5_row3_col2, #T_7b9f5_row3_col3, #T_7b9f5_row3_col4, #T_7b9f5_row3_col5, #T_7b9f5_row3_col6, #T_7b9f5_row3_col7 {\n",
              "  background: yellow;\n",
              "}\n",
              "</style>\n",
              "<table id=\"T_7b9f5\">\n",
              "  <thead>\n",
              "    <tr>\n",
              "      <th class=\"blank level0\" >&nbsp;</th>\n",
              "      <th id=\"T_7b9f5_level0_col0\" class=\"col_heading level0 col0\" >cutoff</th>\n",
              "      <th id=\"T_7b9f5_level0_col1\" class=\"col_heading level0 col1\" >MASE</th>\n",
              "      <th id=\"T_7b9f5_level0_col2\" class=\"col_heading level0 col2\" >RMSSE</th>\n",
              "      <th id=\"T_7b9f5_level0_col3\" class=\"col_heading level0 col3\" >MAE</th>\n",
              "      <th id=\"T_7b9f5_level0_col4\" class=\"col_heading level0 col4\" >RMSE</th>\n",
              "      <th id=\"T_7b9f5_level0_col5\" class=\"col_heading level0 col5\" >MAPE</th>\n",
              "      <th id=\"T_7b9f5_level0_col6\" class=\"col_heading level0 col6\" >SMAPE</th>\n",
              "      <th id=\"T_7b9f5_level0_col7\" class=\"col_heading level0 col7\" >R2</th>\n",
              "    </tr>\n",
              "  </thead>\n",
              "  <tbody>\n",
              "    <tr>\n",
              "      <th id=\"T_7b9f5_level0_row0\" class=\"row_heading level0 row0\" >0</th>\n",
              "      <td id=\"T_7b9f5_row0_col0\" class=\"data row0 col0\" >2017-03-13/2017-03-19</td>\n",
              "      <td id=\"T_7b9f5_row0_col1\" class=\"data row0 col1\" >0.3460</td>\n",
              "      <td id=\"T_7b9f5_row0_col2\" class=\"data row0 col2\" >0.2199</td>\n",
              "      <td id=\"T_7b9f5_row0_col3\" class=\"data row0 col3\" >101.1306</td>\n",
              "      <td id=\"T_7b9f5_row0_col4\" class=\"data row0 col4\" >126.3417</td>\n",
              "      <td id=\"T_7b9f5_row0_col5\" class=\"data row0 col5\" >1.8854</td>\n",
              "      <td id=\"T_7b9f5_row0_col6\" class=\"data row0 col6\" >0.7414</td>\n",
              "      <td id=\"T_7b9f5_row0_col7\" class=\"data row0 col7\" >0.9111</td>\n",
              "    </tr>\n",
              "    <tr>\n",
              "      <th id=\"T_7b9f5_level0_row1\" class=\"row_heading level0 row1\" >1</th>\n",
              "      <td id=\"T_7b9f5_row1_col0\" class=\"data row1 col0\" >2017-05-22/2017-05-28</td>\n",
              "      <td id=\"T_7b9f5_row1_col1\" class=\"data row1 col1\" >0.3951</td>\n",
              "      <td id=\"T_7b9f5_row1_col2\" class=\"data row1 col2\" >0.2623</td>\n",
              "      <td id=\"T_7b9f5_row1_col3\" class=\"data row1 col3\" >118.3376</td>\n",
              "      <td id=\"T_7b9f5_row1_col4\" class=\"data row1 col4\" >152.1654</td>\n",
              "      <td id=\"T_7b9f5_row1_col5\" class=\"data row1 col5\" >7.8654</td>\n",
              "      <td id=\"T_7b9f5_row1_col6\" class=\"data row1 col6\" >0.7678</td>\n",
              "      <td id=\"T_7b9f5_row1_col7\" class=\"data row1 col7\" >0.6579</td>\n",
              "    </tr>\n",
              "    <tr>\n",
              "      <th id=\"T_7b9f5_level0_row2\" class=\"row_heading level0 row2\" >2</th>\n",
              "      <td id=\"T_7b9f5_row2_col0\" class=\"data row2 col0\" >2017-07-31/2017-08-06</td>\n",
              "      <td id=\"T_7b9f5_row2_col1\" class=\"data row2 col1\" >0.4915</td>\n",
              "      <td id=\"T_7b9f5_row2_col2\" class=\"data row2 col2\" >0.4373</td>\n",
              "      <td id=\"T_7b9f5_row2_col3\" class=\"data row2 col3\" >146.9390</td>\n",
              "      <td id=\"T_7b9f5_row2_col4\" class=\"data row2 col4\" >250.1375</td>\n",
              "      <td id=\"T_7b9f5_row2_col5\" class=\"data row2 col5\" >2.6562</td>\n",
              "      <td id=\"T_7b9f5_row2_col6\" class=\"data row2 col6\" >0.8268</td>\n",
              "      <td id=\"T_7b9f5_row2_col7\" class=\"data row2 col7\" >0.6603</td>\n",
              "    </tr>\n",
              "    <tr>\n",
              "      <th id=\"T_7b9f5_level0_row3\" class=\"row_heading level0 row3\" >Mean</th>\n",
              "      <td id=\"T_7b9f5_row3_col0\" class=\"data row3 col0\" >NaT</td>\n",
              "      <td id=\"T_7b9f5_row3_col1\" class=\"data row3 col1\" >0.4108</td>\n",
              "      <td id=\"T_7b9f5_row3_col2\" class=\"data row3 col2\" >0.3065</td>\n",
              "      <td id=\"T_7b9f5_row3_col3\" class=\"data row3 col3\" >122.1357</td>\n",
              "      <td id=\"T_7b9f5_row3_col4\" class=\"data row3 col4\" >176.2149</td>\n",
              "      <td id=\"T_7b9f5_row3_col5\" class=\"data row3 col5\" >4.1357</td>\n",
              "      <td id=\"T_7b9f5_row3_col6\" class=\"data row3 col6\" >0.7786</td>\n",
              "      <td id=\"T_7b9f5_row3_col7\" class=\"data row3 col7\" >0.7431</td>\n",
              "    </tr>\n",
              "    <tr>\n",
              "      <th id=\"T_7b9f5_level0_row4\" class=\"row_heading level0 row4\" >SD</th>\n",
              "      <td id=\"T_7b9f5_row4_col0\" class=\"data row4 col0\" >NaT</td>\n",
              "      <td id=\"T_7b9f5_row4_col1\" class=\"data row4 col1\" >0.0604</td>\n",
              "      <td id=\"T_7b9f5_row4_col2\" class=\"data row4 col2\" >0.0941</td>\n",
              "      <td id=\"T_7b9f5_row4_col3\" class=\"data row4 col3\" >18.8931</td>\n",
              "      <td id=\"T_7b9f5_row4_col4\" class=\"data row4 col4\" >53.3237</td>\n",
              "      <td id=\"T_7b9f5_row4_col5\" class=\"data row4 col5\" >2.6560</td>\n",
              "      <td id=\"T_7b9f5_row4_col6\" class=\"data row4 col6\" >0.0357</td>\n",
              "      <td id=\"T_7b9f5_row4_col7\" class=\"data row4 col7\" >0.1188</td>\n",
              "    </tr>\n",
              "  </tbody>\n",
              "</table>\n"
            ],
            "text/plain": [
              "<pandas.io.formats.style.Styler at 0x27223b50a60>"
            ]
          },
          "metadata": {},
          "output_type": "display_data"
        },
        {
          "data": {
            "text/html": [],
            "text/plain": [
              "<IPython.core.display.HTML object>"
            ]
          },
          "metadata": {},
          "output_type": "display_data"
        },
        {
          "data": {
            "text/html": [],
            "text/plain": [
              "<IPython.core.display.HTML object>"
            ]
          },
          "metadata": {},
          "output_type": "display_data"
        },
        {
          "data": {
            "text/html": [
              "<style type=\"text/css\">\n",
              "#T_e0cb8_row3_col0, #T_e0cb8_row3_col1, #T_e0cb8_row3_col2, #T_e0cb8_row3_col3, #T_e0cb8_row3_col4, #T_e0cb8_row3_col5, #T_e0cb8_row3_col6, #T_e0cb8_row3_col7 {\n",
              "  background: yellow;\n",
              "}\n",
              "</style>\n",
              "<table id=\"T_e0cb8\">\n",
              "  <thead>\n",
              "    <tr>\n",
              "      <th class=\"blank level0\" >&nbsp;</th>\n",
              "      <th id=\"T_e0cb8_level0_col0\" class=\"col_heading level0 col0\" >cutoff</th>\n",
              "      <th id=\"T_e0cb8_level0_col1\" class=\"col_heading level0 col1\" >MASE</th>\n",
              "      <th id=\"T_e0cb8_level0_col2\" class=\"col_heading level0 col2\" >RMSSE</th>\n",
              "      <th id=\"T_e0cb8_level0_col3\" class=\"col_heading level0 col3\" >MAE</th>\n",
              "      <th id=\"T_e0cb8_level0_col4\" class=\"col_heading level0 col4\" >RMSE</th>\n",
              "      <th id=\"T_e0cb8_level0_col5\" class=\"col_heading level0 col5\" >MAPE</th>\n",
              "      <th id=\"T_e0cb8_level0_col6\" class=\"col_heading level0 col6\" >SMAPE</th>\n",
              "      <th id=\"T_e0cb8_level0_col7\" class=\"col_heading level0 col7\" >R2</th>\n",
              "    </tr>\n",
              "  </thead>\n",
              "  <tbody>\n",
              "    <tr>\n",
              "      <th id=\"T_e0cb8_level0_row0\" class=\"row_heading level0 row0\" >0</th>\n",
              "      <td id=\"T_e0cb8_row0_col0\" class=\"data row0 col0\" >2017-03-13/2017-03-19</td>\n",
              "      <td id=\"T_e0cb8_row0_col1\" class=\"data row0 col1\" >0.3460</td>\n",
              "      <td id=\"T_e0cb8_row0_col2\" class=\"data row0 col2\" >0.2199</td>\n",
              "      <td id=\"T_e0cb8_row0_col3\" class=\"data row0 col3\" >101.1306</td>\n",
              "      <td id=\"T_e0cb8_row0_col4\" class=\"data row0 col4\" >126.3417</td>\n",
              "      <td id=\"T_e0cb8_row0_col5\" class=\"data row0 col5\" >1.8854</td>\n",
              "      <td id=\"T_e0cb8_row0_col6\" class=\"data row0 col6\" >0.7414</td>\n",
              "      <td id=\"T_e0cb8_row0_col7\" class=\"data row0 col7\" >0.9111</td>\n",
              "    </tr>\n",
              "    <tr>\n",
              "      <th id=\"T_e0cb8_level0_row1\" class=\"row_heading level0 row1\" >1</th>\n",
              "      <td id=\"T_e0cb8_row1_col0\" class=\"data row1 col0\" >2017-05-22/2017-05-28</td>\n",
              "      <td id=\"T_e0cb8_row1_col1\" class=\"data row1 col1\" >0.3951</td>\n",
              "      <td id=\"T_e0cb8_row1_col2\" class=\"data row1 col2\" >0.2623</td>\n",
              "      <td id=\"T_e0cb8_row1_col3\" class=\"data row1 col3\" >118.3376</td>\n",
              "      <td id=\"T_e0cb8_row1_col4\" class=\"data row1 col4\" >152.1654</td>\n",
              "      <td id=\"T_e0cb8_row1_col5\" class=\"data row1 col5\" >7.8654</td>\n",
              "      <td id=\"T_e0cb8_row1_col6\" class=\"data row1 col6\" >0.7678</td>\n",
              "      <td id=\"T_e0cb8_row1_col7\" class=\"data row1 col7\" >0.6579</td>\n",
              "    </tr>\n",
              "    <tr>\n",
              "      <th id=\"T_e0cb8_level0_row2\" class=\"row_heading level0 row2\" >2</th>\n",
              "      <td id=\"T_e0cb8_row2_col0\" class=\"data row2 col0\" >2017-07-31/2017-08-06</td>\n",
              "      <td id=\"T_e0cb8_row2_col1\" class=\"data row2 col1\" >0.4915</td>\n",
              "      <td id=\"T_e0cb8_row2_col2\" class=\"data row2 col2\" >0.4373</td>\n",
              "      <td id=\"T_e0cb8_row2_col3\" class=\"data row2 col3\" >146.9390</td>\n",
              "      <td id=\"T_e0cb8_row2_col4\" class=\"data row2 col4\" >250.1375</td>\n",
              "      <td id=\"T_e0cb8_row2_col5\" class=\"data row2 col5\" >2.6562</td>\n",
              "      <td id=\"T_e0cb8_row2_col6\" class=\"data row2 col6\" >0.8268</td>\n",
              "      <td id=\"T_e0cb8_row2_col7\" class=\"data row2 col7\" >0.6603</td>\n",
              "    </tr>\n",
              "    <tr>\n",
              "      <th id=\"T_e0cb8_level0_row3\" class=\"row_heading level0 row3\" >Mean</th>\n",
              "      <td id=\"T_e0cb8_row3_col0\" class=\"data row3 col0\" >NaT</td>\n",
              "      <td id=\"T_e0cb8_row3_col1\" class=\"data row3 col1\" >0.4108</td>\n",
              "      <td id=\"T_e0cb8_row3_col2\" class=\"data row3 col2\" >0.3065</td>\n",
              "      <td id=\"T_e0cb8_row3_col3\" class=\"data row3 col3\" >122.1357</td>\n",
              "      <td id=\"T_e0cb8_row3_col4\" class=\"data row3 col4\" >176.2149</td>\n",
              "      <td id=\"T_e0cb8_row3_col5\" class=\"data row3 col5\" >4.1357</td>\n",
              "      <td id=\"T_e0cb8_row3_col6\" class=\"data row3 col6\" >0.7786</td>\n",
              "      <td id=\"T_e0cb8_row3_col7\" class=\"data row3 col7\" >0.7431</td>\n",
              "    </tr>\n",
              "    <tr>\n",
              "      <th id=\"T_e0cb8_level0_row4\" class=\"row_heading level0 row4\" >SD</th>\n",
              "      <td id=\"T_e0cb8_row4_col0\" class=\"data row4 col0\" >NaT</td>\n",
              "      <td id=\"T_e0cb8_row4_col1\" class=\"data row4 col1\" >0.0604</td>\n",
              "      <td id=\"T_e0cb8_row4_col2\" class=\"data row4 col2\" >0.0941</td>\n",
              "      <td id=\"T_e0cb8_row4_col3\" class=\"data row4 col3\" >18.8931</td>\n",
              "      <td id=\"T_e0cb8_row4_col4\" class=\"data row4 col4\" >53.3237</td>\n",
              "      <td id=\"T_e0cb8_row4_col5\" class=\"data row4 col5\" >2.6560</td>\n",
              "      <td id=\"T_e0cb8_row4_col6\" class=\"data row4 col6\" >0.0357</td>\n",
              "      <td id=\"T_e0cb8_row4_col7\" class=\"data row4 col7\" >0.1188</td>\n",
              "    </tr>\n",
              "  </tbody>\n",
              "</table>\n"
            ],
            "text/plain": [
              "<pandas.io.formats.style.Styler at 0x272238db820>"
            ]
          },
          "metadata": {},
          "output_type": "display_data"
        },
        {
          "data": {
            "text/html": [],
            "text/plain": [
              "<IPython.core.display.HTML object>"
            ]
          },
          "metadata": {},
          "output_type": "display_data"
        },
        {
          "data": {
            "text/html": [],
            "text/plain": [
              "<IPython.core.display.HTML object>"
            ]
          },
          "metadata": {},
          "output_type": "display_data"
        },
        {
          "data": {
            "text/html": [
              "<style type=\"text/css\">\n",
              "#T_81dc1_row3_col0, #T_81dc1_row3_col1, #T_81dc1_row3_col2, #T_81dc1_row3_col3, #T_81dc1_row3_col4, #T_81dc1_row3_col5, #T_81dc1_row3_col6, #T_81dc1_row3_col7 {\n",
              "  background: yellow;\n",
              "}\n",
              "</style>\n",
              "<table id=\"T_81dc1\">\n",
              "  <thead>\n",
              "    <tr>\n",
              "      <th class=\"blank level0\" >&nbsp;</th>\n",
              "      <th id=\"T_81dc1_level0_col0\" class=\"col_heading level0 col0\" >cutoff</th>\n",
              "      <th id=\"T_81dc1_level0_col1\" class=\"col_heading level0 col1\" >MASE</th>\n",
              "      <th id=\"T_81dc1_level0_col2\" class=\"col_heading level0 col2\" >RMSSE</th>\n",
              "      <th id=\"T_81dc1_level0_col3\" class=\"col_heading level0 col3\" >MAE</th>\n",
              "      <th id=\"T_81dc1_level0_col4\" class=\"col_heading level0 col4\" >RMSE</th>\n",
              "      <th id=\"T_81dc1_level0_col5\" class=\"col_heading level0 col5\" >MAPE</th>\n",
              "      <th id=\"T_81dc1_level0_col6\" class=\"col_heading level0 col6\" >SMAPE</th>\n",
              "      <th id=\"T_81dc1_level0_col7\" class=\"col_heading level0 col7\" >R2</th>\n",
              "    </tr>\n",
              "  </thead>\n",
              "  <tbody>\n",
              "    <tr>\n",
              "      <th id=\"T_81dc1_level0_row0\" class=\"row_heading level0 row0\" >0</th>\n",
              "      <td id=\"T_81dc1_row0_col0\" class=\"data row0 col0\" >2017-03-13/2017-03-19</td>\n",
              "      <td id=\"T_81dc1_row0_col1\" class=\"data row0 col1\" >0.6318</td>\n",
              "      <td id=\"T_81dc1_row0_col2\" class=\"data row0 col2\" >0.3646</td>\n",
              "      <td id=\"T_81dc1_row0_col3\" class=\"data row0 col3\" >184.6616</td>\n",
              "      <td id=\"T_81dc1_row0_col4\" class=\"data row0 col4\" >209.4946</td>\n",
              "      <td id=\"T_81dc1_row0_col5\" class=\"data row0 col5\" >7.6144</td>\n",
              "      <td id=\"T_81dc1_row0_col6\" class=\"data row0 col6\" >0.9930</td>\n",
              "      <td id=\"T_81dc1_row0_col7\" class=\"data row0 col7\" >0.7556</td>\n",
              "    </tr>\n",
              "    <tr>\n",
              "      <th id=\"T_81dc1_level0_row1\" class=\"row_heading level0 row1\" >1</th>\n",
              "      <td id=\"T_81dc1_row1_col0\" class=\"data row1 col0\" >2017-05-22/2017-05-28</td>\n",
              "      <td id=\"T_81dc1_row1_col1\" class=\"data row1 col1\" >0.9131</td>\n",
              "      <td id=\"T_81dc1_row1_col2\" class=\"data row1 col2\" >0.4871</td>\n",
              "      <td id=\"T_81dc1_row1_col3\" class=\"data row1 col3\" >273.5135</td>\n",
              "      <td id=\"T_81dc1_row1_col4\" class=\"data row1 col4\" >282.5999</td>\n",
              "      <td id=\"T_81dc1_row1_col5\" class=\"data row1 col5\" >29.1935</td>\n",
              "      <td id=\"T_81dc1_row1_col6\" class=\"data row1 col6\" >1.1850</td>\n",
              "      <td id=\"T_81dc1_row1_col7\" class=\"data row1 col7\" >-0.1800</td>\n",
              "    </tr>\n",
              "    <tr>\n",
              "      <th id=\"T_81dc1_level0_row2\" class=\"row_heading level0 row2\" >2</th>\n",
              "      <td id=\"T_81dc1_row2_col0\" class=\"data row2 col0\" >2017-07-31/2017-08-06</td>\n",
              "      <td id=\"T_81dc1_row2_col1\" class=\"data row2 col1\" >0.9951</td>\n",
              "      <td id=\"T_81dc1_row2_col2\" class=\"data row2 col2\" >0.6627</td>\n",
              "      <td id=\"T_81dc1_row2_col3\" class=\"data row2 col3\" >297.4923</td>\n",
              "      <td id=\"T_81dc1_row2_col4\" class=\"data row2 col4\" >379.0410</td>\n",
              "      <td id=\"T_81dc1_row2_col5\" class=\"data row2 col5\" >9.1266</td>\n",
              "      <td id=\"T_81dc1_row2_col6\" class=\"data row2 col6\" >1.2632</td>\n",
              "      <td id=\"T_81dc1_row2_col7\" class=\"data row2 col7\" >0.2200</td>\n",
              "    </tr>\n",
              "    <tr>\n",
              "      <th id=\"T_81dc1_level0_row3\" class=\"row_heading level0 row3\" >Mean</th>\n",
              "      <td id=\"T_81dc1_row3_col0\" class=\"data row3 col0\" >NaT</td>\n",
              "      <td id=\"T_81dc1_row3_col1\" class=\"data row3 col1\" >0.8467</td>\n",
              "      <td id=\"T_81dc1_row3_col2\" class=\"data row3 col2\" >0.5048</td>\n",
              "      <td id=\"T_81dc1_row3_col3\" class=\"data row3 col3\" >251.8892</td>\n",
              "      <td id=\"T_81dc1_row3_col4\" class=\"data row3 col4\" >290.3785</td>\n",
              "      <td id=\"T_81dc1_row3_col5\" class=\"data row3 col5\" >15.3115</td>\n",
              "      <td id=\"T_81dc1_row3_col6\" class=\"data row3 col6\" >1.1471</td>\n",
              "      <td id=\"T_81dc1_row3_col7\" class=\"data row3 col7\" >0.2652</td>\n",
              "    </tr>\n",
              "    <tr>\n",
              "      <th id=\"T_81dc1_level0_row4\" class=\"row_heading level0 row4\" >SD</th>\n",
              "      <td id=\"T_81dc1_row4_col0\" class=\"data row4 col0\" >NaT</td>\n",
              "      <td id=\"T_81dc1_row4_col1\" class=\"data row4 col1\" >0.1556</td>\n",
              "      <td id=\"T_81dc1_row4_col2\" class=\"data row4 col2\" >0.1223</td>\n",
              "      <td id=\"T_81dc1_row4_col3\" class=\"data row4 col3\" >48.5346</td>\n",
              "      <td id=\"T_81dc1_row4_col4\" class=\"data row4 col4\" >69.4352</td>\n",
              "      <td id=\"T_81dc1_row4_col5\" class=\"data row4 col5\" >9.8355</td>\n",
              "      <td id=\"T_81dc1_row4_col6\" class=\"data row4 col6\" >0.1135</td>\n",
              "      <td id=\"T_81dc1_row4_col7\" class=\"data row4 col7\" >0.3833</td>\n",
              "    </tr>\n",
              "  </tbody>\n",
              "</table>\n"
            ],
            "text/plain": [
              "<pandas.io.formats.style.Styler at 0x272219584c0>"
            ]
          },
          "metadata": {},
          "output_type": "display_data"
        },
        {
          "data": {
            "text/html": [],
            "text/plain": [
              "<IPython.core.display.HTML object>"
            ]
          },
          "metadata": {},
          "output_type": "display_data"
        },
        {
          "name": "stdout",
          "output_type": "stream",
          "text": [
            "Fitting 3 folds for each of 10 candidates, totalling 30 fits\n"
          ]
        },
        {
          "name": "stderr",
          "output_type": "stream",
          "text": [
            "[Parallel(n_jobs=-1)]: Using backend LokyBackend with 8 concurrent workers.\n",
            "[Parallel(n_jobs=-1)]: Done  30 out of  30 | elapsed:   16.9s finished\n"
          ]
        }
      ],
      "source": [
        "# get the final model from pycaret and tune it\n",
        "from pycaret.time_series import create_model\n",
        "from pycaret.time_series.forecasting.functional import tune_model\n",
        "\n",
        "create_model(best_model)\n",
        "final_model = create_model(best_model)\n",
        "tuned_final_model = tune_model(final_model)"
      ]
    },
    {
      "cell_type": "code",
      "execution_count": 18,
      "metadata": {
        "colab": {
          "base_uri": "https://localhost:8080/",
          "height": 542
        },
        "id": "eKrXVC3KUHKK",
        "outputId": "482c7500-970f-4e52-826c-c52f1faa6a1b"
      },
      "outputs": [
        {
          "data": {
            "application/vnd.plotly.v1+json": {
              "config": {
                "plotlyServerURL": "https://plot.ly"
              },
              "data": [
                {
                  "line": {
                    "color": "rgb(31, 119, 180)",
                    "width": 2
                  },
                  "marker": {
                    "color": "rgb(31, 119, 180)",
                    "size": 5
                  },
                  "mode": "lines+markers",
                  "name": "Sales",
                  "type": "scattergl",
                  "x": [
                    "2013-12-30T00:00:00",
                    "2014-01-06T00:00:00",
                    "2014-01-13T00:00:00",
                    "2014-01-20T00:00:00",
                    "2014-01-27T00:00:00",
                    "2014-02-03T00:00:00",
                    "2014-02-10T00:00:00",
                    "2014-02-17T00:00:00",
                    "2014-02-24T00:00:00",
                    "2014-03-03T00:00:00",
                    "2014-03-10T00:00:00",
                    "2014-03-17T00:00:00",
                    "2014-03-24T00:00:00",
                    "2014-03-31T00:00:00",
                    "2014-04-07T00:00:00",
                    "2014-04-14T00:00:00",
                    "2014-04-21T00:00:00",
                    "2014-04-28T00:00:00",
                    "2014-05-05T00:00:00",
                    "2014-05-12T00:00:00",
                    "2014-05-19T00:00:00",
                    "2014-05-26T00:00:00",
                    "2014-06-02T00:00:00",
                    "2014-06-09T00:00:00",
                    "2014-06-16T00:00:00",
                    "2014-06-23T00:00:00",
                    "2014-06-30T00:00:00",
                    "2014-07-07T00:00:00",
                    "2014-07-14T00:00:00",
                    "2014-07-21T00:00:00",
                    "2014-07-28T00:00:00",
                    "2014-08-04T00:00:00",
                    "2014-08-11T00:00:00",
                    "2014-08-18T00:00:00",
                    "2014-08-25T00:00:00",
                    "2014-09-01T00:00:00",
                    "2014-09-08T00:00:00",
                    "2014-09-15T00:00:00",
                    "2014-09-22T00:00:00",
                    "2014-09-29T00:00:00",
                    "2014-10-06T00:00:00",
                    "2014-10-13T00:00:00",
                    "2014-10-20T00:00:00",
                    "2014-10-27T00:00:00",
                    "2014-11-03T00:00:00",
                    "2014-11-10T00:00:00",
                    "2014-11-17T00:00:00",
                    "2014-11-24T00:00:00",
                    "2014-12-01T00:00:00",
                    "2014-12-08T00:00:00",
                    "2014-12-15T00:00:00",
                    "2014-12-22T00:00:00",
                    "2014-12-29T00:00:00",
                    "2015-01-05T00:00:00",
                    "2015-01-12T00:00:00",
                    "2015-01-19T00:00:00",
                    "2015-01-26T00:00:00",
                    "2015-02-02T00:00:00",
                    "2015-02-09T00:00:00",
                    "2015-02-16T00:00:00",
                    "2015-02-23T00:00:00",
                    "2015-03-02T00:00:00",
                    "2015-03-09T00:00:00",
                    "2015-03-16T00:00:00",
                    "2015-03-23T00:00:00",
                    "2015-03-30T00:00:00",
                    "2015-04-06T00:00:00",
                    "2015-04-13T00:00:00",
                    "2015-04-20T00:00:00",
                    "2015-04-27T00:00:00",
                    "2015-05-04T00:00:00",
                    "2015-05-11T00:00:00",
                    "2015-05-18T00:00:00",
                    "2015-05-25T00:00:00",
                    "2015-06-01T00:00:00",
                    "2015-06-08T00:00:00",
                    "2015-06-15T00:00:00",
                    "2015-06-22T00:00:00",
                    "2015-06-29T00:00:00",
                    "2015-07-06T00:00:00",
                    "2015-07-13T00:00:00",
                    "2015-07-20T00:00:00",
                    "2015-07-27T00:00:00",
                    "2015-08-03T00:00:00",
                    "2015-08-10T00:00:00",
                    "2015-08-17T00:00:00",
                    "2015-08-24T00:00:00",
                    "2015-08-31T00:00:00",
                    "2015-09-07T00:00:00",
                    "2015-09-14T00:00:00",
                    "2015-09-21T00:00:00",
                    "2015-09-28T00:00:00",
                    "2015-10-05T00:00:00",
                    "2015-10-12T00:00:00",
                    "2015-10-19T00:00:00",
                    "2015-10-26T00:00:00",
                    "2015-11-02T00:00:00",
                    "2015-11-09T00:00:00",
                    "2015-11-16T00:00:00",
                    "2015-11-23T00:00:00",
                    "2015-11-30T00:00:00",
                    "2015-12-07T00:00:00",
                    "2015-12-14T00:00:00",
                    "2015-12-21T00:00:00",
                    "2015-12-28T00:00:00",
                    "2016-01-04T00:00:00",
                    "2016-01-11T00:00:00",
                    "2016-01-18T00:00:00",
                    "2016-01-25T00:00:00",
                    "2016-02-01T00:00:00",
                    "2016-02-08T00:00:00",
                    "2016-02-15T00:00:00",
                    "2016-02-22T00:00:00",
                    "2016-02-29T00:00:00",
                    "2016-03-07T00:00:00",
                    "2016-03-14T00:00:00",
                    "2016-03-21T00:00:00",
                    "2016-03-28T00:00:00",
                    "2016-04-04T00:00:00",
                    "2016-04-11T00:00:00",
                    "2016-04-18T00:00:00",
                    "2016-04-25T00:00:00",
                    "2016-05-02T00:00:00",
                    "2016-05-09T00:00:00",
                    "2016-05-16T00:00:00",
                    "2016-05-23T00:00:00",
                    "2016-05-30T00:00:00",
                    "2016-06-06T00:00:00",
                    "2016-06-13T00:00:00",
                    "2016-06-20T00:00:00",
                    "2016-06-27T00:00:00",
                    "2016-07-04T00:00:00",
                    "2016-07-11T00:00:00",
                    "2016-07-18T00:00:00",
                    "2016-07-25T00:00:00",
                    "2016-08-01T00:00:00",
                    "2016-08-08T00:00:00",
                    "2016-08-15T00:00:00",
                    "2016-08-22T00:00:00",
                    "2016-08-29T00:00:00",
                    "2016-09-05T00:00:00",
                    "2016-09-12T00:00:00",
                    "2016-09-19T00:00:00",
                    "2016-09-26T00:00:00",
                    "2016-10-03T00:00:00",
                    "2016-10-10T00:00:00",
                    "2016-10-17T00:00:00",
                    "2016-10-24T00:00:00",
                    "2016-10-31T00:00:00",
                    "2016-11-07T00:00:00",
                    "2016-11-14T00:00:00",
                    "2016-11-21T00:00:00",
                    "2016-11-28T00:00:00",
                    "2016-12-05T00:00:00",
                    "2016-12-12T00:00:00",
                    "2016-12-19T00:00:00",
                    "2016-12-26T00:00:00",
                    "2017-01-02T00:00:00",
                    "2017-01-09T00:00:00",
                    "2017-01-16T00:00:00",
                    "2017-01-23T00:00:00",
                    "2017-01-30T00:00:00",
                    "2017-02-06T00:00:00",
                    "2017-02-13T00:00:00",
                    "2017-02-20T00:00:00",
                    "2017-02-27T00:00:00",
                    "2017-03-06T00:00:00",
                    "2017-03-13T00:00:00",
                    "2017-03-20T00:00:00",
                    "2017-03-27T00:00:00",
                    "2017-04-03T00:00:00",
                    "2017-04-10T00:00:00",
                    "2017-04-17T00:00:00",
                    "2017-04-24T00:00:00",
                    "2017-05-01T00:00:00",
                    "2017-05-08T00:00:00",
                    "2017-05-15T00:00:00",
                    "2017-05-22T00:00:00",
                    "2017-05-29T00:00:00",
                    "2017-06-05T00:00:00",
                    "2017-06-12T00:00:00",
                    "2017-06-19T00:00:00",
                    "2017-06-26T00:00:00",
                    "2017-07-03T00:00:00",
                    "2017-07-10T00:00:00",
                    "2017-07-17T00:00:00",
                    "2017-07-24T00:00:00",
                    "2017-07-31T00:00:00",
                    "2017-08-07T00:00:00",
                    "2017-08-14T00:00:00",
                    "2017-08-21T00:00:00",
                    "2017-08-28T00:00:00",
                    "2017-09-04T00:00:00",
                    "2017-09-11T00:00:00",
                    "2017-09-18T00:00:00",
                    "2017-09-25T00:00:00",
                    "2017-10-02T00:00:00",
                    "2017-10-09T00:00:00",
                    "2017-10-16T00:00:00",
                    "2017-10-23T00:00:00",
                    "2017-10-30T00:00:00",
                    "2017-11-06T00:00:00",
                    "2017-11-13T00:00:00",
                    "2017-11-20T00:00:00",
                    "2017-11-27T00:00:00",
                    "2017-12-04T00:00:00",
                    "2017-12-11T00:00:00",
                    "2017-12-18T00:00:00"
                  ],
                  "xaxis": "x",
                  "y": [
                    19.536,
                    null,
                    32.34,
                    62.82,
                    12.35,
                    null,
                    1.08,
                    6.936,
                    11.36,
                    null,
                    471.92,
                    330.4,
                    49.65,
                    44.91,
                    17.856,
                    744.1,
                    null,
                    46.8,
                    58.112,
                    779.796,
                    75.6,
                    2001.86,
                    585.552,
                    99.918,
                    196.752,
                    32.76,
                    559.992,
                    351.216,
                    342.864,
                    238,
                    218.75,
                    null,
                    15.552,
                    8.288,
                    92.52,
                    64.784,
                    52.448,
                    246.384,
                    46.26,
                    91.92,
                    14.9,
                    13.44,
                    63.92,
                    34.86,
                    340.92,
                    273.96,
                    603.92,
                    62.28,
                    105.52,
                    5.104,
                    1325.76,
                    99.136,
                    32.34,
                    null,
                    null,
                    null,
                    null,
                    107.982,
                    134.97,
                    79.36,
                    58.72,
                    512.94,
                    16.776,
                    18.392,
                    1166.92,
                    157.794,
                    40.74,
                    19.568,
                    831.936,
                    665.88,
                    70.97,
                    33.28,
                    602.651,
                    58.38,
                    7.52,
                    51.072,
                    107.976,
                    5.904,
                    4.928,
                    383.607,
                    2.025,
                    393.165,
                    6.368,
                    2.2,
                    2.304,
                    31.68,
                    null,
                    6.096,
                    199.96,
                    37.68,
                    15.08,
                    392.94,
                    957.5775,
                    27.696,
                    60.45,
                    35.36,
                    11.65,
                    250.272,
                    68.81,
                    301.96,
                    120.15,
                    12.96,
                    88.8,
                    113.328,
                    114.46,
                    79.92,
                    322.59,
                    31.36,
                    109.592,
                    100,
                    4.77,
                    12.99,
                    36.48,
                    431.94,
                    157.92,
                    84.784,
                    20.24,
                    99.846,
                    8.904,
                    36.792,
                    258.696,
                    3.984,
                    211.96,
                    511.84,
                    345,
                    979.95,
                    124.608,
                    14.62,
                    17.12,
                    14.7,
                    12.96,
                    16.768,
                    77.88,
                    253.764,
                    283.14,
                    179.97,
                    15.54,
                    9.216,
                    15.48,
                    3.912,
                    7.61,
                    4.616,
                    393.165,
                    61.44,
                    23.976,
                    142.182,
                    379.4,
                    11.68,
                    81.424,
                    44.02,
                    14.62,
                    97.984,
                    113.79,
                    15.26,
                    254.058,
                    2575.944,
                    48.896,
                    892.98,
                    34.384,
                    2999.95,
                    12.128,
                    243.992,
                    null,
                    1245.86,
                    81.92,
                    25.06,
                    69.93,
                    28.91,
                    257.568,
                    25.11,
                    9.82,
                    16.52,
                    121.94,
                    62.96,
                    1458.65,
                    18.28,
                    520.05,
                    301.96,
                    31.984,
                    122.97,
                    917.9235,
                    71.04,
                    163.96,
                    1.08,
                    71.372,
                    13.128,
                    330.4,
                    145.74,
                    31.44,
                    239.12,
                    1488.424,
                    42.616,
                    147.168,
                    12.96,
                    17.88,
                    6.672,
                    103.192,
                    87.92,
                    2399.6,
                    46.96,
                    2.388,
                    10.56,
                    219.075,
                    126.3,
                    83.92,
                    19.936,
                    66.284,
                    35.91
                  ],
                  "yaxis": "y"
                },
                {
                  "line": {
                    "color": "rgb(255, 127, 14)",
                    "width": 2
                  },
                  "marker": {
                    "color": "rgb(255, 127, 14)",
                    "size": 5
                  },
                  "mode": "lines+markers",
                  "name": "RandomForestRegressor",
                  "type": "scattergl",
                  "x": [
                    "2013-12-30T00:00:00",
                    "2014-01-06T00:00:00",
                    "2014-01-13T00:00:00",
                    "2014-01-20T00:00:00",
                    "2014-01-27T00:00:00",
                    "2014-02-03T00:00:00",
                    "2014-02-10T00:00:00",
                    "2014-02-17T00:00:00",
                    "2014-02-24T00:00:00",
                    "2014-03-03T00:00:00",
                    "2014-03-10T00:00:00",
                    "2014-03-17T00:00:00",
                    "2014-03-24T00:00:00",
                    "2014-03-31T00:00:00",
                    "2014-04-07T00:00:00",
                    "2014-04-14T00:00:00",
                    "2014-04-21T00:00:00",
                    "2014-04-28T00:00:00",
                    "2014-05-05T00:00:00",
                    "2014-05-12T00:00:00",
                    "2014-05-19T00:00:00",
                    "2014-05-26T00:00:00",
                    "2014-06-02T00:00:00",
                    "2014-06-09T00:00:00",
                    "2014-06-16T00:00:00",
                    "2014-06-23T00:00:00",
                    "2014-06-30T00:00:00",
                    "2014-07-07T00:00:00",
                    "2014-07-14T00:00:00",
                    "2014-07-21T00:00:00",
                    "2014-07-28T00:00:00",
                    "2014-08-04T00:00:00",
                    "2014-08-11T00:00:00",
                    "2014-08-18T00:00:00",
                    "2014-08-25T00:00:00",
                    "2014-09-01T00:00:00",
                    "2014-09-08T00:00:00",
                    "2014-09-15T00:00:00",
                    "2014-09-22T00:00:00",
                    "2014-09-29T00:00:00",
                    "2014-10-06T00:00:00",
                    "2014-10-13T00:00:00",
                    "2014-10-20T00:00:00",
                    "2014-10-27T00:00:00",
                    "2014-11-03T00:00:00",
                    "2014-11-10T00:00:00",
                    "2014-11-17T00:00:00",
                    "2014-11-24T00:00:00",
                    "2014-12-01T00:00:00",
                    "2014-12-08T00:00:00",
                    "2014-12-15T00:00:00",
                    "2014-12-22T00:00:00",
                    "2014-12-29T00:00:00",
                    "2015-01-05T00:00:00",
                    "2015-01-12T00:00:00",
                    "2015-01-19T00:00:00",
                    "2015-01-26T00:00:00",
                    "2015-02-02T00:00:00",
                    "2015-02-09T00:00:00",
                    "2015-02-16T00:00:00",
                    "2015-02-23T00:00:00",
                    "2015-03-02T00:00:00",
                    "2015-03-09T00:00:00",
                    "2015-03-16T00:00:00",
                    "2015-03-23T00:00:00",
                    "2015-03-30T00:00:00",
                    "2015-04-06T00:00:00",
                    "2015-04-13T00:00:00",
                    "2015-04-20T00:00:00",
                    "2015-04-27T00:00:00",
                    "2015-05-04T00:00:00",
                    "2015-05-11T00:00:00",
                    "2015-05-18T00:00:00",
                    "2015-05-25T00:00:00",
                    "2015-06-01T00:00:00",
                    "2015-06-08T00:00:00",
                    "2015-06-15T00:00:00",
                    "2015-06-22T00:00:00",
                    "2015-06-29T00:00:00",
                    "2015-07-06T00:00:00",
                    "2015-07-13T00:00:00",
                    "2015-07-20T00:00:00",
                    "2015-07-27T00:00:00",
                    "2015-08-03T00:00:00",
                    "2015-08-10T00:00:00",
                    "2015-08-17T00:00:00",
                    "2015-08-24T00:00:00",
                    "2015-08-31T00:00:00",
                    "2015-09-07T00:00:00",
                    "2015-09-14T00:00:00",
                    "2015-09-21T00:00:00",
                    "2015-09-28T00:00:00",
                    "2015-10-05T00:00:00",
                    "2015-10-12T00:00:00",
                    "2015-10-19T00:00:00",
                    "2015-10-26T00:00:00",
                    "2015-11-02T00:00:00",
                    "2015-11-09T00:00:00",
                    "2015-11-16T00:00:00",
                    "2015-11-23T00:00:00",
                    "2015-11-30T00:00:00",
                    "2015-12-07T00:00:00",
                    "2015-12-14T00:00:00",
                    "2015-12-21T00:00:00",
                    "2015-12-28T00:00:00",
                    "2016-01-04T00:00:00",
                    "2016-01-11T00:00:00",
                    "2016-01-18T00:00:00",
                    "2016-01-25T00:00:00",
                    "2016-02-01T00:00:00",
                    "2016-02-08T00:00:00",
                    "2016-02-15T00:00:00",
                    "2016-02-22T00:00:00",
                    "2016-02-29T00:00:00",
                    "2016-03-07T00:00:00",
                    "2016-03-14T00:00:00",
                    "2016-03-21T00:00:00",
                    "2016-03-28T00:00:00",
                    "2016-04-04T00:00:00",
                    "2016-04-11T00:00:00",
                    "2016-04-18T00:00:00",
                    "2016-04-25T00:00:00",
                    "2016-05-02T00:00:00",
                    "2016-05-09T00:00:00",
                    "2016-05-16T00:00:00",
                    "2016-05-23T00:00:00",
                    "2016-05-30T00:00:00",
                    "2016-06-06T00:00:00",
                    "2016-06-13T00:00:00",
                    "2016-06-20T00:00:00",
                    "2016-06-27T00:00:00",
                    "2016-07-04T00:00:00",
                    "2016-07-11T00:00:00",
                    "2016-07-18T00:00:00",
                    "2016-07-25T00:00:00",
                    "2016-08-01T00:00:00",
                    "2016-08-08T00:00:00",
                    "2016-08-15T00:00:00",
                    "2016-08-22T00:00:00",
                    "2016-08-29T00:00:00",
                    "2016-09-05T00:00:00",
                    "2016-09-12T00:00:00",
                    "2016-09-19T00:00:00",
                    "2016-09-26T00:00:00",
                    "2016-10-03T00:00:00",
                    "2016-10-10T00:00:00",
                    "2016-10-17T00:00:00",
                    "2016-10-24T00:00:00",
                    "2016-10-31T00:00:00",
                    "2016-11-07T00:00:00",
                    "2016-11-14T00:00:00",
                    "2016-11-21T00:00:00",
                    "2016-11-28T00:00:00",
                    "2016-12-05T00:00:00",
                    "2016-12-12T00:00:00",
                    "2016-12-19T00:00:00",
                    "2016-12-26T00:00:00",
                    "2017-01-02T00:00:00",
                    "2017-01-09T00:00:00",
                    "2017-01-16T00:00:00",
                    "2017-01-23T00:00:00",
                    "2017-01-30T00:00:00",
                    "2017-02-06T00:00:00",
                    "2017-02-13T00:00:00",
                    "2017-02-20T00:00:00",
                    "2017-02-27T00:00:00",
                    "2017-03-06T00:00:00",
                    "2017-03-13T00:00:00",
                    "2017-03-20T00:00:00",
                    "2017-03-27T00:00:00",
                    "2017-04-03T00:00:00",
                    "2017-04-10T00:00:00",
                    "2017-04-17T00:00:00",
                    "2017-04-24T00:00:00",
                    "2017-05-01T00:00:00",
                    "2017-05-08T00:00:00",
                    "2017-05-15T00:00:00",
                    "2017-05-22T00:00:00",
                    "2017-05-29T00:00:00",
                    "2017-06-05T00:00:00",
                    "2017-06-12T00:00:00",
                    "2017-06-19T00:00:00",
                    "2017-06-26T00:00:00",
                    "2017-07-03T00:00:00",
                    "2017-07-10T00:00:00",
                    "2017-07-17T00:00:00",
                    "2017-07-24T00:00:00",
                    "2017-07-31T00:00:00",
                    "2017-08-07T00:00:00",
                    "2017-08-14T00:00:00",
                    "2017-08-21T00:00:00",
                    "2017-08-28T00:00:00",
                    "2017-09-04T00:00:00",
                    "2017-09-11T00:00:00",
                    "2017-09-18T00:00:00",
                    "2017-09-25T00:00:00",
                    "2017-10-02T00:00:00",
                    "2017-10-09T00:00:00",
                    "2017-10-16T00:00:00",
                    "2017-10-23T00:00:00",
                    "2017-10-30T00:00:00",
                    "2017-11-06T00:00:00",
                    "2017-11-13T00:00:00",
                    "2017-11-20T00:00:00",
                    "2017-11-27T00:00:00",
                    "2017-12-04T00:00:00",
                    "2017-12-11T00:00:00",
                    "2017-12-18T00:00:00"
                  ],
                  "xaxis": "x",
                  "y": [
                    null,
                    null,
                    null,
                    null,
                    null,
                    null,
                    null,
                    null,
                    null,
                    null,
                    null,
                    null,
                    null,
                    null,
                    null,
                    null,
                    null,
                    null,
                    null,
                    null,
                    null,
                    null,
                    null,
                    null,
                    null,
                    null,
                    null,
                    null,
                    null,
                    null,
                    null,
                    null,
                    null,
                    null,
                    null,
                    null,
                    null,
                    null,
                    null,
                    null,
                    null,
                    null,
                    null,
                    null,
                    null,
                    null,
                    null,
                    null,
                    null,
                    null,
                    null,
                    null,
                    null,
                    null,
                    null,
                    null,
                    null,
                    null,
                    null,
                    null,
                    null,
                    null,
                    null,
                    null,
                    null,
                    null,
                    null,
                    null,
                    null,
                    null,
                    null,
                    null,
                    null,
                    null,
                    null,
                    null,
                    null,
                    null,
                    null,
                    null,
                    null,
                    null,
                    null,
                    null,
                    null,
                    null,
                    null,
                    null,
                    null,
                    null,
                    null,
                    null,
                    null,
                    null,
                    null,
                    null,
                    null,
                    null,
                    null,
                    null,
                    null,
                    null,
                    null,
                    null,
                    null,
                    null,
                    null,
                    null,
                    null,
                    null,
                    null,
                    null,
                    null,
                    null,
                    null,
                    null,
                    null,
                    null,
                    null,
                    null,
                    null,
                    null,
                    null,
                    null,
                    null,
                    null,
                    null,
                    null,
                    null,
                    null,
                    null,
                    null,
                    null,
                    null,
                    null,
                    null,
                    null,
                    null,
                    null,
                    null,
                    null,
                    null,
                    null,
                    null,
                    null,
                    null,
                    null,
                    null,
                    null,
                    null,
                    null,
                    null,
                    null,
                    null,
                    null,
                    null,
                    null,
                    null,
                    null,
                    null,
                    null,
                    null,
                    null,
                    null,
                    null,
                    null,
                    null,
                    null,
                    null,
                    null,
                    null,
                    null,
                    null,
                    null,
                    null,
                    null,
                    null,
                    null,
                    null,
                    null,
                    null,
                    null,
                    null,
                    null,
                    null,
                    null,
                    null,
                    null,
                    null,
                    null,
                    null,
                    null,
                    null,
                    null,
                    null,
                    null,
                    null,
                    null,
                    1533.9808,
                    116.4569,
                    61.1969,
                    110.0762,
                    270.3432,
                    311.1771,
                    180.1778,
                    91.3507,
                    203.6197,
                    80.5723
                  ],
                  "yaxis": "y"
                }
              ],
              "layout": {
                "showlegend": true,
                "template": {
                  "data": {
                    "bar": [
                      {
                        "error_x": {
                          "color": "rgb(51,51,51)"
                        },
                        "error_y": {
                          "color": "rgb(51,51,51)"
                        },
                        "marker": {
                          "line": {
                            "color": "rgb(237,237,237)",
                            "width": 0.5
                          },
                          "pattern": {
                            "fillmode": "overlay",
                            "size": 10,
                            "solidity": 0.2
                          }
                        },
                        "type": "bar"
                      }
                    ],
                    "barpolar": [
                      {
                        "marker": {
                          "line": {
                            "color": "rgb(237,237,237)",
                            "width": 0.5
                          },
                          "pattern": {
                            "fillmode": "overlay",
                            "size": 10,
                            "solidity": 0.2
                          }
                        },
                        "type": "barpolar"
                      }
                    ],
                    "carpet": [
                      {
                        "aaxis": {
                          "endlinecolor": "rgb(51,51,51)",
                          "gridcolor": "white",
                          "linecolor": "white",
                          "minorgridcolor": "white",
                          "startlinecolor": "rgb(51,51,51)"
                        },
                        "baxis": {
                          "endlinecolor": "rgb(51,51,51)",
                          "gridcolor": "white",
                          "linecolor": "white",
                          "minorgridcolor": "white",
                          "startlinecolor": "rgb(51,51,51)"
                        },
                        "type": "carpet"
                      }
                    ],
                    "choropleth": [
                      {
                        "colorbar": {
                          "outlinewidth": 0,
                          "tickcolor": "rgb(237,237,237)",
                          "ticklen": 6,
                          "ticks": "inside"
                        },
                        "type": "choropleth"
                      }
                    ],
                    "contour": [
                      {
                        "colorbar": {
                          "outlinewidth": 0,
                          "tickcolor": "rgb(237,237,237)",
                          "ticklen": 6,
                          "ticks": "inside"
                        },
                        "colorscale": [
                          [
                            0,
                            "rgb(20,44,66)"
                          ],
                          [
                            1,
                            "rgb(90,179,244)"
                          ]
                        ],
                        "type": "contour"
                      }
                    ],
                    "contourcarpet": [
                      {
                        "colorbar": {
                          "outlinewidth": 0,
                          "tickcolor": "rgb(237,237,237)",
                          "ticklen": 6,
                          "ticks": "inside"
                        },
                        "type": "contourcarpet"
                      }
                    ],
                    "heatmap": [
                      {
                        "colorbar": {
                          "outlinewidth": 0,
                          "tickcolor": "rgb(237,237,237)",
                          "ticklen": 6,
                          "ticks": "inside"
                        },
                        "colorscale": [
                          [
                            0,
                            "rgb(20,44,66)"
                          ],
                          [
                            1,
                            "rgb(90,179,244)"
                          ]
                        ],
                        "type": "heatmap"
                      }
                    ],
                    "heatmapgl": [
                      {
                        "colorbar": {
                          "outlinewidth": 0,
                          "tickcolor": "rgb(237,237,237)",
                          "ticklen": 6,
                          "ticks": "inside"
                        },
                        "colorscale": [
                          [
                            0,
                            "rgb(20,44,66)"
                          ],
                          [
                            1,
                            "rgb(90,179,244)"
                          ]
                        ],
                        "type": "heatmapgl"
                      }
                    ],
                    "histogram": [
                      {
                        "marker": {
                          "pattern": {
                            "fillmode": "overlay",
                            "size": 10,
                            "solidity": 0.2
                          }
                        },
                        "type": "histogram"
                      }
                    ],
                    "histogram2d": [
                      {
                        "colorbar": {
                          "outlinewidth": 0,
                          "tickcolor": "rgb(237,237,237)",
                          "ticklen": 6,
                          "ticks": "inside"
                        },
                        "colorscale": [
                          [
                            0,
                            "rgb(20,44,66)"
                          ],
                          [
                            1,
                            "rgb(90,179,244)"
                          ]
                        ],
                        "type": "histogram2d"
                      }
                    ],
                    "histogram2dcontour": [
                      {
                        "colorbar": {
                          "outlinewidth": 0,
                          "tickcolor": "rgb(237,237,237)",
                          "ticklen": 6,
                          "ticks": "inside"
                        },
                        "colorscale": [
                          [
                            0,
                            "rgb(20,44,66)"
                          ],
                          [
                            1,
                            "rgb(90,179,244)"
                          ]
                        ],
                        "type": "histogram2dcontour"
                      }
                    ],
                    "mesh3d": [
                      {
                        "colorbar": {
                          "outlinewidth": 0,
                          "tickcolor": "rgb(237,237,237)",
                          "ticklen": 6,
                          "ticks": "inside"
                        },
                        "type": "mesh3d"
                      }
                    ],
                    "parcoords": [
                      {
                        "line": {
                          "colorbar": {
                            "outlinewidth": 0,
                            "tickcolor": "rgb(237,237,237)",
                            "ticklen": 6,
                            "ticks": "inside"
                          }
                        },
                        "type": "parcoords"
                      }
                    ],
                    "pie": [
                      {
                        "automargin": true,
                        "type": "pie"
                      }
                    ],
                    "scatter": [
                      {
                        "fillpattern": {
                          "fillmode": "overlay",
                          "size": 10,
                          "solidity": 0.2
                        },
                        "type": "scatter"
                      }
                    ],
                    "scatter3d": [
                      {
                        "line": {
                          "colorbar": {
                            "outlinewidth": 0,
                            "tickcolor": "rgb(237,237,237)",
                            "ticklen": 6,
                            "ticks": "inside"
                          }
                        },
                        "marker": {
                          "colorbar": {
                            "outlinewidth": 0,
                            "tickcolor": "rgb(237,237,237)",
                            "ticklen": 6,
                            "ticks": "inside"
                          }
                        },
                        "type": "scatter3d"
                      }
                    ],
                    "scattercarpet": [
                      {
                        "marker": {
                          "colorbar": {
                            "outlinewidth": 0,
                            "tickcolor": "rgb(237,237,237)",
                            "ticklen": 6,
                            "ticks": "inside"
                          }
                        },
                        "type": "scattercarpet"
                      }
                    ],
                    "scattergeo": [
                      {
                        "marker": {
                          "colorbar": {
                            "outlinewidth": 0,
                            "tickcolor": "rgb(237,237,237)",
                            "ticklen": 6,
                            "ticks": "inside"
                          }
                        },
                        "type": "scattergeo"
                      }
                    ],
                    "scattergl": [
                      {
                        "marker": {
                          "colorbar": {
                            "outlinewidth": 0,
                            "tickcolor": "rgb(237,237,237)",
                            "ticklen": 6,
                            "ticks": "inside"
                          }
                        },
                        "type": "scattergl"
                      }
                    ],
                    "scattermapbox": [
                      {
                        "marker": {
                          "colorbar": {
                            "outlinewidth": 0,
                            "tickcolor": "rgb(237,237,237)",
                            "ticklen": 6,
                            "ticks": "inside"
                          }
                        },
                        "type": "scattermapbox"
                      }
                    ],
                    "scatterpolar": [
                      {
                        "marker": {
                          "colorbar": {
                            "outlinewidth": 0,
                            "tickcolor": "rgb(237,237,237)",
                            "ticklen": 6,
                            "ticks": "inside"
                          }
                        },
                        "type": "scatterpolar"
                      }
                    ],
                    "scatterpolargl": [
                      {
                        "marker": {
                          "colorbar": {
                            "outlinewidth": 0,
                            "tickcolor": "rgb(237,237,237)",
                            "ticklen": 6,
                            "ticks": "inside"
                          }
                        },
                        "type": "scatterpolargl"
                      }
                    ],
                    "scatterternary": [
                      {
                        "marker": {
                          "colorbar": {
                            "outlinewidth": 0,
                            "tickcolor": "rgb(237,237,237)",
                            "ticklen": 6,
                            "ticks": "inside"
                          }
                        },
                        "type": "scatterternary"
                      }
                    ],
                    "surface": [
                      {
                        "colorbar": {
                          "outlinewidth": 0,
                          "tickcolor": "rgb(237,237,237)",
                          "ticklen": 6,
                          "ticks": "inside"
                        },
                        "colorscale": [
                          [
                            0,
                            "rgb(20,44,66)"
                          ],
                          [
                            1,
                            "rgb(90,179,244)"
                          ]
                        ],
                        "type": "surface"
                      }
                    ],
                    "table": [
                      {
                        "cells": {
                          "fill": {
                            "color": "rgb(237,237,237)"
                          },
                          "line": {
                            "color": "white"
                          }
                        },
                        "header": {
                          "fill": {
                            "color": "rgb(217,217,217)"
                          },
                          "line": {
                            "color": "white"
                          }
                        },
                        "type": "table"
                      }
                    ]
                  },
                  "layout": {
                    "annotationdefaults": {
                      "arrowhead": 0,
                      "arrowwidth": 1
                    },
                    "autotypenumbers": "strict",
                    "coloraxis": {
                      "colorbar": {
                        "outlinewidth": 0,
                        "tickcolor": "rgb(237,237,237)",
                        "ticklen": 6,
                        "ticks": "inside"
                      }
                    },
                    "colorscale": {
                      "sequential": [
                        [
                          0,
                          "rgb(20,44,66)"
                        ],
                        [
                          1,
                          "rgb(90,179,244)"
                        ]
                      ],
                      "sequentialminus": [
                        [
                          0,
                          "rgb(20,44,66)"
                        ],
                        [
                          1,
                          "rgb(90,179,244)"
                        ]
                      ]
                    },
                    "colorway": [
                      "#F8766D",
                      "#A3A500",
                      "#00BF7D",
                      "#00B0F6",
                      "#E76BF3"
                    ],
                    "font": {
                      "color": "rgb(51,51,51)"
                    },
                    "geo": {
                      "bgcolor": "white",
                      "lakecolor": "white",
                      "landcolor": "rgb(237,237,237)",
                      "showlakes": true,
                      "showland": true,
                      "subunitcolor": "white"
                    },
                    "hoverlabel": {
                      "align": "left"
                    },
                    "hovermode": "closest",
                    "paper_bgcolor": "white",
                    "plot_bgcolor": "rgb(237,237,237)",
                    "polar": {
                      "angularaxis": {
                        "gridcolor": "white",
                        "linecolor": "white",
                        "showgrid": true,
                        "tickcolor": "rgb(51,51,51)",
                        "ticks": "outside"
                      },
                      "bgcolor": "rgb(237,237,237)",
                      "radialaxis": {
                        "gridcolor": "white",
                        "linecolor": "white",
                        "showgrid": true,
                        "tickcolor": "rgb(51,51,51)",
                        "ticks": "outside"
                      }
                    },
                    "scene": {
                      "xaxis": {
                        "backgroundcolor": "rgb(237,237,237)",
                        "gridcolor": "white",
                        "gridwidth": 2,
                        "linecolor": "white",
                        "showbackground": true,
                        "showgrid": true,
                        "tickcolor": "rgb(51,51,51)",
                        "ticks": "outside",
                        "zerolinecolor": "white"
                      },
                      "yaxis": {
                        "backgroundcolor": "rgb(237,237,237)",
                        "gridcolor": "white",
                        "gridwidth": 2,
                        "linecolor": "white",
                        "showbackground": true,
                        "showgrid": true,
                        "tickcolor": "rgb(51,51,51)",
                        "ticks": "outside",
                        "zerolinecolor": "white"
                      },
                      "zaxis": {
                        "backgroundcolor": "rgb(237,237,237)",
                        "gridcolor": "white",
                        "gridwidth": 2,
                        "linecolor": "white",
                        "showbackground": true,
                        "showgrid": true,
                        "tickcolor": "rgb(51,51,51)",
                        "ticks": "outside",
                        "zerolinecolor": "white"
                      }
                    },
                    "shapedefaults": {
                      "fillcolor": "black",
                      "line": {
                        "width": 0
                      },
                      "opacity": 0.3
                    },
                    "ternary": {
                      "aaxis": {
                        "gridcolor": "white",
                        "linecolor": "white",
                        "showgrid": true,
                        "tickcolor": "rgb(51,51,51)",
                        "ticks": "outside"
                      },
                      "baxis": {
                        "gridcolor": "white",
                        "linecolor": "white",
                        "showgrid": true,
                        "tickcolor": "rgb(51,51,51)",
                        "ticks": "outside"
                      },
                      "bgcolor": "rgb(237,237,237)",
                      "caxis": {
                        "gridcolor": "white",
                        "linecolor": "white",
                        "showgrid": true,
                        "tickcolor": "rgb(51,51,51)",
                        "ticks": "outside"
                      }
                    },
                    "xaxis": {
                      "automargin": true,
                      "gridcolor": "white",
                      "linecolor": "white",
                      "showgrid": true,
                      "tickcolor": "rgb(51,51,51)",
                      "ticks": "outside",
                      "title": {
                        "standoff": 15
                      },
                      "zerolinecolor": "white"
                    },
                    "yaxis": {
                      "automargin": true,
                      "gridcolor": "white",
                      "linecolor": "white",
                      "showgrid": true,
                      "tickcolor": "rgb(51,51,51)",
                      "ticks": "outside",
                      "title": {
                        "standoff": 15
                      },
                      "zerolinecolor": "white"
                    }
                  }
                },
                "title": {
                  "text": "Actual vs. Forecast (Out-of-Sample)"
                },
                "xaxis": {
                  "anchor": "y",
                  "domain": [
                    0,
                    1
                  ]
                },
                "yaxis": {
                  "anchor": "x",
                  "domain": [
                    0,
                    1
                  ]
                }
              }
            }
          },
          "metadata": {},
          "output_type": "display_data"
        }
      ],
      "source": [
        "from pycaret.time_series import plot_model\n",
        "\n",
        "plot_model(estimator=tuned_final_model, plot = 'forecast')"
      ]
    },
    {
      "cell_type": "markdown",
      "metadata": {},
      "source": [
        "Sales prediction: **This model is only capable of predicting shorter periods, such as the next week or two weeks, and can’t make predictions weeks or months into the future.**\n",
        "\n",
        "During analysis, I noticed that sales Prediction for 2018 seems to be fixed on one value. The primary reason the model might not be performing well is due to its reliance on past sales data for making future predictions. The model was trained using historical data up to October 2017. This limitation in the training data restricts its ability to make predictions for a longer time horizon. \n"
      ]
    },
    {
      "cell_type": "markdown",
      "metadata": {
        "id": "MgYWAj2RMpxH"
      },
      "source": [
        "## 6. Customer Segmentation"
      ]
    },
    {
      "cell_type": "markdown",
      "metadata": {
        "id": "Xxdbhg1TMpxH"
      },
      "source": [
        "Customer Segmentation is the process of dividing customers into groups that are similar in several characteristics. In this project, I use unsupervised learning, particularly K-means clustering method to perform this task. \n",
        "\n",
        "I select Sales, Profit, Quantity, and Discount are important for customer segmentation, as they capture purchasing behavior and profitability."
      ]
    },
    {
      "cell_type": "code",
      "execution_count": 3,
      "metadata": {
        "id": "tXeMkVeOMpxH"
      },
      "outputs": [],
      "source": [
        "from sklearn.preprocessing import StandardScaler\n",
        "from sklearn.cluster import KMeans\n",
        "from sklearn.decomposition import PCA"
      ]
    },
    {
      "cell_type": "code",
      "execution_count": 4,
      "metadata": {},
      "outputs": [],
      "source": [
        "data = pd.read_csv('C:/Users/Welcome/Downloads/Sample - Superstore.csv', encoding='ISO-8859-1')\n",
        "selected_features = ['Sales', 'Quantity', 'Discount', 'Profit']\n",
        "customer_data = data[selected_features]\n",
        "scaler = StandardScaler()\n",
        "scaled_data = scaler.fit_transform(customer_data)"
      ]
    },
    {
      "cell_type": "code",
      "execution_count": 5,
      "metadata": {},
      "outputs": [
        {
          "data": {
            "text/plain": [
              "Sales       0\n",
              "Quantity    0\n",
              "Discount    0\n",
              "Profit      0\n",
              "dtype: int64"
            ]
          },
          "execution_count": 5,
          "metadata": {},
          "output_type": "execute_result"
        }
      ],
      "source": [
        "a=customer_data.isnull().sum()\n",
        "a"
      ]
    },
    {
      "cell_type": "code",
      "execution_count": 6,
      "metadata": {},
      "outputs": [],
      "source": [
        "from sklearn.impute import SimpleImputer\n",
        "imputer=SimpleImputer(strategy='mean')\n",
        "scaled_data=imputer.fit_transform(scaled_data)"
      ]
    },
    {
      "cell_type": "code",
      "execution_count": 8,
      "metadata": {},
      "outputs": [],
      "source": [
        "wccs=[]\n",
        "for i in range(1,11):\n",
        "    kmeans=KMeans(n_clusters=i, init='k-means++', n_init=10, random_state=0, max_iter=300)\n",
        "    kmeans.fit(scaled_data)\n",
        "    wccs.append(kmeans.inertia_)"
      ]
    },
    {
      "cell_type": "code",
      "execution_count": 9,
      "metadata": {},
      "outputs": [
        {
          "data": {
            "image/png": "[encoded data removed]",
            "text/plain": [
              "<Figure size 640x480 with 1 Axes>"
            ]
          },
          "metadata": {},
          "output_type": "display_data"
        }
      ],
      "source": [
        "plt.plot(range(1,11), wccs, marker='o')\n",
        "plt.title('Elbow Method')\n",
        "plt.xlabel('Number of clusters')\n",
        "plt.ylabel('WCSS')\n",
        "plt.show()"
      ]
    },
    {
      "cell_type": "markdown",
      "metadata": {
        "id": "HsIdOHRHMpxI"
      },
      "source": [
        "To determine the best number of clusters, I try different values of k from 1 to 10 and plotted the Within Cluster Sum of Square (WCSS) for each value. Then I use the Elbow method to identify the point where the WCSS begins to level off. This point, which is located between 3 and 5 in this case, indicates that the optimal number of clusters is 4."
      ]
    },
    {
      "cell_type": "code",
      "execution_count": 11,
      "metadata": {},
      "outputs": [
        {
          "name": "stdout",
          "output_type": "stream",
          "text": [
            "               Sales  Quantity  Discount       Profit\n",
            "Cluster                                              \n",
            "0         126.813585  2.533279  0.097487    21.516522\n",
            "1         407.908020  6.452784  0.094655    69.790464\n",
            "2         153.637349  3.836207  0.667960  -108.306796\n",
            "3        7685.179259  5.185185  0.070370  2610.220085\n"
          ]
        }
      ],
      "source": [
        "segment_means = data.groupby('Cluster')[selected_features].mean()\n",
        "print(segment_means)"
      ]
    },
    {
      "cell_type": "code",
      "execution_count": 32,
      "metadata": {},
      "outputs": [
        {
          "data": {
            "image/png": "[encoded data removed]",
            "text/plain": [
              "<Figure size 800x550 with 1 Axes>"
            ]
          },
          "metadata": {},
          "output_type": "display_data"
        }
      ],
      "source": [
        "for cluster_label in range(4):\n",
        "    plt.scatter(scaled_data[kmeans.labels_ == cluster_label, 0], \n",
        "                scaled_data[kmeans.labels_ == cluster_label, 1], \n",
        "                label=f'Cluster {cluster_label}')\n",
        "\n",
        "plt.scatter(kmeans.cluster_centers_[:, 0], kmeans.cluster_centers_[:, 1], s=300, c='red', label='Cluster Centers')\n",
        "\n",
        "plt.legend()\n",
        "\n",
        "plt.title('Customer Segmentation Based on Customer Behavior')\n",
        "plt.xlabel('Sales')\n",
        "plt.ylabel('Profit')\n",
        "\n",
        "plt.show()\n"
      ]
    },
    {
      "cell_type": "markdown",
      "metadata": {},
      "source": [
        "**Simple interpretation of result**\n",
        "\n",
        "|Cluster| Characteristics | Customer group |\n",
        "|---| ---| ---|\n",
        "|Cluster 0| These customers make small purchases with relatively low quantities and discounts. They contribute to a modest profit.| Low-value Customers |\n",
        "|Cluster 1| Customers in this group make moderately-sized purchases, with a slightly higher discount rate. They are reasonably profitable.| Moderate Customers |\n",
        "|Cluster 2| These customers purchase at a moderate level but frequently take advantage of discounts, resulting in negative profits. | Discount Customers |\n",
        "|Cluster 3|This cluster consists of customers with significantly higher sales, making fewer but larger purchases. They rarely use discounts and contribute substantially to profit.| High-value customers |\n",
        "\n"
      ]
    },
    {
      "cell_type": "code",
      "execution_count": 12,
      "metadata": {},
      "outputs": [
        {
          "name": "stdout",
          "output_type": "stream",
          "text": [
            "Number of data points in Cluster 0: 1374\n",
            "Number of data points in Cluster 1: 2441\n",
            "Number of data points in Cluster 2: 35\n",
            "Number of data points in Cluster 3: 6\n"
          ]
        }
      ],
      "source": [
        "cluster_assignments = kmeans.labels_\n",
        "for i in range(4):\n",
        "    print(f\"Number of data points in Cluster {i}: {sum(cluster_assignments == i)}\")"
      ]
    },
    {
      "cell_type": "markdown",
      "metadata": {
        "id": "DfECs4nSMpxJ"
      },
      "source": [
        "## 7. Conclusion"
      ]
    },
    {
      "cell_type": "markdown",
      "metadata": {
        "id": "OguMh8IQMpxJ"
      },
      "source": [
        "After utilizing different techniques, I have discovered the following insights:\n",
        "\n",
        "• Shopping activities were more frequent in big cities such as California, New York, and Texas.\n",
        "\n",
        "• The number of orders were always highest in the fourth quarters, indicating an appropriate plan should be taken at the end of the year to maximize this metric.\n",
        "\n",
        "• Sales had an upward trend over years.\n",
        "\n",
        "• Customers had a habit of spending more at the end of year, especially purchasing Technology products.\n",
        "\n",
        "• The Standard Class was the most common ship mode, with time delivery from 4 to 7 days.\n",
        "\n",
        "• There is a clear difference in sales and profit per Categoty. These differences suggest that each Category has its own characteristics and needs to be carefully considered when planning for business.\n",
        "\n",
        "Classify customers into 4 groups to understand customer behaviors.\n"
      ]
    },
    {
      "cell_type": "markdown",
      "metadata": {},
      "source": [
        "## 8. Recommendation"
      ]
    },
    {
      "cell_type": "markdown",
      "metadata": {},
      "source": [
        "Based on the data on customer segmentation, I think we should focus on **Cluster 1 and Cluster 3** to optimize marketing strategies because they have the potential to drive substantial revenue and profit. \n",
        "\n",
        "**Cluster 1 (Moderate Customers):**\n",
        "\n",
        "* Implement personalized marketing strategies based on historical purchase data\n",
        "\n",
        "* Consider loyalty programs designed for this cluster. Offer rewards, discounts, and exclusive rewards to encourage repeat purchasing activities.\n",
        "\n",
        "* Focus on efficient order processing and fast shipping to maintain customer satisfaction.\n",
        "\n",
        "**Cluster 3 (High-value Customers):**\n",
        "\n",
        "* Establish a VIP program with exclusive products and events.\n",
        "\n",
        "* Customize rewards and incentives based on customer preferences.\n",
        "\n",
        "* Gain insight into their purchase history and preferences.\n",
        "\n",
        "* Provide personalized support through dedicated teams or managers.\n",
        "\n"
      ]
    }
  ],
  "metadata": {
    "colab": {
      "provenance": []
    },
    "kernelspec": {
      "display_name": "Python 3",
      "language": "python",
      "name": "python3"
    },
    "language_info": {
      "codemirror_mode": {
        "name": "ipython",
        "version": 3
      },
      "file_extension": ".py",
      "mimetype": "text/x-python",
      "name": "python",
      "nbconvert_exporter": "python",
      "pygments_lexer": "ipython3",
      "version": "3.9.7"
    },
    "widgets": {
      "application/vnd.jupyter.widget-state+json": {
        "065a48ce0b7f43c88d7d5ab509a0b613": {
          "model_module": "@jupyter-widgets/controls",
          "model_module_version": "1.5.0",
          "model_name": "FloatProgressModel",
          "state": {
            "_dom_classes": [],
            "_model_module": "@jupyter-widgets/controls",
            "_model_module_version": "1.5.0",
            "_model_name": "FloatProgressModel",
            "_view_count": null,
            "_view_module": "@jupyter-widgets/controls",
            "_view_module_version": "1.5.0",
            "_view_name": "ProgressView",
            "bar_style": "danger",
            "description": "",
            "description_tooltip": null,
            "layout": "IPY_MODEL_7411cf32da264c30ac2d9419216a93ea",
            "max": 93,
            "min": 0,
            "orientation": "horizontal",
            "style": "IPY_MODEL_27ac3c0faa3841ec8538b87db482a331",
            "value": 89
          }
        },
        "1e2cab51bbc740f6bf45cb41abf1ee6c": {
          "model_module": "@jupyter-widgets/controls",
          "model_module_version": "1.5.0",
          "model_name": "DescriptionStyleModel",
          "state": {
            "_model_module": "@jupyter-widgets/controls",
            "_model_module_version": "1.5.0",
            "_model_name": "DescriptionStyleModel",
            "_view_count": null,
            "_view_module": "@jupyter-widgets/base",
            "_view_module_version": "1.2.0",
            "_view_name": "StyleView",
            "description_width": ""
          }
        },
        "1f09dd4850c741ef94a9bad12d98c07e": {
          "model_module": "@jupyter-widgets/base",
          "model_module_version": "1.2.0",
          "model_name": "LayoutModel",
          "state": {
            "_model_module": "@jupyter-widgets/base",
            "_model_module_version": "1.2.0",
            "_model_name": "LayoutModel",
            "_view_count": null,
            "_view_module": "@jupyter-widgets/base",
            "_view_module_version": "1.2.0",
            "_view_name": "LayoutView",
            "align_content": null,
            "align_items": null,
            "align_self": null,
            "border": null,
            "bottom": null,
            "display": null,
            "flex": null,
            "flex_flow": null,
            "grid_area": null,
            "grid_auto_columns": null,
            "grid_auto_flow": null,
            "grid_auto_rows": null,
            "grid_column": null,
            "grid_gap": null,
            "grid_row": null,
            "grid_template_areas": null,
            "grid_template_columns": null,
            "grid_template_rows": null,
            "height": null,
            "justify_content": null,
            "justify_items": null,
            "left": null,
            "margin": null,
            "max_height": null,
            "max_width": null,
            "min_height": null,
            "min_width": null,
            "object_fit": null,
            "object_position": null,
            "order": null,
            "overflow": null,
            "overflow_x": null,
            "overflow_y": null,
            "padding": null,
            "right": null,
            "top": null,
            "visibility": null,
            "width": null
          }
        },
        "27ac3c0faa3841ec8538b87db482a331": {
          "model_module": "@jupyter-widgets/controls",
          "model_module_version": "1.5.0",
          "model_name": "ProgressStyleModel",
          "state": {
            "_model_module": "@jupyter-widgets/controls",
            "_model_module_version": "1.5.0",
            "_model_name": "ProgressStyleModel",
            "_view_count": null,
            "_view_module": "@jupyter-widgets/base",
            "_view_module_version": "1.2.0",
            "_view_name": "StyleView",
            "bar_color": null,
            "description_width": ""
          }
        },
        "2df80cbfbb0b492b993167a34875884e": {
          "model_module": "@jupyter-widgets/controls",
          "model_module_version": "1.5.0",
          "model_name": "HTMLModel",
          "state": {
            "_dom_classes": [],
            "_model_module": "@jupyter-widgets/controls",
            "_model_module_version": "1.5.0",
            "_model_name": "HTMLModel",
            "_view_count": null,
            "_view_module": "@jupyter-widgets/controls",
            "_view_module_version": "1.5.0",
            "_view_name": "HTMLView",
            "description": "",
            "description_tooltip": null,
            "layout": "IPY_MODEL_1f09dd4850c741ef94a9bad12d98c07e",
            "placeholder": "​",
            "style": "IPY_MODEL_a28c6b740f364aa9aece72051e4bef46",
            "value": "Processing: 100%"
          }
        },
        "35c27eb165e0417fb4c2c4b11140639f": {
          "model_module": "@jupyter-widgets/controls",
          "model_module_version": "1.5.0",
          "model_name": "HTMLModel",
          "state": {
            "_dom_classes": [],
            "_model_module": "@jupyter-widgets/controls",
            "_model_module_version": "1.5.0",
            "_model_name": "HTMLModel",
            "_view_count": null,
            "_view_module": "@jupyter-widgets/controls",
            "_view_module_version": "1.5.0",
            "_view_name": "HTMLView",
            "description": "",
            "description_tooltip": null,
            "layout": "IPY_MODEL_d3cc077537684d5c9c34b8ee4420acce",
            "placeholder": "​",
            "style": "IPY_MODEL_96c582ac440d4d7ab757f398e5f62d05",
            "value": "Processing:  96%"
          }
        },
        "399b1abca260408bacad9151cb04bff2": {
          "model_module": "@jupyter-widgets/controls",
          "model_module_version": "1.5.0",
          "model_name": "HBoxModel",
          "state": {
            "_dom_classes": [],
            "_model_module": "@jupyter-widgets/controls",
            "_model_module_version": "1.5.0",
            "_model_name": "HBoxModel",
            "_view_count": null,
            "_view_module": "@jupyter-widgets/controls",
            "_view_module_version": "1.5.0",
            "_view_name": "HBoxView",
            "box_style": "",
            "children": [
              "IPY_MODEL_2df80cbfbb0b492b993167a34875884e",
              "IPY_MODEL_73270c7456464d11869c6767021bde17",
              "IPY_MODEL_8f688a317f124a50ace0183b9e567c61"
            ],
            "layout": "IPY_MODEL_c0c303a2f32d4360a2a49be4142bae9b"
          }
        },
        "442d21fddd3243e5b179f39081e3221e": {
          "model_module": "@jupyter-widgets/base",
          "model_module_version": "1.2.0",
          "model_name": "LayoutModel",
          "state": {
            "_model_module": "@jupyter-widgets/base",
            "_model_module_version": "1.2.0",
            "_model_name": "LayoutModel",
            "_view_count": null,
            "_view_module": "@jupyter-widgets/base",
            "_view_module_version": "1.2.0",
            "_view_name": "LayoutView",
            "align_content": null,
            "align_items": null,
            "align_self": null,
            "border": null,
            "bottom": null,
            "display": null,
            "flex": null,
            "flex_flow": null,
            "grid_area": null,
            "grid_auto_columns": null,
            "grid_auto_flow": null,
            "grid_auto_rows": null,
            "grid_column": null,
            "grid_gap": null,
            "grid_row": null,
            "grid_template_areas": null,
            "grid_template_columns": null,
            "grid_template_rows": null,
            "height": null,
            "justify_content": null,
            "justify_items": null,
            "left": null,
            "margin": null,
            "max_height": null,
            "max_width": null,
            "min_height": null,
            "min_width": null,
            "object_fit": null,
            "object_position": null,
            "order": null,
            "overflow": null,
            "overflow_x": null,
            "overflow_y": null,
            "padding": null,
            "right": null,
            "top": null,
            "visibility": null,
            "width": null
          }
        },
        "57d03811b1aa48faa68e3c905609a5dd": {
          "model_module": "@jupyter-widgets/base",
          "model_module_version": "1.2.0",
          "model_name": "LayoutModel",
          "state": {
            "_model_module": "@jupyter-widgets/base",
            "_model_module_version": "1.2.0",
            "_model_name": "LayoutModel",
            "_view_count": null,
            "_view_module": "@jupyter-widgets/base",
            "_view_module_version": "1.2.0",
            "_view_name": "LayoutView",
            "align_content": null,
            "align_items": null,
            "align_self": null,
            "border": null,
            "bottom": null,
            "display": null,
            "flex": null,
            "flex_flow": null,
            "grid_area": null,
            "grid_auto_columns": null,
            "grid_auto_flow": null,
            "grid_auto_rows": null,
            "grid_column": null,
            "grid_gap": null,
            "grid_row": null,
            "grid_template_areas": null,
            "grid_template_columns": null,
            "grid_template_rows": null,
            "height": null,
            "justify_content": null,
            "justify_items": null,
            "left": null,
            "margin": null,
            "max_height": null,
            "max_width": null,
            "min_height": null,
            "min_width": null,
            "object_fit": null,
            "object_position": null,
            "order": null,
            "overflow": null,
            "overflow_x": null,
            "overflow_y": null,
            "padding": null,
            "right": null,
            "top": null,
            "visibility": null,
            "width": null
          }
        },
        "5f5dfa28c2fe45bfb94b8d2c270b5620": {
          "model_module": "@jupyter-widgets/controls",
          "model_module_version": "1.5.0",
          "model_name": "DescriptionStyleModel",
          "state": {
            "_model_module": "@jupyter-widgets/controls",
            "_model_module_version": "1.5.0",
            "_model_name": "DescriptionStyleModel",
            "_view_count": null,
            "_view_module": "@jupyter-widgets/base",
            "_view_module_version": "1.2.0",
            "_view_name": "StyleView",
            "description_width": ""
          }
        },
        "60520cf58a964359af1cff4f2febea08": {
          "model_module": "@jupyter-widgets/controls",
          "model_module_version": "1.5.0",
          "model_name": "DescriptionStyleModel",
          "state": {
            "_model_module": "@jupyter-widgets/controls",
            "_model_module_version": "1.5.0",
            "_model_name": "DescriptionStyleModel",
            "_view_count": null,
            "_view_module": "@jupyter-widgets/base",
            "_view_module_version": "1.2.0",
            "_view_name": "StyleView",
            "description_width": ""
          }
        },
        "6cc6ceebfe214dce8e084ee21d62fe9e": {
          "model_module": "@jupyter-widgets/base",
          "model_module_version": "1.2.0",
          "model_name": "LayoutModel",
          "state": {
            "_model_module": "@jupyter-widgets/base",
            "_model_module_version": "1.2.0",
            "_model_name": "LayoutModel",
            "_view_count": null,
            "_view_module": "@jupyter-widgets/base",
            "_view_module_version": "1.2.0",
            "_view_name": "LayoutView",
            "align_content": null,
            "align_items": null,
            "align_self": null,
            "border": null,
            "bottom": null,
            "display": null,
            "flex": null,
            "flex_flow": null,
            "grid_area": null,
            "grid_auto_columns": null,
            "grid_auto_flow": null,
            "grid_auto_rows": null,
            "grid_column": null,
            "grid_gap": null,
            "grid_row": null,
            "grid_template_areas": null,
            "grid_template_columns": null,
            "grid_template_rows": null,
            "height": null,
            "justify_content": null,
            "justify_items": null,
            "left": null,
            "margin": null,
            "max_height": null,
            "max_width": null,
            "min_height": null,
            "min_width": null,
            "object_fit": null,
            "object_position": null,
            "order": null,
            "overflow": null,
            "overflow_x": null,
            "overflow_y": null,
            "padding": null,
            "right": null,
            "top": null,
            "visibility": null,
            "width": null
          }
        },
        "73270c7456464d11869c6767021bde17": {
          "model_module": "@jupyter-widgets/controls",
          "model_module_version": "1.5.0",
          "model_name": "FloatProgressModel",
          "state": {
            "_dom_classes": [],
            "_model_module": "@jupyter-widgets/controls",
            "_model_module_version": "1.5.0",
            "_model_name": "FloatProgressModel",
            "_view_count": null,
            "_view_module": "@jupyter-widgets/controls",
            "_view_module_version": "1.5.0",
            "_view_name": "ProgressView",
            "bar_style": "",
            "description": "",
            "description_tooltip": null,
            "layout": "IPY_MODEL_6cc6ceebfe214dce8e084ee21d62fe9e",
            "max": 7,
            "min": 0,
            "orientation": "horizontal",
            "style": "IPY_MODEL_9c2e48fc37094c859b89f9d827d9ac18",
            "value": 7
          }
        },
        "7411cf32da264c30ac2d9419216a93ea": {
          "model_module": "@jupyter-widgets/base",
          "model_module_version": "1.2.0",
          "model_name": "LayoutModel",
          "state": {
            "_model_module": "@jupyter-widgets/base",
            "_model_module_version": "1.2.0",
            "_model_name": "LayoutModel",
            "_view_count": null,
            "_view_module": "@jupyter-widgets/base",
            "_view_module_version": "1.2.0",
            "_view_name": "LayoutView",
            "align_content": null,
            "align_items": null,
            "align_self": null,
            "border": null,
            "bottom": null,
            "display": null,
            "flex": null,
            "flex_flow": null,
            "grid_area": null,
            "grid_auto_columns": null,
            "grid_auto_flow": null,
            "grid_auto_rows": null,
            "grid_column": null,
            "grid_gap": null,
            "grid_row": null,
            "grid_template_areas": null,
            "grid_template_columns": null,
            "grid_template_rows": null,
            "height": null,
            "justify_content": null,
            "justify_items": null,
            "left": null,
            "margin": null,
            "max_height": null,
            "max_width": null,
            "min_height": null,
            "min_width": null,
            "object_fit": null,
            "object_position": null,
            "order": null,
            "overflow": null,
            "overflow_x": null,
            "overflow_y": null,
            "padding": null,
            "right": null,
            "top": null,
            "visibility": null,
            "width": null
          }
        },
        "8b7439f31dd44dd788be282ab53d2b75": {
          "model_module": "@jupyter-widgets/base",
          "model_module_version": "1.2.0",
          "model_name": "LayoutModel",
          "state": {
            "_model_module": "@jupyter-widgets/base",
            "_model_module_version": "1.2.0",
            "_model_name": "LayoutModel",
            "_view_count": null,
            "_view_module": "@jupyter-widgets/base",
            "_view_module_version": "1.2.0",
            "_view_name": "LayoutView",
            "align_content": null,
            "align_items": null,
            "align_self": null,
            "border": null,
            "bottom": null,
            "display": null,
            "flex": null,
            "flex_flow": null,
            "grid_area": null,
            "grid_auto_columns": null,
            "grid_auto_flow": null,
            "grid_auto_rows": null,
            "grid_column": null,
            "grid_gap": null,
            "grid_row": null,
            "grid_template_areas": null,
            "grid_template_columns": null,
            "grid_template_rows": null,
            "height": null,
            "justify_content": null,
            "justify_items": null,
            "left": null,
            "margin": null,
            "max_height": null,
            "max_width": null,
            "min_height": null,
            "min_width": null,
            "object_fit": null,
            "object_position": null,
            "order": null,
            "overflow": null,
            "overflow_x": null,
            "overflow_y": null,
            "padding": null,
            "right": null,
            "top": null,
            "visibility": null,
            "width": null
          }
        },
        "8e0394f5e75e4548972ad7db2b019121": {
          "model_module": "@jupyter-widgets/controls",
          "model_module_version": "1.5.0",
          "model_name": "FloatProgressModel",
          "state": {
            "_dom_classes": [],
            "_model_module": "@jupyter-widgets/controls",
            "_model_module_version": "1.5.0",
            "_model_name": "FloatProgressModel",
            "_view_count": null,
            "_view_module": "@jupyter-widgets/controls",
            "_view_module_version": "1.5.0",
            "_view_name": "ProgressView",
            "bar_style": "",
            "description": "",
            "description_tooltip": null,
            "layout": "IPY_MODEL_fdf7136a9c2241eca2040bc4bfe47a29",
            "max": 4,
            "min": 0,
            "orientation": "horizontal",
            "style": "IPY_MODEL_e6f0e390411447b0911e5ad2f49d97d7",
            "value": 4
          }
        },
        "8f122c563740422e94ddd1efa28163b9": {
          "model_module": "@jupyter-widgets/controls",
          "model_module_version": "1.5.0",
          "model_name": "HTMLModel",
          "state": {
            "_dom_classes": [],
            "_model_module": "@jupyter-widgets/controls",
            "_model_module_version": "1.5.0",
            "_model_name": "HTMLModel",
            "_view_count": null,
            "_view_module": "@jupyter-widgets/controls",
            "_view_module_version": "1.5.0",
            "_view_name": "HTMLView",
            "description": "",
            "description_tooltip": null,
            "layout": "IPY_MODEL_f0509efedbbb4f57ae2dbeb90d89424a",
            "placeholder": "​",
            "style": "IPY_MODEL_dfd7267bdc8f4539bea78fdebfde22ef",
            "value": "Processing: 100%"
          }
        },
        "8f688a317f124a50ace0183b9e567c61": {
          "model_module": "@jupyter-widgets/controls",
          "model_module_version": "1.5.0",
          "model_name": "HTMLModel",
          "state": {
            "_dom_classes": [],
            "_model_module": "@jupyter-widgets/controls",
            "_model_module_version": "1.5.0",
            "_model_name": "HTMLModel",
            "_view_count": null,
            "_view_module": "@jupyter-widgets/controls",
            "_view_module_version": "1.5.0",
            "_view_name": "HTMLView",
            "description": "",
            "description_tooltip": null,
            "layout": "IPY_MODEL_eb3f312546e148a5af99b81fe87552af",
            "placeholder": "​",
            "style": "IPY_MODEL_60520cf58a964359af1cff4f2febea08",
            "value": " 7/7 [00:27&lt;00:00,  3.11s/it]"
          }
        },
        "91a0e1a6376a4964b54116437ad708a6": {
          "model_module": "@jupyter-widgets/controls",
          "model_module_version": "1.5.0",
          "model_name": "HTMLModel",
          "state": {
            "_dom_classes": [],
            "_model_module": "@jupyter-widgets/controls",
            "_model_module_version": "1.5.0",
            "_model_name": "HTMLModel",
            "_view_count": null,
            "_view_module": "@jupyter-widgets/controls",
            "_view_module_version": "1.5.0",
            "_view_name": "HTMLView",
            "description": "",
            "description_tooltip": null,
            "layout": "IPY_MODEL_8b7439f31dd44dd788be282ab53d2b75",
            "placeholder": "​",
            "style": "IPY_MODEL_1e2cab51bbc740f6bf45cb41abf1ee6c",
            "value": " 89/93 [00:50&lt;00:01,  2.13it/s]"
          }
        },
        "96c582ac440d4d7ab757f398e5f62d05": {
          "model_module": "@jupyter-widgets/controls",
          "model_module_version": "1.5.0",
          "model_name": "DescriptionStyleModel",
          "state": {
            "_model_module": "@jupyter-widgets/controls",
            "_model_module_version": "1.5.0",
            "_model_name": "DescriptionStyleModel",
            "_view_count": null,
            "_view_module": "@jupyter-widgets/base",
            "_view_module_version": "1.2.0",
            "_view_name": "StyleView",
            "description_width": ""
          }
        },
        "9c2e48fc37094c859b89f9d827d9ac18": {
          "model_module": "@jupyter-widgets/controls",
          "model_module_version": "1.5.0",
          "model_name": "ProgressStyleModel",
          "state": {
            "_model_module": "@jupyter-widgets/controls",
            "_model_module_version": "1.5.0",
            "_model_name": "ProgressStyleModel",
            "_view_count": null,
            "_view_module": "@jupyter-widgets/base",
            "_view_module_version": "1.2.0",
            "_view_name": "StyleView",
            "bar_color": null,
            "description_width": ""
          }
        },
        "a28c6b740f364aa9aece72051e4bef46": {
          "model_module": "@jupyter-widgets/controls",
          "model_module_version": "1.5.0",
          "model_name": "DescriptionStyleModel",
          "state": {
            "_model_module": "@jupyter-widgets/controls",
            "_model_module_version": "1.5.0",
            "_model_name": "DescriptionStyleModel",
            "_view_count": null,
            "_view_module": "@jupyter-widgets/base",
            "_view_module_version": "1.2.0",
            "_view_name": "StyleView",
            "description_width": ""
          }
        },
        "b421add5066e416bae76b08b4a60214b": {
          "model_module": "@jupyter-widgets/controls",
          "model_module_version": "1.5.0",
          "model_name": "HBoxModel",
          "state": {
            "_dom_classes": [],
            "_model_module": "@jupyter-widgets/controls",
            "_model_module_version": "1.5.0",
            "_model_name": "HBoxModel",
            "_view_count": null,
            "_view_module": "@jupyter-widgets/controls",
            "_view_module_version": "1.5.0",
            "_view_name": "HBoxView",
            "box_style": "",
            "children": [
              "IPY_MODEL_35c27eb165e0417fb4c2c4b11140639f",
              "IPY_MODEL_065a48ce0b7f43c88d7d5ab509a0b613",
              "IPY_MODEL_91a0e1a6376a4964b54116437ad708a6"
            ],
            "layout": "IPY_MODEL_57d03811b1aa48faa68e3c905609a5dd"
          }
        },
        "bd38abb19bcd415183c5dd2741339b8c": {
          "model_module": "@jupyter-widgets/controls",
          "model_module_version": "1.5.0",
          "model_name": "HTMLModel",
          "state": {
            "_dom_classes": [],
            "_model_module": "@jupyter-widgets/controls",
            "_model_module_version": "1.5.0",
            "_model_name": "HTMLModel",
            "_view_count": null,
            "_view_module": "@jupyter-widgets/controls",
            "_view_module_version": "1.5.0",
            "_view_name": "HTMLView",
            "description": "",
            "description_tooltip": null,
            "layout": "IPY_MODEL_442d21fddd3243e5b179f39081e3221e",
            "placeholder": "​",
            "style": "IPY_MODEL_5f5dfa28c2fe45bfb94b8d2c270b5620",
            "value": " 4/4 [00:04&lt;00:00,  1.16s/it]"
          }
        },
        "c0c303a2f32d4360a2a49be4142bae9b": {
          "model_module": "@jupyter-widgets/base",
          "model_module_version": "1.2.0",
          "model_name": "LayoutModel",
          "state": {
            "_model_module": "@jupyter-widgets/base",
            "_model_module_version": "1.2.0",
            "_model_name": "LayoutModel",
            "_view_count": null,
            "_view_module": "@jupyter-widgets/base",
            "_view_module_version": "1.2.0",
            "_view_name": "LayoutView",
            "align_content": null,
            "align_items": null,
            "align_self": null,
            "border": null,
            "bottom": null,
            "display": null,
            "flex": null,
            "flex_flow": null,
            "grid_area": null,
            "grid_auto_columns": null,
            "grid_auto_flow": null,
            "grid_auto_rows": null,
            "grid_column": null,
            "grid_gap": null,
            "grid_row": null,
            "grid_template_areas": null,
            "grid_template_columns": null,
            "grid_template_rows": null,
            "height": null,
            "justify_content": null,
            "justify_items": null,
            "left": null,
            "margin": null,
            "max_height": null,
            "max_width": null,
            "min_height": null,
            "min_width": null,
            "object_fit": null,
            "object_position": null,
            "order": null,
            "overflow": null,
            "overflow_x": null,
            "overflow_y": null,
            "padding": null,
            "right": null,
            "top": null,
            "visibility": "hidden",
            "width": null
          }
        },
        "d3cc077537684d5c9c34b8ee4420acce": {
          "model_module": "@jupyter-widgets/base",
          "model_module_version": "1.2.0",
          "model_name": "LayoutModel",
          "state": {
            "_model_module": "@jupyter-widgets/base",
            "_model_module_version": "1.2.0",
            "_model_name": "LayoutModel",
            "_view_count": null,
            "_view_module": "@jupyter-widgets/base",
            "_view_module_version": "1.2.0",
            "_view_name": "LayoutView",
            "align_content": null,
            "align_items": null,
            "align_self": null,
            "border": null,
            "bottom": null,
            "display": null,
            "flex": null,
            "flex_flow": null,
            "grid_area": null,
            "grid_auto_columns": null,
            "grid_auto_flow": null,
            "grid_auto_rows": null,
            "grid_column": null,
            "grid_gap": null,
            "grid_row": null,
            "grid_template_areas": null,
            "grid_template_columns": null,
            "grid_template_rows": null,
            "height": null,
            "justify_content": null,
            "justify_items": null,
            "left": null,
            "margin": null,
            "max_height": null,
            "max_width": null,
            "min_height": null,
            "min_width": null,
            "object_fit": null,
            "object_position": null,
            "order": null,
            "overflow": null,
            "overflow_x": null,
            "overflow_y": null,
            "padding": null,
            "right": null,
            "top": null,
            "visibility": null,
            "width": null
          }
        },
        "dfd7267bdc8f4539bea78fdebfde22ef": {
          "model_module": "@jupyter-widgets/controls",
          "model_module_version": "1.5.0",
          "model_name": "DescriptionStyleModel",
          "state": {
            "_model_module": "@jupyter-widgets/controls",
            "_model_module_version": "1.5.0",
            "_model_name": "DescriptionStyleModel",
            "_view_count": null,
            "_view_module": "@jupyter-widgets/base",
            "_view_module_version": "1.2.0",
            "_view_name": "StyleView",
            "description_width": ""
          }
        },
        "e6f0e390411447b0911e5ad2f49d97d7": {
          "model_module": "@jupyter-widgets/controls",
          "model_module_version": "1.5.0",
          "model_name": "ProgressStyleModel",
          "state": {
            "_model_module": "@jupyter-widgets/controls",
            "_model_module_version": "1.5.0",
            "_model_name": "ProgressStyleModel",
            "_view_count": null,
            "_view_module": "@jupyter-widgets/base",
            "_view_module_version": "1.2.0",
            "_view_name": "StyleView",
            "bar_color": null,
            "description_width": ""
          }
        },
        "eb3f312546e148a5af99b81fe87552af": {
          "model_module": "@jupyter-widgets/base",
          "model_module_version": "1.2.0",
          "model_name": "LayoutModel",
          "state": {
            "_model_module": "@jupyter-widgets/base",
            "_model_module_version": "1.2.0",
            "_model_name": "LayoutModel",
            "_view_count": null,
            "_view_module": "@jupyter-widgets/base",
            "_view_module_version": "1.2.0",
            "_view_name": "LayoutView",
            "align_content": null,
            "align_items": null,
            "align_self": null,
            "border": null,
            "bottom": null,
            "display": null,
            "flex": null,
            "flex_flow": null,
            "grid_area": null,
            "grid_auto_columns": null,
            "grid_auto_flow": null,
            "grid_auto_rows": null,
            "grid_column": null,
            "grid_gap": null,
            "grid_row": null,
            "grid_template_areas": null,
            "grid_template_columns": null,
            "grid_template_rows": null,
            "height": null,
            "justify_content": null,
            "justify_items": null,
            "left": null,
            "margin": null,
            "max_height": null,
            "max_width": null,
            "min_height": null,
            "min_width": null,
            "object_fit": null,
            "object_position": null,
            "order": null,
            "overflow": null,
            "overflow_x": null,
            "overflow_y": null,
            "padding": null,
            "right": null,
            "top": null,
            "visibility": null,
            "width": null
          }
        },
        "f0509efedbbb4f57ae2dbeb90d89424a": {
          "model_module": "@jupyter-widgets/base",
          "model_module_version": "1.2.0",
          "model_name": "LayoutModel",
          "state": {
            "_model_module": "@jupyter-widgets/base",
            "_model_module_version": "1.2.0",
            "_model_name": "LayoutModel",
            "_view_count": null,
            "_view_module": "@jupyter-widgets/base",
            "_view_module_version": "1.2.0",
            "_view_name": "LayoutView",
            "align_content": null,
            "align_items": null,
            "align_self": null,
            "border": null,
            "bottom": null,
            "display": null,
            "flex": null,
            "flex_flow": null,
            "grid_area": null,
            "grid_auto_columns": null,
            "grid_auto_flow": null,
            "grid_auto_rows": null,
            "grid_column": null,
            "grid_gap": null,
            "grid_row": null,
            "grid_template_areas": null,
            "grid_template_columns": null,
            "grid_template_rows": null,
            "height": null,
            "justify_content": null,
            "justify_items": null,
            "left": null,
            "margin": null,
            "max_height": null,
            "max_width": null,
            "min_height": null,
            "min_width": null,
            "object_fit": null,
            "object_position": null,
            "order": null,
            "overflow": null,
            "overflow_x": null,
            "overflow_y": null,
            "padding": null,
            "right": null,
            "top": null,
            "visibility": null,
            "width": null
          }
        },
        "f77dabc04eab4560ae522f2dcb113a44": {
          "model_module": "@jupyter-widgets/base",
          "model_module_version": "1.2.0",
          "model_name": "LayoutModel",
          "state": {
            "_model_module": "@jupyter-widgets/base",
            "_model_module_version": "1.2.0",
            "_model_name": "LayoutModel",
            "_view_count": null,
            "_view_module": "@jupyter-widgets/base",
            "_view_module_version": "1.2.0",
            "_view_name": "LayoutView",
            "align_content": null,
            "align_items": null,
            "align_self": null,
            "border": null,
            "bottom": null,
            "display": null,
            "flex": null,
            "flex_flow": null,
            "grid_area": null,
            "grid_auto_columns": null,
            "grid_auto_flow": null,
            "grid_auto_rows": null,
            "grid_column": null,
            "grid_gap": null,
            "grid_row": null,
            "grid_template_areas": null,
            "grid_template_columns": null,
            "grid_template_rows": null,
            "height": null,
            "justify_content": null,
            "justify_items": null,
            "left": null,
            "margin": null,
            "max_height": null,
            "max_width": null,
            "min_height": null,
            "min_width": null,
            "object_fit": null,
            "object_position": null,
            "order": null,
            "overflow": null,
            "overflow_x": null,
            "overflow_y": null,
            "padding": null,
            "right": null,
            "top": null,
            "visibility": "hidden",
            "width": null
          }
        },
        "fdf7136a9c2241eca2040bc4bfe47a29": {
          "model_module": "@jupyter-widgets/base",
          "model_module_version": "1.2.0",
          "model_name": "LayoutModel",
          "state": {
            "_model_module": "@jupyter-widgets/base",
            "_model_module_version": "1.2.0",
            "_model_name": "LayoutModel",
            "_view_count": null,
            "_view_module": "@jupyter-widgets/base",
            "_view_module_version": "1.2.0",
            "_view_name": "LayoutView",
            "align_content": null,
            "align_items": null,
            "align_self": null,
            "border": null,
            "bottom": null,
            "display": null,
            "flex": null,
            "flex_flow": null,
            "grid_area": null,
            "grid_auto_columns": null,
            "grid_auto_flow": null,
            "grid_auto_rows": null,
            "grid_column": null,
            "grid_gap": null,
            "grid_row": null,
            "grid_template_areas": null,
            "grid_template_columns": null,
            "grid_template_rows": null,
            "height": null,
            "justify_content": null,
            "justify_items": null,
            "left": null,
            "margin": null,
            "max_height": null,
            "max_width": null,
            "min_height": null,
            "min_width": null,
            "object_fit": null,
            "object_position": null,
            "order": null,
            "overflow": null,
            "overflow_x": null,
            "overflow_y": null,
            "padding": null,
            "right": null,
            "top": null,
            "visibility": null,
            "width": null
          }
        },
        "fed76f0c868346e3bfe6a50c15da7a1e": {
          "model_module": "@jupyter-widgets/controls",
          "model_module_version": "1.5.0",
          "model_name": "HBoxModel",
          "state": {
            "_dom_classes": [],
            "_model_module": "@jupyter-widgets/controls",
            "_model_module_version": "1.5.0",
            "_model_name": "HBoxModel",
            "_view_count": null,
            "_view_module": "@jupyter-widgets/controls",
            "_view_module_version": "1.5.0",
            "_view_name": "HBoxView",
            "box_style": "",
            "children": [
              "IPY_MODEL_8f122c563740422e94ddd1efa28163b9",
              "IPY_MODEL_8e0394f5e75e4548972ad7db2b019121",
              "IPY_MODEL_bd38abb19bcd415183c5dd2741339b8c"
            ],
            "layout": "IPY_MODEL_f77dabc04eab4560ae522f2dcb113a44"
          }
        }
      }
    }
  },
  "nbformat": 4,
  "nbformat_minor": 0
}
